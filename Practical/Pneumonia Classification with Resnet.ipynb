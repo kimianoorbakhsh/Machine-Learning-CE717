{
  "nbformat": 4,
  "nbformat_minor": 0,
  "metadata": {
    "colab": {
      "name": "HW7.ipynb",
      "provenance": [],
      "collapsed_sections": []
    },
    "kernelspec": {
      "name": "python3",
      "display_name": "Python 3"
    },
    "language_info": {
      "name": "python"
    },
    "accelerator": "GPU"
  },
  "cells": [
    {
      "cell_type": "markdown",
      "metadata": {
        "id": "kWlZe6PjLRIu"
      },
      "source": [
        "**Dependencies**"
      ]
    },
    {
      "cell_type": "code",
      "metadata": {
        "colab": {
          "base_uri": "https://localhost:8080/"
        },
        "id": "NQwdZLh9AW-D",
        "outputId": "ac73b427-6cb7-44ce-f116-40ac4cadba2c"
      },
      "source": [
        "from google.colab import drive\n",
        "drive.mount('/content/drive')"
      ],
      "execution_count": 9,
      "outputs": [
        {
          "output_type": "stream",
          "text": [
            "Mounted at /content/drive\n"
          ],
          "name": "stdout"
        }
      ]
    },
    {
      "cell_type": "code",
      "metadata": {
        "colab": {
          "base_uri": "https://localhost:8080/"
        },
        "id": "qQjoE1DNpuLT",
        "outputId": "27a34e96-50b9-452b-a158-ca039bd2c5ca"
      },
      "source": [
        "!pip install Pillow"
      ],
      "execution_count": null,
      "outputs": [
        {
          "output_type": "stream",
          "text": [
            "Requirement already satisfied: Pillow in /usr/local/lib/python3.7/dist-packages (7.1.2)\n"
          ],
          "name": "stdout"
        }
      ]
    },
    {
      "cell_type": "code",
      "metadata": {
        "id": "l8mDI2x1LTfI"
      },
      "source": [
        "import numpy as np\n",
        "import pandas as pd\n",
        "import torch\n",
        "import os\n",
        "import glob\n",
        "import matplotlib.pyplot as plt\n",
        "import seaborn as sn\n",
        "import torch.nn.functional as F \n",
        "from torch import nn,optim\n",
        "from torchvision import transforms \n",
        "from torchvision.datasets import ImageFolder\n",
        "from torchvision.utils import make_grid\n",
        "from torch.utils.data import Dataset, DataLoader\n",
        "from collections import OrderedDict\n",
        "from PIL import Image, ImageOps"
      ],
      "execution_count": 2,
      "outputs": []
    },
    {
      "cell_type": "markdown",
      "metadata": {
        "id": "CA6LAVHF9EJx"
      },
      "source": [
        "# Downloading and Preparing Data"
      ]
    },
    {
      "cell_type": "markdown",
      "metadata": {
        "id": "0VL4lJxW9K70"
      },
      "source": [
        "**Run this section in case you need to download the data, please mount your google drive before running this section.**"
      ]
    },
    {
      "cell_type": "code",
      "metadata": {
        "id": "PlUCF_Nc7h_t"
      },
      "source": [
        "# Import OS for navigation and environment set up\n",
        "import os\n",
        "# Check current location, '/content' is the Colab virtual machine\n",
        "os.getcwd()\n",
        "# Enable the Kaggle environment, use the path to the directory your Kaggle API JSON is stored in\n",
        "os.environ['KAGGLE_CONFIG_DIR'] = '/content/drive/MyDrive/HW7'"
      ],
      "execution_count": null,
      "outputs": []
    },
    {
      "cell_type": "code",
      "metadata": {
        "id": "yfM94DCL8ZQf"
      },
      "source": [
        "!pip install kaggle"
      ],
      "execution_count": null,
      "outputs": []
    },
    {
      "cell_type": "code",
      "metadata": {
        "colab": {
          "base_uri": "https://localhost:8080/"
        },
        "id": "vBx5lAK_8o5X",
        "outputId": "fbd3b536-d640-4817-ff9a-7cc03d56d863"
      },
      "source": [
        "# Navigate into Drive where you want to store your Kaggle data\n",
        "os.chdir('/content/drive/MyDrive/HW7')\n",
        "# Paste and run the copied API command, the data will download to the current directory\n",
        "!kaggle datasets download -d paultimothymooney/chest-xray-pneumonia\n",
        "# Check contents of directory, you should see the .zip file for the competition in your Drive\n",
        "os.listdir()"
      ],
      "execution_count": null,
      "outputs": [
        {
          "output_type": "stream",
          "text": [
            "Downloading chest-xray-pneumonia.zip to /content/drive/MyDrive/HW7\n",
            "100% 2.29G/2.29G [00:51<00:00, 47.6MB/s]\n",
            "100% 2.29G/2.29G [00:51<00:00, 48.0MB/s]\n"
          ],
          "name": "stdout"
        },
        {
          "output_type": "execute_result",
          "data": {
            "text/plain": [
              "['kaggle.json', 'HW7.ipynb', 'chest-xray-pneumonia.zip']"
            ]
          },
          "metadata": {
            "tags": []
          },
          "execution_count": 3
        }
      ]
    },
    {
      "cell_type": "code",
      "metadata": {
        "colab": {
          "base_uri": "https://localhost:8080/"
        },
        "id": "xtZCIf6WDLN5",
        "outputId": "2bb6c881-8268-465a-dc4f-4530bdc8a406"
      },
      "source": [
        "# Complete path to storage location of the .zip file of data\n",
        "zip_path = '/content/drive/MyDrive/HW7/chest-xray-pneumonia.zip'\n",
        "# Check current directory (be sure you're in the directory where Colab operates: '/content')\n",
        "os.getcwd()\n",
        "# Copy the .zip file into the present directory\n",
        "!cp '{zip_path}' .\n",
        "# Unzip quietly \n",
        "!unzip -q 'chest-xray-pneumonia.zip'\n",
        "# View the unzipped contents in the virtual machine\n",
        "os.listdir()"
      ],
      "execution_count": null,
      "outputs": [
        {
          "output_type": "stream",
          "text": [
            "cp: '/content/drive/MyDrive/HW7/chest-xray-pneumonia.zip' and './chest-xray-pneumonia.zip' are the same file\n"
          ],
          "name": "stdout"
        },
        {
          "output_type": "execute_result",
          "data": {
            "text/plain": [
              "['kaggle.json', 'HW7.ipynb', 'chest-xray-pneumonia.zip', 'chest_xray']"
            ]
          },
          "metadata": {
            "tags": []
          },
          "execution_count": 4
        }
      ]
    },
    {
      "cell_type": "markdown",
      "metadata": {
        "id": "R3b85CigHX0Y"
      },
      "source": [
        "# Creating the Dataloader and the Dataset"
      ]
    },
    {
      "cell_type": "markdown",
      "metadata": {
        "id": "0YlLFyTskOru"
      },
      "source": [
        "**Specifying the paths**"
      ]
    },
    {
      "cell_type": "code",
      "metadata": {
        "id": "eGSZe4f_Hcla"
      },
      "source": [
        "train_normal = glob.glob('/content/drive/MyDrive/HW7/chest_xray/train/NORMAL/*')\n",
        "train_pneumonia = glob.glob('/content/drive/MyDrive/HW7/chest_xray/train/PNEUMONIA/*')\n",
        "test_normal = glob.glob('/content/drive/MyDrive/HW7/chest_xray/test/NORMAL/*')\n",
        "test_pneumonia = glob.glob('/content/drive/MyDrive/HW7/chest_xray/test/PNEUMONIA/*')\n",
        "val_normal = glob.glob('/content/drive/MyDrive/HW7/chest_xray/val/NORMAL/*')\n",
        "val_pneumonia = glob.glob('/content/drive/MyDrive/HW7/chest_xray/val/PNEUMONIA/*')\n",
        "train_paths = train_normal + train_pneumonia\n",
        "val_paths = val_normal + val_pneumonia\n",
        "test_paths = test_normal + test_pneumonia\n",
        "train_labels = [0] * len(train_normal) + [1] * len(train_pneumonia)\n",
        "val_labels = [0] * len(val_normal) + [1] * len(val_pneumonia)\n",
        "test_labels = [0] * len(test_normal) + [1] * len(test_pneumonia)"
      ],
      "execution_count": 10,
      "outputs": []
    },
    {
      "cell_type": "markdown",
      "metadata": {
        "id": "W9qdeGORkQPn"
      },
      "source": [
        "**Creating the dataset class**"
      ]
    },
    {
      "cell_type": "code",
      "metadata": {
        "id": "ainkkP4ojdtQ"
      },
      "source": [
        "class PneumoniaDataset(Dataset):\n",
        "    def __init__(self, paths, labels, transform=None):\n",
        "        self.paths = paths\n",
        "        self.labels = labels\n",
        "        self.transform = transform\n",
        "        \n",
        "    def __len__(self):\n",
        "        return len(self.paths)\n",
        "    \n",
        "    def __getitem__(self, index):\n",
        "        path = self.paths[index]\n",
        "        image = Image.open(path).convert(\"RGB\")\n",
        "        if self.transform:\n",
        "          image = self.transform(image)\n",
        "    \n",
        "        label = self.labels[index]\n",
        "        label = torch.tensor([label])\n",
        "        \n",
        "        return image, label"
      ],
      "execution_count": 11,
      "outputs": []
    },
    {
      "cell_type": "markdown",
      "metadata": {
        "id": "_7tnS0b2x0P8"
      },
      "source": [
        "**Creating Data Augmentations**"
      ]
    },
    {
      "cell_type": "markdown",
      "metadata": {
        "id": "KKzLcHMlXCD4"
      },
      "source": [
        "Because providing labeled medical images is a challenging task, data scientists use data augmentation techniques to increase their datasets' size and improve their models' generalizability. \n",
        "\n",
        "The following are some popular data augmentations in medical images:\n",
        "\n",
        "\n",
        "1.   Rotation\n",
        "2.   Random affine while keeping the center\n",
        "3.   Cropping the image\n",
        "4.   Zooming\n",
        "5.   Adding noise to the image\n",
        "6.   Flipping the image \n",
        "7.   (sometimes) Blurring the image\n",
        "\n",
        "I use the first 3 of them in this code.\n",
        "\n"
      ]
    },
    {
      "cell_type": "code",
      "metadata": {
        "id": "mQrpG5zibIJy"
      },
      "source": [
        "train_transform = transforms.Compose([\n",
        "    transforms.ToTensor(), \n",
        "    transforms.Resize((216, 216)),\n",
        "    transforms.RandomApply([\n",
        "         transforms.RandomApply([transforms.RandomRotation(25)], 0.7),\n",
        "         transforms.RandomApply([transforms.RandomAffine(0, shear=0.2)], 0.7),\n",
        "         transforms.RandomApply([transforms.RandomResizedCrop(size = 216, scale=(0.7, 1.4))], 0.7)\n",
        "        ], p= 0.5)\n",
        "])\n",
        "\n",
        "test_valid_transform = transforms.Compose([\n",
        "    transforms.ToTensor(),\n",
        "    transforms.Resize((216, 216))\n",
        "])"
      ],
      "execution_count": 12,
      "outputs": []
    },
    {
      "cell_type": "code",
      "metadata": {
        "id": "mYpQMsnNuKE6"
      },
      "source": [
        "train_dataset = PneumoniaDataset(train_paths, train_labels, transform=train_transform)\n",
        "valid_dataset = PneumoniaDataset(val_paths, val_labels, transform=test_valid_transform)\n",
        "test_dataset = PneumoniaDataset(test_paths, test_labels, transform=test_valid_transform)"
      ],
      "execution_count": 13,
      "outputs": []
    },
    {
      "cell_type": "code",
      "metadata": {
        "id": "akgf7xzTR-2U"
      },
      "source": [
        "batch_size = 256\n",
        "train_dataloader = DataLoader(train_dataset, batch_size=batch_size, shuffle=True)\n",
        "valid_dataloader = DataLoader(valid_dataset, batch_size=batch_size, shuffle=True)\n",
        "test_dataloader = DataLoader(test_dataset, batch_size=batch_size, shuffle=True)"
      ],
      "execution_count": 14,
      "outputs": []
    },
    {
      "cell_type": "markdown",
      "metadata": {
        "id": "4j9OAIjvdNSn"
      },
      "source": [
        "# Model Implementation"
      ]
    },
    {
      "cell_type": "code",
      "metadata": {
        "id": "gPPfZcyFdPAR"
      },
      "source": [
        "class ResidualBlock(nn.Module):\n",
        "    def __init__(self, in_channels, out_channels, kernel_size,  pad, include_dropout = False):\n",
        "        super(ResidualBlock, self).__init__()\n",
        "        self.conv1 = nn.Conv2d(in_channels, out_channels, kernel_size=kernel_size, stride=3, padding=pad)\n",
        "        self.bn1 = nn.BatchNorm2d(out_channels)\n",
        "        self.conv2 = nn.Conv2d(out_channels, out_channels, kernel_size=kernel_size, stride=1, padding= pad + 1)\n",
        "        self.bn2 = nn.BatchNorm2d(out_channels)\n",
        "        self.downsample = nn.Sequential(\n",
        "              nn.Conv2d(in_channels, out_channels, kernel_size= 1, stride=3),\n",
        "              nn.BatchNorm2d(out_channels))\n",
        "        self.relu = nn.ReLU(inplace=True)\n",
        "        self.include_dropout = include_dropout\n",
        "        if self.include_dropout:\n",
        "          self.dropout = nn.Dropout(0.4) \n",
        "\n",
        "    def forward(self, x):\n",
        "        I = x.clone()\n",
        "        output = self.relu(self.bn1(self.conv1(x)))\n",
        "        output = self.bn2(self.conv2(output))\n",
        "        if self.downsample:\n",
        "            I = self.downsample(x)\n",
        "        output = output + I\n",
        "        if self.include_dropout:\n",
        "          output = self.dropout(output)\n",
        "        output = self.relu(output)\n",
        "        return output"
      ],
      "execution_count": 15,
      "outputs": []
    },
    {
      "cell_type": "code",
      "metadata": {
        "id": "wBexznntStgc"
      },
      "source": [
        "class PneumoniaResNet(nn.Module):\n",
        "    def __init__(self, num_classes=2, include_dropout=False):\n",
        "        super(PneumoniaResNet, self).__init__()\n",
        "        self.in_channels = 3\n",
        "        self.block1 = ResidualBlock(in_channels=3, out_channels=16, kernel_size=7, pad = 2, include_dropout=include_dropout)\n",
        "        self.block2 = ResidualBlock(in_channels=16, out_channels=32, kernel_size=5, pad = 1, include_dropout=include_dropout)\n",
        "        self.block3 = ResidualBlock(in_channels=32, out_channels=64, kernel_size=3, pad = 0, include_dropout=include_dropout)\n",
        "        \n",
        "        self.fc = nn.Linear(4096, num_classes)\n",
        "\n",
        "        self.softmax = torch.nn.Softmax(dim=1)\n",
        "\n",
        "    def forward(self, x):\n",
        "        output = self.block1(x)\n",
        "        output = self.block2(output)\n",
        "        output = self.block3(output)\n",
        "\n",
        "        output = output.view(output.shape[0], -1)\n",
        "        output = self.fc(output)\n",
        "        output = self.softmax(output)\n",
        "        return output"
      ],
      "execution_count": 16,
      "outputs": []
    },
    {
      "cell_type": "markdown",
      "metadata": {
        "id": "bGQ0vpW6azSa"
      },
      "source": [
        "# Training the Network"
      ]
    },
    {
      "cell_type": "code",
      "metadata": {
        "colab": {
          "base_uri": "https://localhost:8080/"
        },
        "id": "YfthmaQ0a1Ny",
        "outputId": "dc44684f-40a0-401f-9791-25c677f856a6"
      },
      "source": [
        "device = torch.device('cuda' if torch.cuda.is_available() else 'cpu')\n",
        "print(device)"
      ],
      "execution_count": 17,
      "outputs": [
        {
          "output_type": "stream",
          "text": [
            "cuda\n"
          ],
          "name": "stdout"
        }
      ]
    },
    {
      "cell_type": "markdown",
      "metadata": {
        "id": "QYKBjc3VnPwT"
      },
      "source": [
        "## Without Dropout"
      ]
    },
    {
      "cell_type": "code",
      "metadata": {
        "id": "kAi6YlBTa5Gx",
        "colab": {
          "base_uri": "https://localhost:8080/"
        },
        "outputId": "1e65ded1-57ff-4cf7-f37a-0bc7fbf811ee"
      },
      "source": [
        "model = PneumoniaResNet().to(device)\n",
        "loss_function = nn.CrossEntropyLoss()\n",
        "optimizer = optim.Adam(model.parameters(), lr=1e-4)\n",
        "tr_loss = {}\n",
        "val_loss = {}\n",
        "number_of_epochs = 40\n",
        "for epoch in range(number_of_epochs):\n",
        "    train_losses = []\n",
        "    val_losses = []\n",
        "    all_loss = 0\n",
        "    count = 0\n",
        "    for i, data in enumerate(train_dataloader):\n",
        "        images = data[0]\n",
        "        labels = data[1]\n",
        "        images = images.to(device)\n",
        "        labels = labels.to(device)\n",
        "        optimizer.zero_grad()\n",
        "        \n",
        "        outputs = model(images)\n",
        "        loss = loss_function(outputs, labels.reshape(len(labels)))\n",
        "        train_losses.append(loss.item())\n",
        "\n",
        "        loss.backward()\n",
        "        optimizer.step()\n",
        "        all_loss += loss.item()\n",
        "        count += 1\n",
        "    print(\"Epoch\", epoch , ': training loss :', all_loss/count)\n",
        "    \n",
        "\n",
        "    if epoch % 5 == 0:\n",
        "        for i, data in enumerate(valid_dataloader):\n",
        "            images = data[0]\n",
        "            labels = data[1]\n",
        "            images = images.to(device)\n",
        "            labels = labels.to(device)\n",
        "            optimizer.zero_grad()\n",
        "\n",
        "            outputs = model(images)\n",
        "            loss = loss_function(outputs, labels.reshape(len(labels)))\n",
        "            val_losses.append(loss.item())\n",
        "\n",
        "        tr_loss[epoch] = np.mean(train_losses)\n",
        "        val_loss[epoch] = np.mean(val_losses)\n",
        "        print('Epcoh', epoch, ': average training loss =', np.mean(train_losses), ', average validation loss =', np.mean(val_losses))\n",
        "\n",
        "torch.save(model, '/content/drive/MyDrive/HW7/model_n_drop')"
      ],
      "execution_count": 11,
      "outputs": [
        {
          "output_type": "stream",
          "text": [
            "Epoch 0 : training loss : 0.5575665924698114\n",
            "Epcoh 0 : average training loss = 0.5575665924698114 , average validation loss = 0.603133499622345\n",
            "Epoch 1 : training loss : 0.44247015193104744\n",
            "Epoch 2 : training loss : 0.4054582975804806\n",
            "Epoch 3 : training loss : 0.3943153526633978\n",
            "Epoch 4 : training loss : 0.38946720212697983\n",
            "Epoch 5 : training loss : 0.38674467615783215\n",
            "Epcoh 5 : average training loss = 0.38674467615783215 , average validation loss = 0.5797154903411865\n",
            "Epoch 6 : training loss : 0.3799741845577955\n",
            "Epoch 7 : training loss : 0.37744346261024475\n",
            "Epoch 8 : training loss : 0.3677575644105673\n",
            "Epoch 9 : training loss : 0.37101467698812485\n",
            "Epoch 10 : training loss : 0.372394897043705\n",
            "Epcoh 10 : average training loss = 0.372394897043705 , average validation loss = 0.5852985382080078\n",
            "Epoch 11 : training loss : 0.3654268216341734\n",
            "Epoch 12 : training loss : 0.3624408971518278\n",
            "Epoch 13 : training loss : 0.3697806876152754\n",
            "Epoch 14 : training loss : 0.3637068048119545\n",
            "Epoch 15 : training loss : 0.35781026631593704\n",
            "Epcoh 15 : average training loss = 0.35781026631593704 , average validation loss = 0.5762032866477966\n",
            "Epoch 16 : training loss : 0.3580534439533949\n",
            "Epoch 17 : training loss : 0.36259298399090767\n",
            "Epoch 18 : training loss : 0.35875043272972107\n",
            "Epoch 19 : training loss : 0.3539879694581032\n",
            "Epoch 20 : training loss : 0.3555524926632643\n",
            "Epcoh 20 : average training loss = 0.3555524926632643 , average validation loss = 0.5836475491523743\n",
            "Epoch 21 : training loss : 0.35136834532022476\n",
            "Epoch 22 : training loss : 0.35064404644072056\n",
            "Epoch 23 : training loss : 0.3495772387832403\n",
            "Epoch 24 : training loss : 0.35512238554656506\n",
            "Epoch 25 : training loss : 0.351037310436368\n",
            "Epcoh 25 : average training loss = 0.351037310436368 , average validation loss = 0.5472993850708008\n",
            "Epoch 26 : training loss : 0.349054504185915\n",
            "Epoch 27 : training loss : 0.35052817314863205\n",
            "Epoch 28 : training loss : 0.3490888047963381\n",
            "Epoch 29 : training loss : 0.34984915889799595\n",
            "Epoch 30 : training loss : 0.3514698427170515\n",
            "Epcoh 30 : average training loss = 0.3514698427170515 , average validation loss = 0.599632203578949\n",
            "Epoch 31 : training loss : 0.34946584329009056\n",
            "Epoch 32 : training loss : 0.3485642075538635\n",
            "Epoch 33 : training loss : 0.34254632890224457\n",
            "Epoch 34 : training loss : 0.3470728397369385\n",
            "Epoch 35 : training loss : 0.35451917722821236\n",
            "Epcoh 35 : average training loss = 0.35451917722821236 , average validation loss = 0.5280016660690308\n",
            "Epoch 36 : training loss : 0.3418467529118061\n",
            "Epoch 37 : training loss : 0.3419067058712244\n",
            "Epoch 38 : training loss : 0.348378773778677\n",
            "Epoch 39 : training loss : 0.3445164617151022\n"
          ],
          "name": "stdout"
        }
      ]
    },
    {
      "cell_type": "markdown",
      "metadata": {
        "id": "SSwQ6sZVnUSb"
      },
      "source": [
        "**Loss Plot**"
      ]
    },
    {
      "cell_type": "code",
      "metadata": {
        "id": "9_GoxKg19lHh",
        "colab": {
          "base_uri": "https://localhost:8080/",
          "height": 388
        },
        "outputId": "d80f613a-fc8a-43d2-9450-f0bfdcb34a6d"
      },
      "source": [
        "plt.figure(figsize=(6, 6))\n",
        "plt.plot(list(tr_loss.keys()), list(tr_loss.values()))\n",
        "plt.plot(list(val_loss.keys()), list(val_loss.values()))\n",
        "plt.xlabel('Epoch Number')\n",
        "plt.ylabel('Loss')\n",
        "plt.grid()\n",
        "plt.show()"
      ],
      "execution_count": 12,
      "outputs": [
        {
          "output_type": "display_data",
          "data": {
            "image/png": "[encoded data removed]",
            "text/plain": [
              "<Figure size 432x432 with 1 Axes>"
            ]
          },
          "metadata": {
            "tags": [],
            "needs_background": "light"
          }
        }
      ]
    },
    {
      "cell_type": "markdown",
      "metadata": {
        "id": "l4MEhQOKnXJS"
      },
      "source": [
        "**Accuracy**"
      ]
    },
    {
      "cell_type": "code",
      "metadata": {
        "id": "jQlX3cjMP-TS"
      },
      "source": [
        "def accuracy(model, dataloader, device):\n",
        "    tp = 0\n",
        "    tn = 0\n",
        "    fp = 0\n",
        "    fn = 0\n",
        "    model.eval()\n",
        "    num_correct = 0\n",
        "    num_samples = 0\n",
        "    with torch.no_grad():  \n",
        "        for data, labels in dataloader:\n",
        "            data, labels = data.to(device), labels.to(device)\n",
        "\n",
        "            predictions = model(data).max(1)[1] \n",
        "            labels = labels.reshape(predictions.shape)\n",
        "            l = labels.cpu().detach().numpy()\n",
        "            p = predictions.cpu().detach().numpy()\n",
        "            tp += sum((p == 1) & (l == 1))\n",
        "            tn += sum((p == 0) & (l == 0))\n",
        "            fp += sum((p == 1) & (l == 0))\n",
        "            fn += sum((p == 0) & (l == 1))\n",
        "\n",
        "            num_correct += (predictions == labels).sum().item()\n",
        "            num_samples += predictions.shape[0]\n",
        "    return num_correct / num_samples, tp, tn, fp, fn"
      ],
      "execution_count": 21,
      "outputs": []
    },
    {
      "cell_type": "code",
      "metadata": {
        "colab": {
          "base_uri": "https://localhost:8080/"
        },
        "id": "uEjWHEK2aU9S",
        "outputId": "41ac409d-2756-4efc-ce30-7199faa4a39f"
      },
      "source": [
        "train_acc, _, _, _, _ = accuracy(model, train_dataloader, device)\n",
        "valid_acc, _, _, _, _= accuracy(model, valid_dataloader, device)\n",
        "test_acc, tp, tn, fp, fn = accuracy(model, test_dataloader, device)\n",
        "\n",
        "print(\"\\nAccuracy on training: %.2f%%\" % (100*train_acc))\n",
        "print(\"\\nAccuracy on validation: %.2f%%\" % (100*valid_acc))\n",
        "print(\"\\nAccuracy on test: %.2f%%\" % (100*test_acc))"
      ],
      "execution_count": 54,
      "outputs": [
        {
          "output_type": "stream",
          "text": [
            "\n",
            "Accuracy on training: 96.68%\n",
            "\n",
            "Accuracy on validation: 75.00%\n",
            "\n",
            "Accuracy on test: 88.46%\n"
          ],
          "name": "stdout"
        }
      ]
    },
    {
      "cell_type": "markdown",
      "metadata": {
        "id": "7Kq8liNrm12T"
      },
      "source": [
        "**Confusion Matrix on test set**"
      ]
    },
    {
      "cell_type": "code",
      "metadata": {
        "colab": {
          "base_uri": "https://localhost:8080/",
          "height": 452
        },
        "id": "NHBZ-c4EloH7",
        "outputId": "a9dda0fe-b436-43ce-de9a-33608265feb8"
      },
      "source": [
        "array = [[tp, fp], [fn, tn]]\n",
        "df_cm = pd.DataFrame(array, index = range(2),\n",
        "                  columns = range(2))\n",
        "plt.figure(figsize = (10,7))\n",
        "sn.heatmap(df_cm, annot=True, fmt='g')"
      ],
      "execution_count": 64,
      "outputs": [
        {
          "output_type": "execute_result",
          "data": {
            "text/plain": [
              "<matplotlib.axes._subplots.AxesSubplot at 0x7f6e3a8b18d0>"
            ]
          },
          "metadata": {
            "tags": []
          },
          "execution_count": 64
        },
        {
          "output_type": "display_data",
          "data": {
            "image/png": "[encoded data removed]",
            "text/plain": [
              "<Figure size 720x504 with 2 Axes>"
            ]
          },
          "metadata": {
            "tags": []
          }
        }
      ]
    },
    {
      "cell_type": "markdown",
      "metadata": {
        "id": "UG5JvpJAnf-b"
      },
      "source": [
        "## With Dropout"
      ]
    },
    {
      "cell_type": "code",
      "metadata": {
        "colab": {
          "base_uri": "https://localhost:8080/"
        },
        "id": "ZDekK5hIniQa",
        "outputId": "3f410dad-9c29-4660-e9c8-014e93686146"
      },
      "source": [
        "model_drop = PneumoniaResNet(include_dropout=True).to(device)\n",
        "loss_function = nn.CrossEntropyLoss()\n",
        "optimizer = optim.Adam(model_drop.parameters(), lr=1e-4)\n",
        "tr_loss = {}\n",
        "val_loss = {}\n",
        "number_of_epochs = 40\n",
        "for epoch in range(number_of_epochs):\n",
        "    train_losses = []\n",
        "    val_losses = []\n",
        "    all_loss = 0\n",
        "    count = 0\n",
        "    for i, data in enumerate(train_dataloader):\n",
        "        images = data[0]\n",
        "        labels = data[1]\n",
        "        images = images.to(device)\n",
        "        labels = labels.to(device)\n",
        "        optimizer.zero_grad()\n",
        "        \n",
        "        outputs = model_drop(images)\n",
        "        loss = loss_function(outputs, labels.reshape(len(labels)))\n",
        "        train_losses.append(loss.item())\n",
        "\n",
        "        loss.backward()\n",
        "        optimizer.step()\n",
        "        all_loss += loss.item()\n",
        "        count += 1\n",
        "    print(\"Epoch\", epoch , ': training loss :', all_loss/count)\n",
        "    \n",
        "\n",
        "    if epoch % 5 == 0:\n",
        "        for i, data in enumerate(valid_dataloader):\n",
        "            images = data[0]\n",
        "            labels = data[1]\n",
        "            images = images.to(device)\n",
        "            labels = labels.to(device)\n",
        "            optimizer.zero_grad()\n",
        "\n",
        "            outputs = model_drop(images)\n",
        "            loss = loss_function(outputs, labels.reshape(len(labels)))\n",
        "            val_losses.append(loss.item())\n",
        "\n",
        "        tr_loss[epoch] = np.mean(train_losses)\n",
        "        val_loss[epoch] = np.mean(val_losses)\n",
        "        print('Epcoh', epoch, ': average training loss =', np.mean(train_losses), ', average validation loss =', np.mean(val_losses))\n",
        "\n",
        "torch.save(model_drop, '/content/drive/MyDrive/HW7/model_drop')"
      ],
      "execution_count": 18,
      "outputs": [
        {
          "output_type": "stream",
          "text": [
            "Epoch 0 : training loss : 0.5875480146635146\n",
            "Epcoh 0 : average training loss = 0.5875480146635146 , average validation loss = 0.8101211786270142\n",
            "Epoch 1 : training loss : 0.569656423160008\n",
            "Epoch 2 : training loss : 0.5683466167677016\n",
            "Epoch 3 : training loss : 0.5700090612683978\n",
            "Epoch 4 : training loss : 0.5694674565678551\n",
            "Epoch 5 : training loss : 0.5555589170682997\n",
            "Epcoh 5 : average training loss = 0.5555589170682997 , average validation loss = 0.6320110559463501\n",
            "Epoch 6 : training loss : 0.4748321161383674\n",
            "Epoch 7 : training loss : 0.4140504527659643\n",
            "Epoch 8 : training loss : 0.39892380010514034\n",
            "Epoch 9 : training loss : 0.39038480747313725\n",
            "Epoch 10 : training loss : 0.3864228427410126\n",
            "Epcoh 10 : average training loss = 0.3864228427410126 , average validation loss = 0.6197999715805054\n",
            "Epoch 11 : training loss : 0.3818003890060243\n",
            "Epoch 12 : training loss : 0.3807787157240368\n",
            "Epoch 13 : training loss : 0.38135126658848356\n",
            "Epoch 14 : training loss : 0.3757200567495255\n",
            "Epoch 15 : training loss : 0.37853157378378366\n",
            "Epcoh 15 : average training loss = 0.37853157378378366 , average validation loss = 0.6286601424217224\n",
            "Epoch 16 : training loss : 0.3745121771381015\n",
            "Epoch 17 : training loss : 0.3729062690621331\n",
            "Epoch 18 : training loss : 0.37119931408337187\n",
            "Epoch 19 : training loss : 0.37191414549237206\n",
            "Epoch 20 : training loss : 0.367108390444801\n",
            "Epcoh 20 : average training loss = 0.367108390444801 , average validation loss = 0.6207155585289001\n",
            "Epoch 21 : training loss : 0.36665320964086623\n",
            "Epoch 22 : training loss : 0.3668796320756276\n",
            "Epoch 23 : training loss : 0.36511371107328505\n",
            "Epoch 24 : training loss : 0.36290067434310913\n",
            "Epoch 25 : training loss : 0.36227525557790485\n",
            "Epcoh 25 : average training loss = 0.36227525557790485 , average validation loss = 0.6652910113334656\n",
            "Epoch 26 : training loss : 0.3594120712507339\n",
            "Epoch 27 : training loss : 0.3604244760104588\n",
            "Epoch 28 : training loss : 0.3581687141032446\n",
            "Epoch 29 : training loss : 0.358069448244004\n",
            "Epoch 30 : training loss : 0.3616005976994832\n",
            "Epcoh 30 : average training loss = 0.3616005976994832 , average validation loss = 0.6908605098724365\n",
            "Epoch 31 : training loss : 0.357526285307748\n",
            "Epoch 32 : training loss : 0.36192724676359267\n",
            "Epoch 33 : training loss : 0.35727475796427044\n",
            "Epoch 34 : training loss : 0.35519716285523917\n",
            "Epoch 35 : training loss : 0.35767817923000883\n",
            "Epcoh 35 : average training loss = 0.35767817923000883 , average validation loss = 0.5951956510543823\n",
            "Epoch 36 : training loss : 0.3556481585616157\n",
            "Epoch 37 : training loss : 0.3540732122602917\n",
            "Epoch 38 : training loss : 0.35398738866760615\n",
            "Epoch 39 : training loss : 0.35721573801267714\n"
          ],
          "name": "stdout"
        }
      ]
    },
    {
      "cell_type": "code",
      "metadata": {
        "colab": {
          "base_uri": "https://localhost:8080/",
          "height": 388
        },
        "id": "c9G_RxiloLab",
        "outputId": "30007a78-a06a-4538-87ac-0d9faedaa5dc"
      },
      "source": [
        "plt.figure(figsize=(6, 6))\n",
        "plt.plot(list(tr_loss.keys()), list(tr_loss.values()))\n",
        "plt.plot(list(val_loss.keys()), list(val_loss.values()))\n",
        "plt.xlabel('Epoch Number')\n",
        "plt.ylabel('Loss')\n",
        "plt.grid()\n",
        "plt.show()"
      ],
      "execution_count": 19,
      "outputs": [
        {
          "output_type": "display_data",
          "data": {
            "image/png": "[encoded data removed]",
            "text/plain": [
              "<Figure size 432x432 with 1 Axes>"
            ]
          },
          "metadata": {
            "tags": [],
            "needs_background": "light"
          }
        }
      ]
    },
    {
      "cell_type": "code",
      "metadata": {
        "colab": {
          "base_uri": "https://localhost:8080/"
        },
        "id": "Zo8cGQRRwQI8",
        "outputId": "fb9f40f6-33f4-428d-b51e-1ecb4c428bb0"
      },
      "source": [
        "train_acc, _, _, _, _ = accuracy(model_drop, train_dataloader, device)\n",
        "valid_acc, _, _, _, _= accuracy(model_drop, valid_dataloader, device)\n",
        "test_acc, tp, tn, fp, fn = accuracy(model_drop, test_dataloader, device)\n",
        "\n",
        "print(\"\\nAccuracy on training: %.2f%%\" % (100*train_acc))\n",
        "print(\"\\nAccuracy on validation: %.2f%%\" % (100*valid_acc))\n",
        "print(\"\\nAccuracy on test: %.2f%%\" % (100*test_acc))"
      ],
      "execution_count": 22,
      "outputs": [
        {
          "output_type": "stream",
          "text": [
            "\n",
            "Accuracy on training: 76.73%\n",
            "\n",
            "Accuracy on validation: 50.00%\n",
            "\n",
            "Accuracy on test: 63.14%\n"
          ],
          "name": "stdout"
        }
      ]
    },
    {
      "cell_type": "code",
      "metadata": {
        "colab": {
          "base_uri": "https://localhost:8080/",
          "height": 445
        },
        "id": "DxQ2VewmwVqc",
        "outputId": "cbd9c694-f306-497d-9440-b7c9786bc3ae"
      },
      "source": [
        "array = [[tp, fp], [fn, tn]]\n",
        "df_cm = pd.DataFrame(array, index = range(2),\n",
        "                  columns = range(2))\n",
        "plt.figure(figsize = (10,7))\n",
        "sn.heatmap(df_cm, annot=True, fmt='g')"
      ],
      "execution_count": 23,
      "outputs": [
        {
          "output_type": "execute_result",
          "data": {
            "text/plain": [
              "<matplotlib.axes._subplots.AxesSubplot at 0x7f6cd9108610>"
            ]
          },
          "metadata": {
            "tags": []
          },
          "execution_count": 23
        },
        {
          "output_type": "display_data",
          "data": {
            "image/png": "[encoded data removed]",
            "text/plain": [
              "<Figure size 720x504 with 2 Axes>"
            ]
          },
          "metadata": {
            "tags": [],
            "needs_background": "light"
          }
        }
      ]
    },
    {
      "cell_type": "markdown",
      "metadata": {
        "id": "-e2NYTKkYdoH"
      },
      "source": [
        "**Note on Dropout:**\n",
        "\n",
        "The dropout results are not good with the same number of epochs as the case we do not use dropout. The reason is that dropout adds some randomness to this process, meaning that it would help the model with generalization, but in this case, we need to train our model more."
      ]
    }
  ]
}