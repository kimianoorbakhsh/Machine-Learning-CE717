{
 "cells": [
  {
   "cell_type": "code",
   "execution_count": 1,
   "metadata": {},
   "outputs": [],
   "source": [
    "import numpy as np\n",
    "import random\n",
    "import scipy.io as sio\n",
    "import matplotlib.pyplot as plt"
   ]
  },
  {
   "cell_type": "code",
   "execution_count": 2,
   "metadata": {},
   "outputs": [],
   "source": [
    "def loadLDPC(filename):\n",
    "    A = sio.loadmat(filename)\n",
    "    G = A['G']\n",
    "    H = A['H']\n",
    "    return G, H"
   ]
  },
  {
   "cell_type": "code",
   "execution_count": 40,
   "metadata": {},
   "outputs": [],
   "source": [
    "def apply_channel_noise(y, epsilon):\n",
    "    ## TODO, complement each bit with probability epsilon\n",
    "    return np.array([i if np.random.rand() > epsilon else int(not i) for i in y])"
   ]
  },
  {
   "cell_type": "code",
   "execution_count": 4,
   "metadata": {},
   "outputs": [],
   "source": [
    "def encode_message(x, G):\n",
    "    new_message = np.dot(G, x) % 2\n",
    "    ## TODO, implement Gx % 2 :-))\n",
    "    return new_message"
   ]
  },
  {
   "cell_type": "markdown",
   "metadata": {},
   "source": [
    "---"
   ]
  },
  {
   "cell_type": "code",
   "execution_count": 5,
   "metadata": {},
   "outputs": [],
   "source": [
    "class FactorTypeOne():\n",
    "    def __init__(self, y_til, epsilon):\n",
    "        self.y_til = y_til\n",
    "        self.epsilon = epsilon\n",
    "    \n",
    "    def calculate_value(self, y):\n",
    "        return self.epsilon if y != self.y_til else 1 - self.epsilon"
   ]
  },
  {
   "cell_type": "code",
   "execution_count": 6,
   "metadata": {},
   "outputs": [],
   "source": [
    "class FactorTypeTwo():\n",
    "    def __init__(self, scope):\n",
    "        # consider a factor: \\phi(1, 4, 6), so in this case scope = [1,4,6]\n",
    "        self.scope = np.array(scope)\n",
    "    \n",
    "    def calculate_value(self, scope_assignment):\n",
    "        # if sum(scope_assignment) is even, the value = 1, O.W 0\n",
    "        return 1 if sum(scope_assignment) % 2 == 0 else 0\n"
   ]
  },
  {
   "cell_type": "code",
   "execution_count": 41,
   "metadata": {},
   "outputs": [],
   "source": [
    "class FactorGraph():\n",
    "    \n",
    "    def __init__(self, H, epsilon, y_tilde):\n",
    "        self.factors_type1 = [] # list of FactorTypeOne\n",
    "        self.factors_type2 = [] # list of FactorTypeTwo\n",
    "        self.var_to_factor = {} # map --> (var, [factors related to this var])\n",
    "        self.factor_to_var = {} # map --> (factor, [vars related to this factor])\n",
    "        self.messagesVarToFactor = {}\n",
    "        self.messagesFactorToVar = {}\n",
    "        \n",
    "        for i,b in enumerate(y_tilde):\n",
    "            self.factors_type1.append(FactorTypeOne(y_tilde[i], epsilon))\n",
    "            self.var_to_factor[i] = [(1, len(self.factors_type1) - 1), ] # 1 means that the factor is from the first type\n",
    "            self.factor_to_var[(1, len(self.factors_type1) - 1)] = [i, ] # 1 means that the factor is from the first type\n",
    "        \n",
    "        for row in H:\n",
    "            scope = [var for var in range(len(y_tilde)) if row[var] == 1]\n",
    "            self.factors_type2.append(FactorTypeTwo(scope))\n",
    "            \n",
    "            for i in scope:\n",
    "                self.var_to_factor[i].append((2, len(self.factors_type2) - 1)) # 2 means that the factor is from the 2nd type\n",
    "                \n",
    "            self.factor_to_var[(2, len(self.factors_type2) - 1)] = scope       # 2 means that the factor is from the 2nd type\n",
    "        \n",
    "        \n",
    "    ############################################################################################################       \n",
    "        \n",
    "        \n",
    "    def assignment_probability(self, assignment):\n",
    "        prob = 1\n",
    "        \n",
    "        # For unary Factors:\n",
    "        for i, b in enumerate(assignment):\n",
    "            prob_this_bit = self.factors_type1[i].calculate_value(b)\n",
    "            #  TODO: implement the easy single line to compute the value of this factor\n",
    "            prob *= prob_this_bit\n",
    "        \n",
    "        # Second Type\n",
    "        for f2 in self.factors_type2:\n",
    "            #TODO: compute the scope assignment of this factor, due to the given assignment\n",
    "            prob *= f2.calculate_value(assignment[f2.scope])\n",
    "            \n",
    "        return prob\n",
    "    \n",
    "    \n",
    "    ############################################################################################################       \n",
    "    \n",
    "    \n",
    "    def LoopyBP(self, n_iteration):\n",
    "        \n",
    "        for ite in range(n_iteration):\n",
    "\n",
    "            prevMessagesVarToFactor = {}\n",
    "            prevMessagesFactorToVar = {}\n",
    "            \n",
    "            for i, vrbs in enumerate(self.var_to_factor):\n",
    "                factors = self.var_to_factor[vrbs]\n",
    "                for s in factors:\n",
    "                    if (vrbs, s) not in self.messagesVarToFactor:\n",
    "                        self.messagesVarToFactor[(vrbs, s)] = np.array([0.5, 0.5])\n",
    "                    prevMessagesVarToFactor[(vrbs, s)] = self.messagesVarToFactor[(vrbs, s)]\n",
    "                    \n",
    "            for s, fcts in enumerate(self.factor_to_var):\n",
    "                variables = self.factor_to_var[fcts]\n",
    "                for x in variables:\n",
    "                    if (fcts, x) not in self.messagesFactorToVar:\n",
    "                        self.messagesFactorToVar[(fcts, x)] = np.array([0.5, 0.5])\n",
    "                    prevMessagesFactorToVar[(fcts, x)] = self.messagesFactorToVar[(fcts, x)]\n",
    "                    \n",
    "            # Update the message var -> factor\n",
    "            for xm in self.var_to_factor:\n",
    "                factors = self.var_to_factor[xm]\n",
    "                for fs in factors:\n",
    "                    m0, m1 = 1.0 , 1.0\n",
    "                    for l in factors:\n",
    "                        if l == fs:\n",
    "                            continue\n",
    "                        m0 *= self.messagesFactorToVar[(l, xm)][0]\n",
    "                        m1 *= self.messagesFactorToVar[(l, xm)][1]\n",
    "                        \n",
    "                    self.messagesVarToFactor[(xm, fs)] = np.array([m0 / (m0 + m1), m1 / (m0 + m1)])\n",
    "                # TODO: complete this loop\n",
    "\n",
    "            # Update the message factor -> var\n",
    "            for fs in self.factor_to_var:\n",
    "                variables = self.factor_to_var[fs]\n",
    "        \n",
    "                factor_type = fs[0]\n",
    "                \n",
    "                if factor_type == 1:\n",
    "                    m0 = self.factors_type1[fs[1]].calculate_value(0)\n",
    "                    m1 = self.factors_type1[fs[1]].calculate_value(1)\n",
    "                    \n",
    "                    self.messagesFactorToVar[(fs, variables[0])] = np.array([m0 / (m0 + m1), m1 / (m0 + m1)])\n",
    "                    continue\n",
    "                    \n",
    "                \n",
    "\n",
    "                for i, x in enumerate(variables):\n",
    "                    s0, s1 = 0.0 , 0.0\n",
    "                    for state in range(2 ** len(variables)):\n",
    "                        \n",
    "                        y = [int(j) for j in bin(state)[2:]]\n",
    "                        for k in range(len(variables) - len(y)):\n",
    "                            y.insert(0, 0)\n",
    "                        y = np.array(y)    \n",
    "                        factor_value = self.factors_type2[fs[1]].calculate_value(y)\n",
    "                        for index, xm in enumerate(variables):\n",
    "                            if x == xm:\n",
    "                                continue    \n",
    "                            factor_value *= prevMessagesVarToFactor[(xm, fs)][y[index]]\n",
    "                        \n",
    "                        if (y[i]) == 0:\n",
    "                            s0 += factor_value\n",
    "                        else:\n",
    "                            s1 += factor_value\n",
    "                    \n",
    "                    self.messagesFactorToVar[(fs, x)] = np.array([s0 / (s0 + s1), s1 / (s0 + s1)])\n",
    "            \n",
    "            \n",
    "            if ite % 10 == 0 and ite > 0:\n",
    "                print(\"Finished Loopy Iteration %s\" % ite)\n",
    "    \n",
    "    \n",
    "    ############################################################################################################       \n",
    "    \n",
    "    \n",
    "    def estimate_marginal_probability(self, var):\n",
    "        '''\n",
    "        This method assumes LoopyBP has been run\n",
    "        '''\n",
    "        res = np.array([1.0, 1.0])\n",
    "        for factor in self.var_to_factor[var]:\n",
    "            for i in range(2):\n",
    "                res[i] *= self.messagesFactorToVar[(factor, var)][i]\n",
    "        \n",
    "        if sum(res) == 0:\n",
    "            return res\n",
    "        else:\n",
    "            return res / sum(res)\n",
    "        \n",
    "        \n",
    "    ############################################################################################################       \n",
    "    \n",
    "    \n",
    "    def get_marginal_MAP(self):\n",
    "        output = np.zeros(256)\n",
    "        for i, var in enumerate(range(256)):\n",
    "            output[i] = np.argmax(self.estimate_marginal_probability(i))\n",
    "        return output\n",
    "    \n",
    "        \n",
    "    "
   ]
  },
  {
   "cell_type": "markdown",
   "metadata": {},
   "source": [
    "---"
   ]
  },
  {
   "cell_type": "code",
   "execution_count": null,
   "metadata": {},
   "outputs": [],
   "source": [
    "y_tilde = np.array([[1, 1, 1, 1, 1, 1]]).reshape(6, 1)\n",
    "H = np.array([\n",
    "        [0, 1, 1, 0, 1, 0],\n",
    "        [1, 0, 1, 0, 1, 1],\n",
    "        [0, 1, 0, 1, 1, 0]])\n",
    "epsilon = 0.05\n",
    "\n",
    "Graph = FactorGraph(H, epsilon, y_tilde)\n",
    "\n",
    "ytest1 = np.array([0, 1, 1, 0, 1, 0])\n",
    "ytest2 = np.array([1, 0, 1, 1, 0, 1])\n",
    "ytest3 = np.array([1, 0, 1, 1, 1, 1])\n",
    "\n",
    "print(Graph.assignment_probability(ytest1))\n",
    "print(Graph.assignment_probability(ytest2))\n",
    "print(Graph.assignment_probability(ytest3))\n"
   ]
  },
  {
   "cell_type": "code",
   "execution_count": 49,
   "metadata": {},
   "outputs": [
    {
     "name": "stdout",
     "output_type": "stream",
     "text": [
      "[1 0 0]\n",
      "[1 1 1]\n",
      "[0 0 0]\n"
     ]
    }
   ],
   "source": [
    "for i in [ytest1, ytest2, ytest3]:\n",
    "    print(np.dot(H, i) % 2)"
   ]
  },
  {
   "cell_type": "markdown",
   "metadata": {},
   "source": [
    "The third one is zero and therefore, the probability is not zero, but the two others are 0."
   ]
  },
  {
   "cell_type": "markdown",
   "metadata": {},
   "source": [
    "---"
   ]
  },
  {
   "cell_type": "code",
   "execution_count": 46,
   "metadata": {},
   "outputs": [
    {
     "name": "stdout",
     "output_type": "stream",
     "text": [
      "Finished Loopy Iteration 10\n",
      "Finished Loopy Iteration 20\n",
      "Finished Loopy Iteration 30\n",
      "Finished Loopy Iteration 40\n",
      "Actual: \n",
      " [1 1 1 1 1 1 1 1 1 1 1 1 1 1 1 1 1 1 1 1 1 1 1 1 1 1 1 1 1 1 1 1 1 1 1 1 1\n",
      " 1 1 1 1 1 1 1 1 1 1 1 1 1 1 1 1 1 1 1 1 1 1 1 1 1 1 1 1 1 1 1 1 1 1 1 1 1\n",
      " 1 1 1 1 1 1 1 1 1 1 1 1 1 1 1 1 1 1 1 1 1 1 1 1 1 1 1 1 1 1 1 1 1 1 1 1 1\n",
      " 1 1 1 1 1 1 1 1 1 1 1 1 1 1 1 1 1 0 1 0 0 1 0 1 1 1 0 0 1 1 0 1 0 1 1 1 0\n",
      " 1 0 1 0 1 0 1 1 1 1 1 1 1 1 1 0 1 1 1 1 0 1 1 0 1 0 1 1 1 0 1 0 0 0 0 1 0\n",
      " 1 0 1 1 1 0 0 0 1 0 0 1 1 0 1 1 1 0 1 1 0 0 0 0 1 1 1 1 0 1 1 0 1 1 0 1 1\n",
      " 0 0 0 0 0 1 0 1 1 1 0 0 1 1 0 0 0 0 0 0 0 1 0 0 1 0 1 0 1 1 1 0 0 1]\n",
      "\n",
      "Predicted: \n",
      " [1. 1. 1. 1. 1. 1. 1. 1. 1. 1. 1. 1. 1. 1. 1. 1. 1. 1. 1. 1. 1. 1. 1. 1.\n",
      " 1. 1. 1. 1. 1. 1. 1. 1. 1. 1. 1. 1. 1. 1. 1. 1. 1. 1. 1. 1. 1. 1. 1. 1.\n",
      " 1. 1. 1. 1. 1. 1. 1. 1. 1. 1. 1. 1. 1. 1. 1. 1. 1. 1. 1. 1. 1. 1. 1. 1.\n",
      " 1. 1. 1. 1. 1. 1. 1. 1. 1. 1. 1. 1. 1. 1. 1. 1. 1. 1. 1. 1. 1. 1. 1. 1.\n",
      " 1. 1. 1. 1. 1. 1. 1. 1. 1. 1. 1. 1. 1. 1. 1. 1. 1. 1. 1. 1. 1. 1. 1. 1.\n",
      " 1. 1. 1. 1. 1. 1. 1. 1. 0. 1. 0. 0. 1. 0. 1. 1. 1. 0. 0. 1. 1. 0. 1. 0.\n",
      " 1. 1. 1. 0. 1. 0. 1. 0. 1. 0. 1. 1. 1. 1. 1. 1. 1. 1. 1. 0. 1. 1. 1. 1.\n",
      " 0. 1. 1. 0. 1. 0. 1. 1. 1. 0. 1. 0. 0. 0. 0. 1. 0. 1. 0. 1. 1. 1. 0. 0.\n",
      " 0. 1. 0. 0. 1. 1. 0. 1. 1. 1. 0. 1. 1. 0. 0. 0. 0. 1. 1. 1. 1. 0. 1. 1.\n",
      " 0. 1. 1. 0. 1. 1. 0. 0. 0. 0. 0. 1. 0. 1. 1. 1. 0. 0. 1. 1. 0. 0. 0. 0.\n",
      " 0. 0. 0. 1. 0. 0. 1. 0. 1. 0. 1. 1. 1. 0. 0. 1.]\n",
      "Accuracy:  100.0\n"
     ]
    }
   ],
   "source": [
    "G, H = loadLDPC('GH.mat')\n",
    "\n",
    "epsilon = 0.05\n",
    "N = G.shape[1]\n",
    "x = np.ones((N, 1), dtype='int32')\n",
    "\n",
    "y = encode_message(x, G)\n",
    "\n",
    "yTilde = apply_channel_noise(y, epsilon)\n",
    "\n",
    "G = FactorGraph(H, epsilon, yTilde)\n",
    "\n",
    "G.LoopyBP(50)\n",
    "\n",
    "\n",
    "best_estimation = G.get_marginal_MAP()\n",
    "print('Actual: \\n', y.reshape(256))\n",
    "print()\n",
    "print('Predicted: \\n', best_estimation)\n",
    "sum_ = 0\n",
    "for i in range(256):\n",
    "    if best_estimation[i] == y[i]:\n",
    "        sum_ += 1\n",
    "print('Accuracy: ', (sum_ / 256) * 100)"
   ]
  }
 ],
 "metadata": {
  "kernelspec": {
   "display_name": "Python 3",
   "language": "python",
   "name": "python3"
  },
  "language_info": {
   "codemirror_mode": {
    "name": "ipython",
    "version": 3
   },
   "file_extension": ".py",
   "mimetype": "text/x-python",
   "name": "python",
   "nbconvert_exporter": "python",
   "pygments_lexer": "ipython3",
   "version": "3.7.4"
  }
 },
 "nbformat": 4,
 "nbformat_minor": 4
}
