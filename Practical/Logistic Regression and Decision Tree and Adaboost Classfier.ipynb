{
  "nbformat": 4,
  "nbformat_minor": 0,
  "metadata": {
    "colab": {
      "name": "HW4.ipynb",
      "provenance": [],
      "collapsed_sections": []
    },
    "kernelspec": {
      "name": "python3",
      "display_name": "Python 3"
    },
    "language_info": {
      "name": "python"
    }
  },
  "cells": [
    {
      "cell_type": "markdown",
      "metadata": {
        "id": "frQTHbSd46di"
      },
      "source": [
        "**Dependancies**"
      ]
    },
    {
      "cell_type": "code",
      "metadata": {
        "id": "QfyzcHI44Rka"
      },
      "source": [
        "import numpy as np \n",
        "import pandas as pd\n",
        "import random"
      ],
      "execution_count": 41,
      "outputs": []
    },
    {
      "cell_type": "markdown",
      "metadata": {
        "id": "P23at4nZ5ApV"
      },
      "source": [
        "# Part 1"
      ]
    },
    {
      "cell_type": "markdown",
      "metadata": {
        "id": "7uVpps6Y50co"
      },
      "source": [
        "**Some EDA**"
      ]
    },
    {
      "cell_type": "code",
      "metadata": {
        "colab": {
          "base_uri": "https://localhost:8080/",
          "height": 202
        },
        "id": "ZuKobHLh5EGA",
        "outputId": "6feff7fe-1500-40b9-87be-8a2b1a9cc161"
      },
      "source": [
        "df = pd.read_csv('transfusion.data')\n",
        "df.head()"
      ],
      "execution_count": 42,
      "outputs": [
        {
          "output_type": "execute_result",
          "data": {
            "text/html": [
              "<div>\n",
              "<style scoped>\n",
              "    .dataframe tbody tr th:only-of-type {\n",
              "        vertical-align: middle;\n",
              "    }\n",
              "\n",
              "    .dataframe tbody tr th {\n",
              "        vertical-align: top;\n",
              "    }\n",
              "\n",
              "    .dataframe thead th {\n",
              "        text-align: right;\n",
              "    }\n",
              "</style>\n",
              "<table border=\"1\" class=\"dataframe\">\n",
              "  <thead>\n",
              "    <tr style=\"text-align: right;\">\n",
              "      <th></th>\n",
              "      <th>Recency (months)</th>\n",
              "      <th>Frequency (times)</th>\n",
              "      <th>Monetary (c.c. blood)</th>\n",
              "      <th>Time (months)</th>\n",
              "      <th>whether he/she donated blood in March 2007</th>\n",
              "    </tr>\n",
              "  </thead>\n",
              "  <tbody>\n",
              "    <tr>\n",
              "      <th>0</th>\n",
              "      <td>2</td>\n",
              "      <td>50</td>\n",
              "      <td>12500</td>\n",
              "      <td>98</td>\n",
              "      <td>1</td>\n",
              "    </tr>\n",
              "    <tr>\n",
              "      <th>1</th>\n",
              "      <td>0</td>\n",
              "      <td>13</td>\n",
              "      <td>3250</td>\n",
              "      <td>28</td>\n",
              "      <td>1</td>\n",
              "    </tr>\n",
              "    <tr>\n",
              "      <th>2</th>\n",
              "      <td>1</td>\n",
              "      <td>16</td>\n",
              "      <td>4000</td>\n",
              "      <td>35</td>\n",
              "      <td>1</td>\n",
              "    </tr>\n",
              "    <tr>\n",
              "      <th>3</th>\n",
              "      <td>2</td>\n",
              "      <td>20</td>\n",
              "      <td>5000</td>\n",
              "      <td>45</td>\n",
              "      <td>1</td>\n",
              "    </tr>\n",
              "    <tr>\n",
              "      <th>4</th>\n",
              "      <td>1</td>\n",
              "      <td>24</td>\n",
              "      <td>6000</td>\n",
              "      <td>77</td>\n",
              "      <td>0</td>\n",
              "    </tr>\n",
              "  </tbody>\n",
              "</table>\n",
              "</div>"
            ],
            "text/plain": [
              "   Recency (months)  ...  whether he/she donated blood in March 2007\n",
              "0                 2  ...                                           1\n",
              "1                 0  ...                                           1\n",
              "2                 1  ...                                           1\n",
              "3                 2  ...                                           1\n",
              "4                 1  ...                                           0\n",
              "\n",
              "[5 rows x 5 columns]"
            ]
          },
          "metadata": {
            "tags": []
          },
          "execution_count": 42
        }
      ]
    },
    {
      "cell_type": "code",
      "metadata": {
        "colab": {
          "base_uri": "https://localhost:8080/"
        },
        "id": "4RKldENp52px",
        "outputId": "342d4408-9c9a-4369-9b21-e507461b1688"
      },
      "source": [
        "df.info()"
      ],
      "execution_count": 43,
      "outputs": [
        {
          "output_type": "stream",
          "text": [
            "<class 'pandas.core.frame.DataFrame'>\n",
            "RangeIndex: 748 entries, 0 to 747\n",
            "Data columns (total 5 columns):\n",
            " #   Column                                      Non-Null Count  Dtype\n",
            "---  ------                                      --------------  -----\n",
            " 0   Recency (months)                            748 non-null    int64\n",
            " 1   Frequency (times)                           748 non-null    int64\n",
            " 2   Monetary (c.c. blood)                       748 non-null    int64\n",
            " 3   Time (months)                               748 non-null    int64\n",
            " 4   whether he/she donated blood in March 2007  748 non-null    int64\n",
            "dtypes: int64(5)\n",
            "memory usage: 29.3 KB\n"
          ],
          "name": "stdout"
        }
      ]
    },
    {
      "cell_type": "code",
      "metadata": {
        "colab": {
          "base_uri": "https://localhost:8080/"
        },
        "id": "gkGoM0m664WQ",
        "outputId": "8271b9a5-4f7e-4b43-b8f0-464c78c9c266"
      },
      "source": [
        "df['whether he/she donated blood in March 2007'].value_counts()"
      ],
      "execution_count": 44,
      "outputs": [
        {
          "output_type": "execute_result",
          "data": {
            "text/plain": [
              "0    570\n",
              "1    178\n",
              "Name: whether he/she donated blood in March 2007, dtype: int64"
            ]
          },
          "metadata": {
            "tags": []
          },
          "execution_count": 44
        }
      ]
    },
    {
      "cell_type": "markdown",
      "metadata": {
        "id": "sivRUcrl6BOA"
      },
      "source": [
        "From the above information, we can confirm that every column in our DataFrame has the numeric type. Also our target value has two classes!\n",
        "\n",
        "Let's rename our 'whether he/she donated blood in March 2007' to 'donated'"
      ]
    },
    {
      "cell_type": "code",
      "metadata": {
        "colab": {
          "base_uri": "https://localhost:8080/",
          "height": 202
        },
        "id": "wIZN1xs76IqR",
        "outputId": "df16f661-0ac6-41ad-cf59-78daa4b2a5da"
      },
      "source": [
        "df.rename(columns={'whether he/she donated blood in March 2007': 'donated'}, inplace=True)\n",
        "df.head()"
      ],
      "execution_count": 45,
      "outputs": [
        {
          "output_type": "execute_result",
          "data": {
            "text/html": [
              "<div>\n",
              "<style scoped>\n",
              "    .dataframe tbody tr th:only-of-type {\n",
              "        vertical-align: middle;\n",
              "    }\n",
              "\n",
              "    .dataframe tbody tr th {\n",
              "        vertical-align: top;\n",
              "    }\n",
              "\n",
              "    .dataframe thead th {\n",
              "        text-align: right;\n",
              "    }\n",
              "</style>\n",
              "<table border=\"1\" class=\"dataframe\">\n",
              "  <thead>\n",
              "    <tr style=\"text-align: right;\">\n",
              "      <th></th>\n",
              "      <th>Recency (months)</th>\n",
              "      <th>Frequency (times)</th>\n",
              "      <th>Monetary (c.c. blood)</th>\n",
              "      <th>Time (months)</th>\n",
              "      <th>donated</th>\n",
              "    </tr>\n",
              "  </thead>\n",
              "  <tbody>\n",
              "    <tr>\n",
              "      <th>0</th>\n",
              "      <td>2</td>\n",
              "      <td>50</td>\n",
              "      <td>12500</td>\n",
              "      <td>98</td>\n",
              "      <td>1</td>\n",
              "    </tr>\n",
              "    <tr>\n",
              "      <th>1</th>\n",
              "      <td>0</td>\n",
              "      <td>13</td>\n",
              "      <td>3250</td>\n",
              "      <td>28</td>\n",
              "      <td>1</td>\n",
              "    </tr>\n",
              "    <tr>\n",
              "      <th>2</th>\n",
              "      <td>1</td>\n",
              "      <td>16</td>\n",
              "      <td>4000</td>\n",
              "      <td>35</td>\n",
              "      <td>1</td>\n",
              "    </tr>\n",
              "    <tr>\n",
              "      <th>3</th>\n",
              "      <td>2</td>\n",
              "      <td>20</td>\n",
              "      <td>5000</td>\n",
              "      <td>45</td>\n",
              "      <td>1</td>\n",
              "    </tr>\n",
              "    <tr>\n",
              "      <th>4</th>\n",
              "      <td>1</td>\n",
              "      <td>24</td>\n",
              "      <td>6000</td>\n",
              "      <td>77</td>\n",
              "      <td>0</td>\n",
              "    </tr>\n",
              "  </tbody>\n",
              "</table>\n",
              "</div>"
            ],
            "text/plain": [
              "   Recency (months)  Frequency (times)  ...  Time (months)  donated\n",
              "0                 2                 50  ...             98        1\n",
              "1                 0                 13  ...             28        1\n",
              "2                 1                 16  ...             35        1\n",
              "3                 2                 20  ...             45        1\n",
              "4                 1                 24  ...             77        0\n",
              "\n",
              "[5 rows x 5 columns]"
            ]
          },
          "metadata": {
            "tags": []
          },
          "execution_count": 45
        }
      ]
    },
    {
      "cell_type": "markdown",
      "metadata": {
        "id": "p6l_iKTBA4PR"
      },
      "source": [
        "**Normalizing**"
      ]
    },
    {
      "cell_type": "code",
      "metadata": {
        "colab": {
          "base_uri": "https://localhost:8080/"
        },
        "id": "qyYnDGomFX34",
        "outputId": "c219aa3e-626a-4cb3-94fa-a5590c86753f"
      },
      "source": [
        "df.var().round(2)"
      ],
      "execution_count": 46,
      "outputs": [
        {
          "output_type": "execute_result",
          "data": {
            "text/plain": [
              "Recency (months)              65.54\n",
              "Frequency (times)             34.10\n",
              "Monetary (c.c. blood)    2131094.23\n",
              "Time (months)                594.22\n",
              "donated                        0.18\n",
              "dtype: float64"
            ]
          },
          "metadata": {
            "tags": []
          },
          "execution_count": 46
        }
      ]
    },
    {
      "cell_type": "markdown",
      "metadata": {
        "id": "Ks1QNCvsFk73"
      },
      "source": [
        "From the above information, we only need to normalize the values in 'c.c. blood' column, because we have a high variance there. We can take **log**"
      ]
    },
    {
      "cell_type": "code",
      "metadata": {
        "colab": {
          "base_uri": "https://localhost:8080/",
          "height": 306
        },
        "id": "vLWx_vZ3Gaj6",
        "outputId": "55b35f4f-303f-47ed-b768-ad4aeb7e1d7a"
      },
      "source": [
        "df['Monetary (c.c. blood)'] = np.log(df['Monetary (c.c. blood)'])\n",
        "print(df.var().round(2))\n",
        "df.head()"
      ],
      "execution_count": 47,
      "outputs": [
        {
          "output_type": "stream",
          "text": [
            "Recency (months)          65.54\n",
            "Frequency (times)         34.10\n",
            "Monetary (c.c. blood)      0.84\n",
            "Time (months)            594.22\n",
            "donated                    0.18\n",
            "dtype: float64\n"
          ],
          "name": "stdout"
        },
        {
          "output_type": "execute_result",
          "data": {
            "text/html": [
              "<div>\n",
              "<style scoped>\n",
              "    .dataframe tbody tr th:only-of-type {\n",
              "        vertical-align: middle;\n",
              "    }\n",
              "\n",
              "    .dataframe tbody tr th {\n",
              "        vertical-align: top;\n",
              "    }\n",
              "\n",
              "    .dataframe thead th {\n",
              "        text-align: right;\n",
              "    }\n",
              "</style>\n",
              "<table border=\"1\" class=\"dataframe\">\n",
              "  <thead>\n",
              "    <tr style=\"text-align: right;\">\n",
              "      <th></th>\n",
              "      <th>Recency (months)</th>\n",
              "      <th>Frequency (times)</th>\n",
              "      <th>Monetary (c.c. blood)</th>\n",
              "      <th>Time (months)</th>\n",
              "      <th>donated</th>\n",
              "    </tr>\n",
              "  </thead>\n",
              "  <tbody>\n",
              "    <tr>\n",
              "      <th>0</th>\n",
              "      <td>2</td>\n",
              "      <td>50</td>\n",
              "      <td>9.433484</td>\n",
              "      <td>98</td>\n",
              "      <td>1</td>\n",
              "    </tr>\n",
              "    <tr>\n",
              "      <th>1</th>\n",
              "      <td>0</td>\n",
              "      <td>13</td>\n",
              "      <td>8.086410</td>\n",
              "      <td>28</td>\n",
              "      <td>1</td>\n",
              "    </tr>\n",
              "    <tr>\n",
              "      <th>2</th>\n",
              "      <td>1</td>\n",
              "      <td>16</td>\n",
              "      <td>8.294050</td>\n",
              "      <td>35</td>\n",
              "      <td>1</td>\n",
              "    </tr>\n",
              "    <tr>\n",
              "      <th>3</th>\n",
              "      <td>2</td>\n",
              "      <td>20</td>\n",
              "      <td>8.517193</td>\n",
              "      <td>45</td>\n",
              "      <td>1</td>\n",
              "    </tr>\n",
              "    <tr>\n",
              "      <th>4</th>\n",
              "      <td>1</td>\n",
              "      <td>24</td>\n",
              "      <td>8.699515</td>\n",
              "      <td>77</td>\n",
              "      <td>0</td>\n",
              "    </tr>\n",
              "  </tbody>\n",
              "</table>\n",
              "</div>"
            ],
            "text/plain": [
              "   Recency (months)  Frequency (times)  ...  Time (months)  donated\n",
              "0                 2                 50  ...             98        1\n",
              "1                 0                 13  ...             28        1\n",
              "2                 1                 16  ...             35        1\n",
              "3                 2                 20  ...             45        1\n",
              "4                 1                 24  ...             77        0\n",
              "\n",
              "[5 rows x 5 columns]"
            ]
          },
          "metadata": {
            "tags": []
          },
          "execution_count": 47
        }
      ]
    },
    {
      "cell_type": "markdown",
      "metadata": {
        "id": "CG7AQ2LK72Rh"
      },
      "source": [
        "**Train/Test split**"
      ]
    },
    {
      "cell_type": "code",
      "metadata": {
        "id": "fXuTSAri-uKT"
      },
      "source": [
        "labels = df['donated'].to_numpy()\n",
        "df.drop(columns='donated', inplace=True)"
      ],
      "execution_count": 48,
      "outputs": []
    },
    {
      "cell_type": "code",
      "metadata": {
        "id": "QbNwAT_j76Yp",
        "colab": {
          "base_uri": "https://localhost:8080/"
        },
        "outputId": "1aab052d-e8bf-4ee9-d354-02a6bc9fff53"
      },
      "source": [
        "# randomly choose 0.75 of the dataset size for train indices\n",
        "train_indices = random.sample(range(0, len(df)), int(0.75 * len(df)))\n",
        "test_indices  = list(set(range(0, len(df))) - set(train_indices))\n",
        "df_np = df.to_numpy()\n",
        "train_x = df_np[train_indices]\n",
        "train_y = labels[train_indices].reshape(-1, 1)\n",
        "test_x = df_np[test_indices]\n",
        "test_y = labels[test_indices].reshape(-1, 1)\n",
        "print('train_x shape:', train_x.shape)\n",
        "print('train_y shape:', train_y.shape)\n",
        "print('test_x shape:', test_x.shape)\n",
        "print('test_y shape:', test_y.shape)"
      ],
      "execution_count": 49,
      "outputs": [
        {
          "output_type": "stream",
          "text": [
            "train_x shape: (561, 4)\n",
            "train_y shape: (561, 1)\n",
            "test_x shape: (187, 4)\n",
            "test_y shape: (187, 1)\n"
          ],
          "name": "stdout"
        }
      ]
    },
    {
      "cell_type": "markdown",
      "metadata": {
        "id": "l6Cij8JTG_KI"
      },
      "source": [
        "## Logistic Regression Classifier"
      ]
    },
    {
      "cell_type": "code",
      "metadata": {
        "id": "SzeMp7-BHCIQ"
      },
      "source": [
        "def sigmoid(z):\n",
        "    return 1/ (1 + np.exp(-z))\n",
        "\n",
        "def cost_function(theta, X, y):\n",
        "    \n",
        "    m = len(y)\n",
        "    preds = sigmoid(np.dot(X, theta))\n",
        "    error = (-y * np.log(preds)) - ((1-y) * np.log(1-preds))\n",
        "    cost = 1/m * sum(error)\n",
        "    gradient = 1/m * np.dot(X.transpose(), (preds - y))\n",
        "    \n",
        "    return gradient\n",
        "\n",
        "def gradient_descent(X, y, theta, lr, iterations):\n",
        "    \n",
        "    m = len(y)\n",
        "    \n",
        "    for i in range(iterations):\n",
        "        grad = cost_function(theta, X, y)\n",
        "        theta = theta - (lr * grad)\n",
        "    \n",
        "    return theta \n",
        "\n",
        "def predict(theta, X):\n",
        "    predictions = X.dot(theta)\n",
        "    return predictions > 0"
      ],
      "execution_count": 50,
      "outputs": []
    },
    {
      "cell_type": "code",
      "metadata": {
        "id": "e1TqNVPkJ7rM"
      },
      "source": [
        "m1 , n1 = train_x.shape[0], train_x.shape[1]\n",
        "X_train = np.append(np.ones((m1, 1)), train_x, axis=1)\n",
        "y_train = train_y.reshape(m1, 1)\n",
        "initial_theta = np.zeros((n1 + 1, 1))\n",
        "final_theta = gradient_descent(X_train, y_train, theta=initial_theta, lr=0.001, iterations=10000)"
      ],
      "execution_count": 51,
      "outputs": []
    },
    {
      "cell_type": "markdown",
      "metadata": {
        "id": "WEs3elw7bU9G"
      },
      "source": [
        "**Accuracy**"
      ]
    },
    {
      "cell_type": "code",
      "metadata": {
        "colab": {
          "base_uri": "https://localhost:8080/"
        },
        "id": "5V6YmvnkNnd5",
        "outputId": "22b4e8eb-93ac-4a47-e683-917098ba0379"
      },
      "source": [
        "# trainning accuracy\n",
        "train_pred = predict(final_theta, X_train)\n",
        "print(\"Train Accuracy:\", sum(train_pred == y_train)[0] * 100 / len(y_train),\"%\")\n",
        "# testing accuracy\n",
        "m2  = test_x.shape[0]\n",
        "X_test = np.append(np.ones((m2, 1)), test_x, axis=1)\n",
        "y_test = test_y.reshape(m2, 1)\n",
        "test_pred = predict(final_theta, X_test)\n",
        "accuracy1 = sum(test_pred == y_test)[0] * 100 / len(y_test)\n",
        "print(\"Test Accuracy:\", sum(test_pred == y_test)[0] * 100 / len(y_test),\"%\")"
      ],
      "execution_count": 52,
      "outputs": [
        {
          "output_type": "stream",
          "text": [
            "Train Accuracy: 77.18360071301248 %\n",
            "Test Accuracy: 77.00534759358288 %\n"
          ],
          "name": "stdout"
        }
      ]
    },
    {
      "cell_type": "markdown",
      "metadata": {
        "id": "NiosS6Z6Xb05"
      },
      "source": [
        "**Recall and F1 Score**"
      ]
    },
    {
      "cell_type": "code",
      "metadata": {
        "colab": {
          "base_uri": "https://localhost:8080/"
        },
        "id": "26SqUQPMXif8",
        "outputId": "1e1dcf3a-e263-4739-d792-a912ac9bf0f3"
      },
      "source": [
        "tp = sum((y_test == 1) & (test_pred == 1))[0]\n",
        "tn = sum((y_test == 0) & (test_pred == 0))[0]\n",
        "fn = sum((y_test == 1) & (test_pred == 0))[0]\n",
        "fp = sum((y_test == 0) & (test_pred == 1))[0]\n",
        "precision1 = (tp)/ float( tp + fp)\n",
        "recall1 = (tp)/ float( tp + fn)\n",
        "fscore1 = (2 * precision1 * recall1) / (precision1 + recall1)\n",
        "print(\"Recall: \", recall1 * 100, \"%\")\n",
        "print(\"F1-score: \", fscore1) "
      ],
      "execution_count": 53,
      "outputs": [
        {
          "output_type": "stream",
          "text": [
            "Recall:  9.523809523809524 %\n",
            "F1-score:  0.1568627450980392\n"
          ],
          "name": "stdout"
        }
      ]
    },
    {
      "cell_type": "markdown",
      "metadata": {
        "id": "TbAYNWZROv_y"
      },
      "source": [
        "## Decision Tree"
      ]
    },
    {
      "cell_type": "code",
      "metadata": {
        "id": "sYpldt3Ea1eg",
        "colab": {
          "base_uri": "https://localhost:8080/"
        },
        "outputId": "c7298315-9255-4a81-b71d-b71d395abb23"
      },
      "source": [
        "data = pd.read_csv('transfusion.data')\n",
        "data.rename(columns={'whether he/she donated blood in March 2007': 'donated'}, inplace=True)\n",
        "labels = data['donated'].to_numpy()\n",
        "data.drop(columns='donated', inplace=True)\n",
        "data.nunique()"
      ],
      "execution_count": 54,
      "outputs": [
        {
          "output_type": "execute_result",
          "data": {
            "text/plain": [
              "Recency (months)         31\n",
              "Frequency (times)        33\n",
              "Monetary (c.c. blood)    33\n",
              "Time (months)            78\n",
              "dtype: int64"
            ]
          },
          "metadata": {
            "tags": []
          },
          "execution_count": 54
        }
      ]
    },
    {
      "cell_type": "markdown",
      "metadata": {
        "id": "jieaZdMd4d8t"
      },
      "source": [
        "**Decision Tree Classifier (Using GINI Impurity)**"
      ]
    },
    {
      "cell_type": "code",
      "metadata": {
        "id": "HOJM1Eqk79UH"
      },
      "source": [
        "max_depth  = 8"
      ],
      "execution_count": 55,
      "outputs": []
    },
    {
      "cell_type": "code",
      "metadata": {
        "id": "iRqAR0FV42CN"
      },
      "source": [
        "class Node:\n",
        "    def __init__(self, gini, num_samples, num_samples_per_class, predicted_class):\n",
        "        self.gini = gini\n",
        "        self.num_samples = num_samples\n",
        "        self.num_samples_per_class = num_samples_per_class\n",
        "        self.predicted_class = predicted_class\n",
        "        self.feature_index = 0\n",
        "        self.threshold = 0\n",
        "        self.left = None\n",
        "        self.right = None"
      ],
      "execution_count": 56,
      "outputs": []
    },
    {
      "cell_type": "code",
      "metadata": {
        "id": "-7WeUD342u0G"
      },
      "source": [
        "def find_best_split(X, y):\n",
        "    m = y.size\n",
        "    if m <= 1:\n",
        "        return None, None\n",
        "\n",
        "    num_parent = [np.sum(y == c) for c in range(2)]\n",
        "\n",
        "    best_gini = 1.0 - sum((n / m) ** 2 for n in num_parent)\n",
        "    best_index = None\n",
        "    best_threshold = None\n",
        "\n",
        "    for idx in range(X.shape[1]):\n",
        "        thresholds, classes = zip(*sorted(zip(X[:, idx], y)))\n",
        "\n",
        "        num_left = [0] * 2\n",
        "        num_right = num_parent.copy()\n",
        "        for i in range(1, m):  \n",
        "            c = classes[i - 1]\n",
        "            num_left[c] += 1\n",
        "            num_right[c] -= 1\n",
        "            gini_left = 1.0 - sum((num_left[x] / i) ** 2 for x in range(2))\n",
        "            gini_right = 1.0 - sum((num_right[x] / (m - i)) ** 2 for x in range(2))\n",
        "\n",
        "            gini = (i * gini_left + (m - i) * gini_right) / m\n",
        "\n",
        "            if thresholds[i] == thresholds[i - 1]:\n",
        "                continue\n",
        "\n",
        "            if gini < best_gini:\n",
        "                best_gini = gini\n",
        "                best_index = idx\n",
        "                best_threshold = (thresholds[i] + thresholds[i - 1]) / 2 \n",
        "\n",
        "    return best_index, best_threshold\n",
        "\n",
        "def gini(y):\n",
        "  m = y.size\n",
        "  return 1.0 - sum((np.sum(y == c) / m) ** 2 for c in range(2))\n",
        "\n",
        "def build_tree(X, y, depth = 0):\n",
        "  num_samples_per_class = [np.sum(y == i) for i in range(2)]\n",
        "  predicted_class = np.argmax(num_samples_per_class)\n",
        "  node = Node(gini=gini(y),num_samples=y.size,num_samples_per_class=num_samples_per_class,predicted_class=predicted_class)\n",
        "\n",
        "  if depth < max_depth:\n",
        "      index, threshold = find_best_split(X, y)\n",
        "      if index is not None:\n",
        "          indices_left = X[:, index] < threshold\n",
        "          X_left, y_left = X[indices_left], y[indices_left]\n",
        "          X_right, y_right = X[~indices_left], y[~indices_left]\n",
        "          node.feature_index = index\n",
        "          node.threshold = threshold\n",
        "          node.left = build_tree(X_left, y_left, depth + 1)\n",
        "          node.right = build_tree(X_right, y_right, depth + 1)\n",
        "  return node\n",
        "\n",
        "def predict_tree(X, tree):\n",
        "  result = []\n",
        "  for input in X:\n",
        "    node = tree \n",
        "    while node.left:\n",
        "      if input[node.feature_index] < node.threshold:\n",
        "          node = node.left\n",
        "      else:\n",
        "          node = node.right\n",
        "    result.append(node.predicted_class)\n",
        "  return np.array(result)"
      ],
      "execution_count": 57,
      "outputs": []
    },
    {
      "cell_type": "markdown",
      "metadata": {
        "id": "ejKu5hCfCjq_"
      },
      "source": [
        "**Train/Test Split**"
      ]
    },
    {
      "cell_type": "code",
      "metadata": {
        "id": "gQa8h15lCnlG",
        "colab": {
          "base_uri": "https://localhost:8080/"
        },
        "outputId": "9d88f096-e699-486e-8c4e-cdda340329c9"
      },
      "source": [
        "# randomly choose 0.75 of the dataset size for train indices\n",
        "train_indices = random.sample(range(0, len(data)), int(0.75 * len(data)))\n",
        "test_indices  = list(set(range(0, len(data))) - set(train_indices))\n",
        "df_np = data.to_numpy()\n",
        "train_x_2 = df_np[train_indices]\n",
        "train_y_2 = labels[train_indices]\n",
        "test_x_2 = df_np[test_indices]\n",
        "test_y_2 = labels[test_indices]\n",
        "print('train_x shape:', train_x_2.shape)\n",
        "print('train_y shape:', train_y_2.shape)\n",
        "print('test_x shape:', test_x_2.shape)\n",
        "print('test_y shape:', test_y_2.shape)"
      ],
      "execution_count": 58,
      "outputs": [
        {
          "output_type": "stream",
          "text": [
            "train_x shape: (561, 4)\n",
            "train_y shape: (561,)\n",
            "test_x shape: (187, 4)\n",
            "test_y shape: (187,)\n"
          ],
          "name": "stdout"
        }
      ]
    },
    {
      "cell_type": "markdown",
      "metadata": {
        "id": "O_dGrpZEBuEp"
      },
      "source": [
        "**Accuracy**"
      ]
    },
    {
      "cell_type": "code",
      "metadata": {
        "colab": {
          "base_uri": "https://localhost:8080/"
        },
        "id": "C_Lv9wr6BuEq",
        "outputId": "70954dae-2da1-4e99-cb09-99a04734e2e9"
      },
      "source": [
        "final_tree = build_tree(train_x_2, train_y_2)\n",
        "train_pred_2 =  predict_tree(train_x_2, final_tree)\n",
        "print(\"Train Accuracy:\", sum(train_pred_2 == train_y_2) * 100 / len(train_y_2),\"%\")\n",
        "test_pred_2 =  predict_tree(test_x_2, final_tree)\n",
        "accuracy2 = sum(test_pred_2 == test_y_2) * 100 / len(test_pred_2)\n",
        "print(\"Test Accuracy:\", sum(test_pred_2 == test_y_2) * 100 / len(test_pred_2),\"%\")"
      ],
      "execution_count": 59,
      "outputs": [
        {
          "output_type": "stream",
          "text": [
            "Train Accuracy: 88.05704099821747 %\n",
            "Test Accuracy: 73.2620320855615 %\n"
          ],
          "name": "stdout"
        }
      ]
    },
    {
      "cell_type": "markdown",
      "metadata": {
        "id": "GB9B7E1UBuEt"
      },
      "source": [
        "**Recall and F1 Score**"
      ]
    },
    {
      "cell_type": "code",
      "metadata": {
        "colab": {
          "base_uri": "https://localhost:8080/"
        },
        "id": "9xds5Ou0BuEu",
        "outputId": "0b2abc1f-f8ee-4f4d-a9dd-210aea970632"
      },
      "source": [
        "tp = sum((test_y_2 == 1) & (test_pred_2 == 1))\n",
        "tn = sum((test_y_2 == 0) & (test_pred_2 == 0))\n",
        "fn = sum((test_y_2 == 1) & (test_pred_2 == 0))\n",
        "fp = sum((test_y_2 == 0) & (test_pred_2 == 1))\n",
        "precision2 = (tp)/ float( tp + fp)\n",
        "recall2 = (tp)/ float( tp + fn)\n",
        "fscore2 = (2 * precision2 * recall2) / (precision2 + recall2)\n",
        "print(\"Recall: \", recall2 * 100, \"%\")\n",
        "print(\"F1-score: \", fscore2) "
      ],
      "execution_count": 60,
      "outputs": [
        {
          "output_type": "stream",
          "text": [
            "Recall:  20.454545454545457 %\n",
            "F1-score:  0.2647058823529412\n"
          ],
          "name": "stdout"
        }
      ]
    },
    {
      "cell_type": "markdown",
      "metadata": {
        "id": "aQxGmq4XLKXO"
      },
      "source": [
        "# Part 2"
      ]
    },
    {
      "cell_type": "markdown",
      "metadata": {
        "id": "d5M9d1pELNev"
      },
      "source": [
        "Let's have a recap to our results in part 1:"
      ]
    },
    {
      "cell_type": "code",
      "metadata": {
        "colab": {
          "base_uri": "https://localhost:8080/"
        },
        "id": "LHB30h4nCB15",
        "outputId": "fea500f3-de7e-4d02-c402-7b2864c0ffa2"
      },
      "source": [
        "print('Accuracy of Logistic Regression:', accuracy1.round(2), '%')\n",
        "print('Recall of Logistic Regression:', recall1.round(2) * 100, '%')\n",
        "print('F1-score of Logistic Regression:', fscore1.round(2))\n",
        "print('---------------------')\n",
        "print('Accuracy of Decision Tree:', accuracy2.round(2), '%')\n",
        "print('Recall of Decision Tree:', recall2.round(2) * 100, '%')\n",
        "print('F1-score of Decision Tree:', fscore2.round(2))"
      ],
      "execution_count": 61,
      "outputs": [
        {
          "output_type": "stream",
          "text": [
            "Accuracy of Logistic Regression: 77.01 %\n",
            "Recall of Logistic Regression: 10.0 %\n",
            "F1-score of Logistic Regression: 0.16\n",
            "---------------------\n",
            "Accuracy of Decision Tree: 73.26 %\n",
            "Recall of Decision Tree: 20.0 %\n",
            "F1-score of Decision Tree: 0.26\n"
          ],
          "name": "stdout"
        }
      ]
    },
    {
      "cell_type": "markdown",
      "metadata": {
        "id": "qhhzJPNyDC4S"
      },
      "source": [
        "Recall is a measure of how many of the positive cases the classifier correctly predicted, over all the positive cases in the data and F1-score a combination of both recall and precision and when recall is low, then we expect the F1-score to becomes low too.\n",
        "\n"
      ]
    },
    {
      "cell_type": "code",
      "metadata": {
        "colab": {
          "base_uri": "https://localhost:8080/"
        },
        "id": "8CFLvvf6XamK",
        "outputId": "e0cfb6ad-e3e8-4a94-d6de-c755e696d4b0"
      },
      "source": [
        "np.unique(labels, return_counts=True)"
      ],
      "execution_count": 62,
      "outputs": [
        {
          "output_type": "execute_result",
          "data": {
            "text/plain": [
              "(array([0, 1]), array([570, 178]))"
            ]
          },
          "metadata": {
            "tags": []
          },
          "execution_count": 62
        }
      ]
    },
    {
      "cell_type": "markdown",
      "metadata": {
        "id": "Dxia1XBoXgiw"
      },
      "source": [
        "As we can see in the above code output, the number of samples from class 0 is almost 3 times more than the number of samples in class 1. Therefore we have a low recall, because recall is all dependent on positive samples (from class 1).\n",
        "\n",
        "They way to solve this problem, is to make the number of samples from each class equal. Duplicationg the samples in class 1 for 2 times is a good idea, because in this case we would somehow give **weight 3** to the samples in class \n"
      ]
    },
    {
      "cell_type": "markdown",
      "metadata": {
        "id": "UClz-MbbNANx"
      },
      "source": [
        "# Part 3"
      ]
    },
    {
      "cell_type": "markdown",
      "metadata": {
        "id": "iX67Dt8QShsK"
      },
      "source": [
        "According to what we discussed in part 2, let's first duplicate the samples in class 1 for 2 times in the dataset."
      ]
    },
    {
      "cell_type": "code",
      "metadata": {
        "colab": {
          "base_uri": "https://localhost:8080/"
        },
        "id": "TMoa4Np7ShTC",
        "outputId": "9188a9d7-88a7-4cfb-f547-0dd9a11c8f52"
      },
      "source": [
        "all_data = pd.read_csv('transfusion.data')\n",
        "all_data.rename(columns={'whether he/she donated blood in March 2007': 'donated'}, inplace=True)\n",
        "all_data['Monetary (c.c. blood)'] = np.log(all_data['Monetary (c.c. blood)']) # little normalizing\n",
        "class1 = all_data[(all_data['donated'] == 1)]\n",
        "all_data = all_data.append(class1)\n",
        "all_data = all_data.append(class1)\n",
        "print('New data shape:', all_data.shape)\n",
        "np.unique(all_data['donated'].to_numpy(), return_counts=True)"
      ],
      "execution_count": 63,
      "outputs": [
        {
          "output_type": "stream",
          "text": [
            "New data shape: (1104, 5)\n"
          ],
          "name": "stdout"
        },
        {
          "output_type": "execute_result",
          "data": {
            "text/plain": [
              "(array([0, 1]), array([570, 534]))"
            ]
          },
          "metadata": {
            "tags": []
          },
          "execution_count": 63
        }
      ]
    },
    {
      "cell_type": "markdown",
      "metadata": {
        "id": "kwt71oEbXcJQ"
      },
      "source": [
        "As you can see above, the number of classes are almost equal to eachother"
      ]
    },
    {
      "cell_type": "code",
      "metadata": {
        "id": "yLmF59ZQXZQy"
      },
      "source": [
        "labels = all_data['donated'].to_numpy()\n",
        "all_data.drop(columns='donated', inplace=True)"
      ],
      "execution_count": 64,
      "outputs": []
    },
    {
      "cell_type": "markdown",
      "metadata": {
        "id": "6IYIK-wCWpA2"
      },
      "source": [
        "**Create train and test splits for logistic regression**"
      ]
    },
    {
      "cell_type": "code",
      "metadata": {
        "colab": {
          "base_uri": "https://localhost:8080/"
        },
        "id": "NSnV275DWLiK",
        "outputId": "6670d731-c12d-4f9d-ecd4-e57560a53096"
      },
      "source": [
        "# randomly choose 0.75 of the dataset size for train indices\n",
        "train_indices = random.sample(range(0, len(all_data)), int(0.75 * len(all_data)))\n",
        "test_indices  = list(set(range(0, len(all_data))) - set(train_indices))\n",
        "df_np = all_data.to_numpy()\n",
        "train_x_3 = df_np[train_indices]\n",
        "train_y_3 = labels[train_indices].reshape(-1, 1)\n",
        "test_x_3 = df_np[test_indices]\n",
        "test_y_3 = labels[test_indices].reshape(-1, 1)\n",
        "print('train_x shape:', train_x_3.shape)\n",
        "print('train_y shape:', train_y_3.shape)\n",
        "print('test_x shape:', test_x_3.shape)\n",
        "print('test_y shape:', test_y_3.shape)"
      ],
      "execution_count": 65,
      "outputs": [
        {
          "output_type": "stream",
          "text": [
            "train_x shape: (828, 4)\n",
            "train_y shape: (828, 1)\n",
            "test_x shape: (276, 4)\n",
            "test_y shape: (276, 1)\n"
          ],
          "name": "stdout"
        }
      ]
    },
    {
      "cell_type": "markdown",
      "metadata": {
        "id": "HdpNb61sWvPD"
      },
      "source": [
        "**Create train and test splits for Decition Tree**"
      ]
    },
    {
      "cell_type": "code",
      "metadata": {
        "colab": {
          "base_uri": "https://localhost:8080/"
        },
        "id": "147QZNccWu0H",
        "outputId": "20173982-a36c-4760-8adc-0adaa9d60328"
      },
      "source": [
        "# randomly choose 0.75 of the dataset size for train indices\n",
        "train_indices = random.sample(range(0, len(all_data)), int(0.75 * len(all_data)))\n",
        "test_indices  = list(set(range(0, len(all_data))) - set(train_indices))\n",
        "df_np = all_data.to_numpy()\n",
        "train_x_4 = df_np[train_indices]\n",
        "train_y_4 = labels[train_indices]\n",
        "test_x_4 = df_np[test_indices]\n",
        "test_y_4 = labels[test_indices]\n",
        "print('train_x shape:', train_x_4.shape)\n",
        "print('train_y shape:', train_y_4.shape)\n",
        "print('test_x shape:', test_x_4.shape)\n",
        "print('test_y shape:', test_y_4.shape)"
      ],
      "execution_count": 66,
      "outputs": [
        {
          "output_type": "stream",
          "text": [
            "train_x shape: (828, 4)\n",
            "train_y shape: (828,)\n",
            "test_x shape: (276, 4)\n",
            "test_y shape: (276,)\n"
          ],
          "name": "stdout"
        }
      ]
    },
    {
      "cell_type": "markdown",
      "metadata": {
        "id": "qp8yyxyiOTQp"
      },
      "source": [
        "## Logistic Regression Classifier"
      ]
    },
    {
      "cell_type": "code",
      "metadata": {
        "id": "sVjZPx4NYDDX"
      },
      "source": [
        "m1 , n1 = train_x_3.shape[0], train_x_3.shape[1]\n",
        "X_train_3 = np.append(np.ones((m1, 1)), train_x_3, axis=1)\n",
        "y_train_3 = train_y_3.reshape(m1, 1)\n",
        "initial_theta = np.zeros((n1 + 1, 1))\n",
        "final_theta_new = gradient_descent(X_train_3, y_train_3, theta=initial_theta, lr=0.001, iterations=10000)"
      ],
      "execution_count": 67,
      "outputs": []
    },
    {
      "cell_type": "markdown",
      "metadata": {
        "id": "xGFm_XvPYDDi"
      },
      "source": [
        "**Accuracy**"
      ]
    },
    {
      "cell_type": "code",
      "metadata": {
        "colab": {
          "base_uri": "https://localhost:8080/"
        },
        "id": "j_b50fvEYDDj",
        "outputId": "9bc00acc-8428-4336-d93d-ed066fe054b0"
      },
      "source": [
        "# trainning accuracy\n",
        "train_pred_new = predict(final_theta_new, X_train_3)\n",
        "print(\"Train Accuracy:\", sum(train_pred_new == y_train_3)[0] * 100 / len(y_train_3),\"%\")\n",
        "# testing accuracy\n",
        "m2  = test_x_3.shape[0]\n",
        "X_test_3 = np.append(np.ones((m2, 1)), test_x_3, axis=1)\n",
        "y_test_3 = test_y_3.reshape(m2, 1)\n",
        "test_pred_new = predict(final_theta_new, X_test_3)\n",
        "accuracy3 = sum(test_pred_new == y_test_3)[0] * 100 / len(y_test_3)\n",
        "print(\"Test Accuracy:\", sum(test_pred_new == y_test_3)[0] * 100 / len(y_test_3),\"%\")"
      ],
      "execution_count": 68,
      "outputs": [
        {
          "output_type": "stream",
          "text": [
            "Train Accuracy: 70.41062801932367 %\n",
            "Test Accuracy: 69.56521739130434 %\n"
          ],
          "name": "stdout"
        }
      ]
    },
    {
      "cell_type": "markdown",
      "metadata": {
        "id": "k84yuES7YDDl"
      },
      "source": [
        "**Recall and F1 Score**"
      ]
    },
    {
      "cell_type": "code",
      "metadata": {
        "colab": {
          "base_uri": "https://localhost:8080/"
        },
        "id": "gli-akFwYDDn",
        "outputId": "afa99109-0575-40c2-9c10-fd78d8177025"
      },
      "source": [
        "tp = sum((y_test_3 == 1) & (test_pred_new == 1))[0]\n",
        "tn = sum((y_test_3 == 0) & (test_pred_new == 0))[0]\n",
        "fn = sum((y_test_3 == 1) & (test_pred_new == 0))[0]\n",
        "fp = sum((y_test_3 == 0) & (test_pred_new == 1))[0]\n",
        "precision3 = (tp)/ float( tp + fp)\n",
        "recall3 = (tp)/ float( tp + fn)\n",
        "fscore3 = (2 * precision3 * recall3) / (precision3 + recall3)\n",
        "print(\"Recall previous: \", recall1 * 100, \"%\")\n",
        "print(\"Recall now: \", recall3 * 100, \"%\")\n",
        "print(\"F1-score previous: \", fscore1) \n",
        "print(\"F1-score now: \", fscore3) "
      ],
      "execution_count": 69,
      "outputs": [
        {
          "output_type": "stream",
          "text": [
            "Recall previous:  9.523809523809524 %\n",
            "Recall now:  77.6923076923077 %\n",
            "F1-score previous:  0.1568627450980392\n",
            "F1-score now:  0.7062937062937064\n"
          ],
          "name": "stdout"
        }
      ]
    },
    {
      "cell_type": "markdown",
      "metadata": {
        "id": "b_pw2c9iaIhB"
      },
      "source": [
        "We can clearly see the improvement of Recall and F1-score. now let's also check for decition tree."
      ]
    },
    {
      "cell_type": "markdown",
      "metadata": {
        "id": "1mLMI7TtOXO6"
      },
      "source": [
        "## Decision Tree"
      ]
    },
    {
      "cell_type": "code",
      "metadata": {
        "id": "pdToLFw6abDK"
      },
      "source": [
        "max_depth = 8"
      ],
      "execution_count": 70,
      "outputs": []
    },
    {
      "cell_type": "markdown",
      "metadata": {
        "id": "Yr0JrypUac67"
      },
      "source": [
        "**Accuracy**"
      ]
    },
    {
      "cell_type": "code",
      "metadata": {
        "colab": {
          "base_uri": "https://localhost:8080/"
        },
        "id": "itHneKrgac69",
        "outputId": "89b3b213-29d6-4108-e893-4f8a02ea6c95"
      },
      "source": [
        "final_tree_new = build_tree(train_x_4, train_y_4)\n",
        "train_pred_4 =  predict_tree(train_x_4, final_tree_new)\n",
        "print(\"Train Accuracy:\", sum(train_pred_4 == train_y_4) * 100 / len(train_y_4),\"%\")\n",
        "test_pred_4 =  predict_tree(test_x_4, final_tree)\n",
        "accuracy4 = sum(test_pred_4 == test_y_4) * 100 / len(test_pred_4)\n",
        "print(\"Test Accuracy:\", sum(test_pred_4 == test_y_4) * 100 / len(test_pred_4),\"%\")"
      ],
      "execution_count": 71,
      "outputs": [
        {
          "output_type": "stream",
          "text": [
            "Train Accuracy: 82.97101449275362 %\n",
            "Test Accuracy: 71.73913043478261 %\n"
          ],
          "name": "stdout"
        }
      ]
    },
    {
      "cell_type": "markdown",
      "metadata": {
        "id": "NUAOYjjZac7D"
      },
      "source": [
        "**Recall and F1 Score**"
      ]
    },
    {
      "cell_type": "code",
      "metadata": {
        "colab": {
          "base_uri": "https://localhost:8080/"
        },
        "id": "pOVpPM6Wac7F",
        "outputId": "1aa237ac-b63c-45fe-b3e5-536083096a17"
      },
      "source": [
        "tp = sum((test_y_4 == 1) & (test_pred_4 == 1))\n",
        "tn = sum((test_y_4 == 0) & (test_pred_4 == 0))\n",
        "fn = sum((test_y_4 == 1) & (test_pred_4 == 0))\n",
        "fp = sum((test_y_4 == 0) & (test_pred_4 == 1))\n",
        "precision4 = (tp)/ float( tp + fp)\n",
        "recall4 = (tp)/ float( tp + fn)\n",
        "fscore4 = (2 * precision4 * recall4) / (precision4 + recall4)\n",
        "print(\"Recall previous: \", recall2 * 100, \"%\")\n",
        "print(\"Recall now: \", recall4 * 100, \"%\")\n",
        "print(\"F1-score previous: \", fscore2) \n",
        "print(\"F1-score now: \", fscore4) "
      ],
      "execution_count": 72,
      "outputs": [
        {
          "output_type": "stream",
          "text": [
            "Recall previous:  20.454545454545457 %\n",
            "Recall now:  47.794117647058826 %\n",
            "F1-score previous:  0.2647058823529412\n",
            "F1-score now:  0.625\n"
          ],
          "name": "stdout"
        }
      ]
    },
    {
      "cell_type": "markdown",
      "metadata": {
        "id": "VeONhwtrcX27"
      },
      "source": [
        "We can also see the improvement for decision tree"
      ]
    },
    {
      "cell_type": "markdown",
      "metadata": {
        "id": "BdazF8Y7OyXK"
      },
      "source": [
        "# Part 4"
      ]
    },
    {
      "cell_type": "code",
      "metadata": {
        "id": "Pp-i4ussO0T6"
      },
      "source": [
        "weights = np.full(len(train_x_2), 1 / len(train_x_2))\n",
        "M = 10\n",
        "max_depth = 1\n",
        "models = []\n",
        "alphas = []\n",
        "for j in range(M):\n",
        "  sample_indices = np.random.choice(len(train_x_2), size = len(train_x_2), replace = True, p = weights)\n",
        "  sample_train_x = train_x_2[sample_indices, :]\n",
        "  sample_train_y = train_y_2[sample_indices]\n",
        "  adaboost_tree = build_tree(sample_train_x, sample_train_y)\n",
        "  sample_train_pred =  predict_tree(sample_train_x, adaboost_tree)\n",
        "  j_m = np.sum([weights[i] * (sample_train_pred[i] != sample_train_y[i]) for i in range(len(weights))])\n",
        "  e_m = j_m / np.sum(weights)\n",
        "  alpha_m = np.log((1 - e_m) / e_m)\n",
        "  weights = [weights[i] * np.exp(alpha_m * (sample_train_pred[i] != sample_train_y[i])) for i in range(len(weights))] \n",
        "  weights = weights / np.sum(weights)\n",
        "  models.append(adaboost_tree)\n",
        "  alphas.append(alpha_m)"
      ],
      "execution_count": 73,
      "outputs": []
    },
    {
      "cell_type": "code",
      "metadata": {
        "id": "xvhPNdCcqO2d"
      },
      "source": [
        "# prediction for test set\n",
        "preds = []\n",
        "for i in range(M):\n",
        "  adaboost_test_pred =  predict_tree(test_x_2, models[i])\n",
        "  preds.append(alphas[i] * adaboost_test_pred)\n",
        "result = np.zeros((test_y_2.shape))\n",
        "for i in range(len(preds)):\n",
        "  result += preds[i]\n",
        "final_result = np.sign(result)"
      ],
      "execution_count": 74,
      "outputs": []
    },
    {
      "cell_type": "code",
      "metadata": {
        "colab": {
          "base_uri": "https://localhost:8080/"
        },
        "id": "Hh84UrIhSAKP",
        "outputId": "7a693cad-70ee-474c-abee-1c2145113882"
      },
      "source": [
        "print(\"Test Accuracy Adaboost:\", sum(final_result == test_y_2) * 100 / len(test_y_2),\"%\")"
      ],
      "execution_count": 75,
      "outputs": [
        {
          "output_type": "stream",
          "text": [
            "Test Accuracy Adaboost: 74.33155080213903 %\n"
          ],
          "name": "stdout"
        }
      ]
    },
    {
      "cell_type": "code",
      "metadata": {
        "colab": {
          "base_uri": "https://localhost:8080/"
        },
        "id": "i3rkSz7dSAKx",
        "outputId": "06236797-ddf2-497f-dd5d-abfef52821bc"
      },
      "source": [
        "tp = sum((test_y_2 == 1) & (final_result == 1))\n",
        "tn = sum((test_y_2 == 0) & (final_result == 0))\n",
        "fn = sum((test_y_2 == 1) & (final_result == 0))\n",
        "fp = sum((test_y_2 == 0) & (final_result == 1))\n",
        "precision = (tp)/ float( tp + fp)\n",
        "recall5 = (tp)/ float( tp + fn)\n",
        "fscore5 = (2 * precision * recall5) / (precision + recall5)\n",
        "print(\"Recall: \", recall5 * 100, \"%\")\n",
        "print(\"F1-score: \", fscore5) "
      ],
      "execution_count": 76,
      "outputs": [
        {
          "output_type": "stream",
          "text": [
            "Recall:  13.636363636363635 %\n",
            "F1-score:  0.19999999999999998\n"
          ],
          "name": "stdout"
        }
      ]
    },
    {
      "cell_type": "markdown",
      "metadata": {
        "id": "csNVxSq7ccTv"
      },
      "source": [
        "**Let's try the idea for part 2 here**"
      ]
    },
    {
      "cell_type": "code",
      "metadata": {
        "id": "JE0p-r-KhZOF"
      },
      "source": [
        "weights = np.full(len(train_x_4), 1 / len(train_x_4))\n",
        "M = 10\n",
        "max_depth = 1\n",
        "models = []\n",
        "alphas = []\n",
        "for j in range(M):\n",
        "  sample_indices = np.random.choice(len(train_x_4), size = len(train_x_4), replace = True, p = weights)\n",
        "  sample_train_x = train_x_4[sample_indices, :]\n",
        "  sample_train_y = train_y_4[sample_indices]\n",
        "  adaboost_tree = build_tree(sample_train_x, sample_train_y)\n",
        "  sample_train_pred =  predict_tree(sample_train_x, adaboost_tree)\n",
        "  j_m = np.sum([weights[i] * (sample_train_pred[i] != sample_train_y[i]) for i in range(len(weights))])\n",
        "  e_m = j_m / np.sum(weights)\n",
        "  alpha_m = np.log((1 - e_m) / e_m)\n",
        "  weights = [weights[i] * np.exp(alpha_m * (sample_train_pred[i] != sample_train_y[i])) for i in range(len(weights))] \n",
        "  weights = weights / np.sum(weights)\n",
        "  models.append(adaboost_tree)\n",
        "  alphas.append(alpha_m)"
      ],
      "execution_count": 77,
      "outputs": []
    },
    {
      "cell_type": "code",
      "metadata": {
        "id": "aTlPd6xXhZOP"
      },
      "source": [
        "# prediction for test set\n",
        "preds = []\n",
        "for i in range(M):\n",
        "  adaboost_test_pred =  predict_tree(test_x_4, models[i])\n",
        "  preds.append(alphas[i] * adaboost_test_pred)\n",
        "result = np.zeros((test_y_4.shape))\n",
        "for i in range(len(preds)):\n",
        "  result += preds[i]\n",
        "final_result = np.sign(result)"
      ],
      "execution_count": 78,
      "outputs": []
    },
    {
      "cell_type": "code",
      "metadata": {
        "colab": {
          "base_uri": "https://localhost:8080/"
        },
        "id": "MzfHBNSxhZOQ",
        "outputId": "d9a4b644-b4a5-4bac-8dff-19fd02403a89"
      },
      "source": [
        "print(\"Test Accuracy Adaboost:\", sum(final_result == test_y_4) * 100 / len(test_y_4),\"%\")"
      ],
      "execution_count": 79,
      "outputs": [
        {
          "output_type": "stream",
          "text": [
            "Test Accuracy Adaboost: 61.594202898550726 %\n"
          ],
          "name": "stdout"
        }
      ]
    },
    {
      "cell_type": "code",
      "metadata": {
        "colab": {
          "base_uri": "https://localhost:8080/"
        },
        "id": "uXtLEf1ehZOS",
        "outputId": "b1d152a1-61ca-41ef-8e54-a2ab63fb7e22"
      },
      "source": [
        "tp = sum((test_y_4 == 1) & (final_result == 1))\n",
        "tn = sum((test_y_4 == 0) & (final_result == 0))\n",
        "fn = sum((test_y_4 == 1) & (final_result == 0))\n",
        "fp = sum((test_y_4 == 0) & (final_result == 1))\n",
        "precision = (tp)/ float( tp + fp)\n",
        "recall6 = (tp)/ float( tp + fn)\n",
        "fscore6 = (2 * precision * recall6) / (precision + recall6)\n",
        "print(\"Recall previous: \", recall5 * 100, \"%\")\n",
        "print(\"Recall now: \", recall6 * 100, \"%\")\n",
        "print(\"F1-score previos: \", fscore5)\n",
        "print(\"F1-score now: \", fscore6) "
      ],
      "execution_count": 81,
      "outputs": [
        {
          "output_type": "stream",
          "text": [
            "Recall previous:  13.636363636363635 %\n",
            "Recall now:  89.70588235294117 %\n",
            "F1-score previos:  0.19999999999999998\n",
            "F1-score now:  0.6971428571428571\n"
          ],
          "name": "stdout"
        }
      ]
    },
    {
      "cell_type": "markdown",
      "metadata": {
        "id": "IO2HITYYrY8-"
      },
      "source": [
        "We can also see the improvement here too!"
      ]
    }
  ]
}