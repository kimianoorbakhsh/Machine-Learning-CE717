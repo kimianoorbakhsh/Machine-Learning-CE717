{
  "nbformat": 4,
  "nbformat_minor": 0,
  "metadata": {
    "kernelspec": {
      "display_name": "Python 3",
      "language": "python",
      "name": "python3"
    },
    "language_info": {
      "codemirror_mode": {
        "name": "ipython",
        "version": 3
      },
      "file_extension": ".py",
      "mimetype": "text/x-python",
      "name": "python",
      "nbconvert_exporter": "python",
      "pygments_lexer": "ipython3",
      "version": "3.8.1"
    },
    "colab": {
      "name": "HW2.ipynb",
      "provenance": [],
      "collapsed_sections": []
    }
  },
  "cells": [
    {
      "cell_type": "markdown",
      "metadata": {
        "id": "wNMHIOVVE41T"
      },
      "source": [
        "<div dir=rtl>\n",
        "نام و نام‌خانوادگی: کیمیا نوربخش \n",
        "    <br/>\n",
        "    شماره دانشجویی: 97107256\n",
        "</div>"
      ]
    },
    {
      "cell_type": "markdown",
      "metadata": {
        "id": "2uQt_nZKE41e"
      },
      "source": [
        "<div dir=\"rtl\">\n",
        "    <h1>\n",
        "        تمرین دوم\n",
        "    </h1>\n",
        "</div>\n",
        "<p></p>\n",
        "<div dir=\"rtl\">\n",
        "یکی از جذابیت‌های یادگیری ماشین کاربرد آن در صنایع مختلف است اما یکی از صنایعی که شاید بتواند حداکثر بهره را از این علم ببرد صنعت بانکداری‌ست. برای این منظور به سراغ اطلاعات بانکی هزار نفر می‌رویم و سعی می‌کنیم تحلیلی روی این داده‌های بانکی داشته باشیم.    \n",
        "</div>"
      ]
    },
    {
      "cell_type": "markdown",
      "metadata": {
        "id": "978stWX0E41f"
      },
      "source": [
        "<div dir=\"rtl\">\n",
        "توجه داشته باشید که در این تمرین قرار بر کد نویسی‌است و برای پیاده‌سازی یک ایده شاید هزاران راه وجود داشته باشد. اما همانطور که می‌دانید تمام راه‌هایی پیاده‌سازی راه‌های منطقی و درستی نیستند به همین خاطر، دو مساله در اینجا دارای اهمیت بالایی هستند اول تمیز کد زدن و دوم استفاده از ظرفیت‌های موجود در زبان، کتابخانه‌ها و همچنین فریم‌ورک‌هایی‌ست که شما در صورت لزوم با آن‌ها کار می‌کنید. \n",
        "    <ul>\n",
        "    <li/>\n",
        "        تا مجبور نشدید از حلقه و شرط استفاده نکنید.\n",
        "    <li/>\n",
        "          از توانایی‌های کتابخانه‌هایی نظیر \n",
        "        numpy و\n",
        "        pandas استفاده کنید. \n",
        "        صد البته از امکانات sklearn و pytorch و ... استفاده نکنید.\n",
        "    <li/>\n",
        "        از اول چرخی را اختراع نکنید.\n",
        "    <li/>\n",
        "        نمودارها در جایی که انتخاب نوع نمودار با شماست باید بطور واضح، منظوری را بیان کنند.یعنی در جاهایی که برای شما مشخص نشده از چه چیزی استفاده کنید با دلیل منطقی و استدلال(لزومی به نوشتن استدلال نیست) انتخاب را انجام دهید نه بصورت تصادفی و اولین نموداری که با آن آشنا هستید.\n",
        "    </ul>\n",
        "    رعایت نکردن این قوانین ممکن به از دست رفتن نمره بخش‌هایی از تمرین شما منجر شود حتی در صورتی که پاسخ صحیح توسط کد شما تولید شده باشد.\n",
        "</div>"
      ]
    },
    {
      "cell_type": "code",
      "metadata": {
        "id": "oCVzZ4tHE41g"
      },
      "source": [
        "import numpy as np\n",
        "import pandas as pd \n",
        "\n",
        "import matplotlib.pyplot as plt\n",
        "import seaborn as sns               \n",
        "%matplotlib inline\n",
        "sns.set()\n",
        "\n",
        "import warnings                                            \n",
        "warnings.filterwarnings('ignore') \n",
        "\n"
      ],
      "execution_count": 1,
      "outputs": []
    },
    {
      "cell_type": "markdown",
      "metadata": {
        "id": "r3huFQIRE41h"
      },
      "source": [
        "<div dir=rtl>\n",
        "    <h2>\n",
        "        بخش اول پاکسازی داده‌ها\n",
        "    (۱۷ نمره)\n",
        "    </h2>\n",
        "    </div>"
      ]
    },
    {
      "cell_type": "markdown",
      "metadata": {
        "id": "dgAtG_60E41i"
      },
      "source": [
        "<div dir=rtl>\n",
        "    ۱.(۳ نمره)\n",
        "    در این بخش شما برای رسیدن به درک درستی از داده‌ها آن‌ها را لود کنید و چند سطر ابتدایی آن‌ها را نشان دهید.\n",
        "    </div>"
      ]
    },
    {
      "cell_type": "code",
      "metadata": {
        "colab": {
          "base_uri": "https://localhost:8080/",
          "height": 202
        },
        "id": "-wIj6cHpE41j",
        "outputId": "37413c7b-ad54-4be6-d987-76b953820c6f"
      },
      "source": [
        "data = pd.read_csv('data.csv')\n",
        "data.head()"
      ],
      "execution_count": 2,
      "outputs": [
        {
          "output_type": "execute_result",
          "data": {
            "text/html": [
              "<div>\n",
              "<style scoped>\n",
              "    .dataframe tbody tr th:only-of-type {\n",
              "        vertical-align: middle;\n",
              "    }\n",
              "\n",
              "    .dataframe tbody tr th {\n",
              "        vertical-align: top;\n",
              "    }\n",
              "\n",
              "    .dataframe thead th {\n",
              "        text-align: right;\n",
              "    }\n",
              "</style>\n",
              "<table border=\"1\" class=\"dataframe\">\n",
              "  <thead>\n",
              "    <tr style=\"text-align: right;\">\n",
              "      <th></th>\n",
              "      <th>Unnamed: 0</th>\n",
              "      <th>Age</th>\n",
              "      <th>Sex</th>\n",
              "      <th>Job</th>\n",
              "      <th>Housing</th>\n",
              "      <th>Saving accounts</th>\n",
              "      <th>Checking account</th>\n",
              "      <th>Credit amount</th>\n",
              "      <th>Duration</th>\n",
              "      <th>Purpose</th>\n",
              "      <th>Risk</th>\n",
              "      <th>Loaned Before</th>\n",
              "    </tr>\n",
              "  </thead>\n",
              "  <tbody>\n",
              "    <tr>\n",
              "      <th>0</th>\n",
              "      <td>0</td>\n",
              "      <td>67</td>\n",
              "      <td>male</td>\n",
              "      <td>2</td>\n",
              "      <td>own</td>\n",
              "      <td>NaN</td>\n",
              "      <td>little</td>\n",
              "      <td>1169</td>\n",
              "      <td>6</td>\n",
              "      <td>radio/TV</td>\n",
              "      <td>good</td>\n",
              "      <td>T</td>\n",
              "    </tr>\n",
              "    <tr>\n",
              "      <th>1</th>\n",
              "      <td>1</td>\n",
              "      <td>22</td>\n",
              "      <td>female</td>\n",
              "      <td>2</td>\n",
              "      <td>own</td>\n",
              "      <td>little</td>\n",
              "      <td>moderate</td>\n",
              "      <td>5951</td>\n",
              "      <td>48</td>\n",
              "      <td>radio/TV</td>\n",
              "      <td>bad</td>\n",
              "      <td>T</td>\n",
              "    </tr>\n",
              "    <tr>\n",
              "      <th>2</th>\n",
              "      <td>2</td>\n",
              "      <td>49</td>\n",
              "      <td>male</td>\n",
              "      <td>1</td>\n",
              "      <td>own</td>\n",
              "      <td>little</td>\n",
              "      <td>NaN</td>\n",
              "      <td>2096</td>\n",
              "      <td>12</td>\n",
              "      <td>education</td>\n",
              "      <td>good</td>\n",
              "      <td>0</td>\n",
              "    </tr>\n",
              "    <tr>\n",
              "      <th>3</th>\n",
              "      <td>3</td>\n",
              "      <td>45</td>\n",
              "      <td>male</td>\n",
              "      <td>2</td>\n",
              "      <td>free</td>\n",
              "      <td>little</td>\n",
              "      <td>little</td>\n",
              "      <td>7882</td>\n",
              "      <td>42</td>\n",
              "      <td>furniture/equipment</td>\n",
              "      <td>good</td>\n",
              "      <td>N</td>\n",
              "    </tr>\n",
              "    <tr>\n",
              "      <th>4</th>\n",
              "      <td>4</td>\n",
              "      <td>53</td>\n",
              "      <td>male</td>\n",
              "      <td>2</td>\n",
              "      <td>free</td>\n",
              "      <td>little</td>\n",
              "      <td>little</td>\n",
              "      <td>4870</td>\n",
              "      <td>24</td>\n",
              "      <td>car</td>\n",
              "      <td>bad</td>\n",
              "      <td>*</td>\n",
              "    </tr>\n",
              "  </tbody>\n",
              "</table>\n",
              "</div>"
            ],
            "text/plain": [
              "   Unnamed: 0  Age     Sex  ...              Purpose  Risk Loaned Before\n",
              "0           0   67    male  ...             radio/TV  good             T\n",
              "1           1   22  female  ...             radio/TV   bad             T\n",
              "2           2   49    male  ...            education  good             0\n",
              "3           3   45    male  ...  furniture/equipment  good             N\n",
              "4           4   53    male  ...                  car   bad             *\n",
              "\n",
              "[5 rows x 12 columns]"
            ]
          },
          "metadata": {
            "tags": []
          },
          "execution_count": 2
        }
      ]
    },
    {
      "cell_type": "markdown",
      "metadata": {
        "id": "V7A48v5XE41k"
      },
      "source": [
        "<div dir=rtl>\n",
        "    ۲.(۵ نمره)\n",
        " در این بخش سعی کنید اطلاعات زیر را از داده‌ها نمایش دهید:\n",
        "    <ul>\n",
        "        <li\\>\n",
        "            جنس اطلاعات هر ستون را نمایش دهید(عددی یا غیر عددی بودن)\n",
        "        <li\\>\n",
        "        درصد داده‌های Null هر ستون    \n",
        "        <li\\>\n",
        "        برای ستون‌ها با داده‌های عددی اطلاعات آماری(میانگین، واریانس، کوچک‌ترین و بزرگترین) را نمایش دهید.\n",
        "        <li\\>\n",
        "            برای ستون‌ها با داده‌های غیر عددی تعداد عناصر یکتا در آن ستون را نمایش دهید(unique)\n",
        "</div>"
      ]
    },
    {
      "cell_type": "code",
      "metadata": {
        "colab": {
          "base_uri": "https://localhost:8080/"
        },
        "id": "whrQcFvAE41k",
        "outputId": "bd503f31-ab05-4d9f-e94d-b9b8bf99eff0"
      },
      "source": [
        "# Data Types\n",
        "data.dtypes"
      ],
      "execution_count": 3,
      "outputs": [
        {
          "output_type": "execute_result",
          "data": {
            "text/plain": [
              "Unnamed: 0           int64\n",
              "Age                  int64\n",
              "Sex                 object\n",
              "Job                  int64\n",
              "Housing             object\n",
              "Saving accounts     object\n",
              "Checking account    object\n",
              "Credit amount        int64\n",
              "Duration             int64\n",
              "Purpose             object\n",
              "Risk                object\n",
              "Loaned Before       object\n",
              "dtype: object"
            ]
          },
          "metadata": {
            "tags": []
          },
          "execution_count": 3
        }
      ]
    },
    {
      "cell_type": "code",
      "metadata": {
        "colab": {
          "base_uri": "https://localhost:8080/",
          "height": 417
        },
        "id": "chnb8fwCT6aD",
        "outputId": "d2b9b4c3-38d7-4ab2-cb4d-022e3ec969a6"
      },
      "source": [
        "# Null Percentages\n",
        "null_value_percent = data.isnull().sum() * 100 / len(data)\n",
        "pd.DataFrame({'Column Name': data.columns, 'Null Percent': null_value_percent})"
      ],
      "execution_count": 4,
      "outputs": [
        {
          "output_type": "execute_result",
          "data": {
            "text/html": [
              "<div>\n",
              "<style scoped>\n",
              "    .dataframe tbody tr th:only-of-type {\n",
              "        vertical-align: middle;\n",
              "    }\n",
              "\n",
              "    .dataframe tbody tr th {\n",
              "        vertical-align: top;\n",
              "    }\n",
              "\n",
              "    .dataframe thead th {\n",
              "        text-align: right;\n",
              "    }\n",
              "</style>\n",
              "<table border=\"1\" class=\"dataframe\">\n",
              "  <thead>\n",
              "    <tr style=\"text-align: right;\">\n",
              "      <th></th>\n",
              "      <th>Column Name</th>\n",
              "      <th>Null Percent</th>\n",
              "    </tr>\n",
              "  </thead>\n",
              "  <tbody>\n",
              "    <tr>\n",
              "      <th>Unnamed: 0</th>\n",
              "      <td>Unnamed: 0</td>\n",
              "      <td>0.0</td>\n",
              "    </tr>\n",
              "    <tr>\n",
              "      <th>Age</th>\n",
              "      <td>Age</td>\n",
              "      <td>0.0</td>\n",
              "    </tr>\n",
              "    <tr>\n",
              "      <th>Sex</th>\n",
              "      <td>Sex</td>\n",
              "      <td>0.0</td>\n",
              "    </tr>\n",
              "    <tr>\n",
              "      <th>Job</th>\n",
              "      <td>Job</td>\n",
              "      <td>0.0</td>\n",
              "    </tr>\n",
              "    <tr>\n",
              "      <th>Housing</th>\n",
              "      <td>Housing</td>\n",
              "      <td>0.0</td>\n",
              "    </tr>\n",
              "    <tr>\n",
              "      <th>Saving accounts</th>\n",
              "      <td>Saving accounts</td>\n",
              "      <td>18.3</td>\n",
              "    </tr>\n",
              "    <tr>\n",
              "      <th>Checking account</th>\n",
              "      <td>Checking account</td>\n",
              "      <td>39.4</td>\n",
              "    </tr>\n",
              "    <tr>\n",
              "      <th>Credit amount</th>\n",
              "      <td>Credit amount</td>\n",
              "      <td>0.0</td>\n",
              "    </tr>\n",
              "    <tr>\n",
              "      <th>Duration</th>\n",
              "      <td>Duration</td>\n",
              "      <td>0.0</td>\n",
              "    </tr>\n",
              "    <tr>\n",
              "      <th>Purpose</th>\n",
              "      <td>Purpose</td>\n",
              "      <td>0.0</td>\n",
              "    </tr>\n",
              "    <tr>\n",
              "      <th>Risk</th>\n",
              "      <td>Risk</td>\n",
              "      <td>0.0</td>\n",
              "    </tr>\n",
              "    <tr>\n",
              "      <th>Loaned Before</th>\n",
              "      <td>Loaned Before</td>\n",
              "      <td>0.0</td>\n",
              "    </tr>\n",
              "  </tbody>\n",
              "</table>\n",
              "</div>"
            ],
            "text/plain": [
              "                       Column Name  Null Percent\n",
              "Unnamed: 0              Unnamed: 0           0.0\n",
              "Age                            Age           0.0\n",
              "Sex                            Sex           0.0\n",
              "Job                            Job           0.0\n",
              "Housing                    Housing           0.0\n",
              "Saving accounts    Saving accounts          18.3\n",
              "Checking account  Checking account          39.4\n",
              "Credit amount        Credit amount           0.0\n",
              "Duration                  Duration           0.0\n",
              "Purpose                    Purpose           0.0\n",
              "Risk                          Risk           0.0\n",
              "Loaned Before        Loaned Before           0.0"
            ]
          },
          "metadata": {
            "tags": []
          },
          "execution_count": 4
        }
      ]
    },
    {
      "cell_type": "code",
      "metadata": {
        "colab": {
          "base_uri": "https://localhost:8080/",
          "height": 294
        },
        "id": "7DEL6j8rVT-D",
        "outputId": "a2eb4317-905d-4647-80aa-5b539e841e7b"
      },
      "source": [
        "# Statistics\n",
        "data.describe(include=[np.number])"
      ],
      "execution_count": 5,
      "outputs": [
        {
          "output_type": "execute_result",
          "data": {
            "text/html": [
              "<div>\n",
              "<style scoped>\n",
              "    .dataframe tbody tr th:only-of-type {\n",
              "        vertical-align: middle;\n",
              "    }\n",
              "\n",
              "    .dataframe tbody tr th {\n",
              "        vertical-align: top;\n",
              "    }\n",
              "\n",
              "    .dataframe thead th {\n",
              "        text-align: right;\n",
              "    }\n",
              "</style>\n",
              "<table border=\"1\" class=\"dataframe\">\n",
              "  <thead>\n",
              "    <tr style=\"text-align: right;\">\n",
              "      <th></th>\n",
              "      <th>Unnamed: 0</th>\n",
              "      <th>Age</th>\n",
              "      <th>Job</th>\n",
              "      <th>Credit amount</th>\n",
              "      <th>Duration</th>\n",
              "    </tr>\n",
              "  </thead>\n",
              "  <tbody>\n",
              "    <tr>\n",
              "      <th>count</th>\n",
              "      <td>1000.000000</td>\n",
              "      <td>1000.000000</td>\n",
              "      <td>1000.000000</td>\n",
              "      <td>1000.000000</td>\n",
              "      <td>1000.000000</td>\n",
              "    </tr>\n",
              "    <tr>\n",
              "      <th>mean</th>\n",
              "      <td>499.500000</td>\n",
              "      <td>35.546000</td>\n",
              "      <td>1.904000</td>\n",
              "      <td>3271.258000</td>\n",
              "      <td>20.903000</td>\n",
              "    </tr>\n",
              "    <tr>\n",
              "      <th>std</th>\n",
              "      <td>288.819436</td>\n",
              "      <td>11.375469</td>\n",
              "      <td>0.653614</td>\n",
              "      <td>2822.736876</td>\n",
              "      <td>12.058814</td>\n",
              "    </tr>\n",
              "    <tr>\n",
              "      <th>min</th>\n",
              "      <td>0.000000</td>\n",
              "      <td>19.000000</td>\n",
              "      <td>0.000000</td>\n",
              "      <td>250.000000</td>\n",
              "      <td>4.000000</td>\n",
              "    </tr>\n",
              "    <tr>\n",
              "      <th>25%</th>\n",
              "      <td>249.750000</td>\n",
              "      <td>27.000000</td>\n",
              "      <td>2.000000</td>\n",
              "      <td>1365.500000</td>\n",
              "      <td>12.000000</td>\n",
              "    </tr>\n",
              "    <tr>\n",
              "      <th>50%</th>\n",
              "      <td>499.500000</td>\n",
              "      <td>33.000000</td>\n",
              "      <td>2.000000</td>\n",
              "      <td>2319.500000</td>\n",
              "      <td>18.000000</td>\n",
              "    </tr>\n",
              "    <tr>\n",
              "      <th>75%</th>\n",
              "      <td>749.250000</td>\n",
              "      <td>42.000000</td>\n",
              "      <td>2.000000</td>\n",
              "      <td>3972.250000</td>\n",
              "      <td>24.000000</td>\n",
              "    </tr>\n",
              "    <tr>\n",
              "      <th>max</th>\n",
              "      <td>999.000000</td>\n",
              "      <td>75.000000</td>\n",
              "      <td>3.000000</td>\n",
              "      <td>18424.000000</td>\n",
              "      <td>72.000000</td>\n",
              "    </tr>\n",
              "  </tbody>\n",
              "</table>\n",
              "</div>"
            ],
            "text/plain": [
              "        Unnamed: 0          Age          Job  Credit amount     Duration\n",
              "count  1000.000000  1000.000000  1000.000000    1000.000000  1000.000000\n",
              "mean    499.500000    35.546000     1.904000    3271.258000    20.903000\n",
              "std     288.819436    11.375469     0.653614    2822.736876    12.058814\n",
              "min       0.000000    19.000000     0.000000     250.000000     4.000000\n",
              "25%     249.750000    27.000000     2.000000    1365.500000    12.000000\n",
              "50%     499.500000    33.000000     2.000000    2319.500000    18.000000\n",
              "75%     749.250000    42.000000     2.000000    3972.250000    24.000000\n",
              "max     999.000000    75.000000     3.000000   18424.000000    72.000000"
            ]
          },
          "metadata": {
            "tags": []
          },
          "execution_count": 5
        }
      ]
    },
    {
      "cell_type": "code",
      "metadata": {
        "colab": {
          "base_uri": "https://localhost:8080/"
        },
        "id": "wuVFJTcFYU20",
        "outputId": "c857f86c-f1e4-4b69-ac83-fa85eac10b9d"
      },
      "source": [
        "# Unique Values\n",
        "data.select_dtypes(exclude='number').nunique()"
      ],
      "execution_count": 6,
      "outputs": [
        {
          "output_type": "execute_result",
          "data": {
            "text/plain": [
              "Sex                 2\n",
              "Housing             3\n",
              "Saving accounts     4\n",
              "Checking account    3\n",
              "Purpose             8\n",
              "Risk                2\n",
              "Loaned Before       9\n",
              "dtype: int64"
            ]
          },
          "metadata": {
            "tags": []
          },
          "execution_count": 6
        }
      ]
    },
    {
      "cell_type": "markdown",
      "metadata": {
        "id": "2N3kNVi5E41l"
      },
      "source": [
        "<div dir=rtl>\n",
        "    ۳.(۲ نمره)\n",
        "    همانطور که دیده می‌شود ستون اول اسمی ندارد برای آن اسمی مناسب\n",
        "    (مثلا id) بگذارید.\n",
        "    </div>"
      ]
    },
    {
      "cell_type": "code",
      "metadata": {
        "id": "pQPwWok-E41l"
      },
      "source": [
        "data.rename( columns={'Unnamed: 0':'id'}, inplace=True )"
      ],
      "execution_count": 7,
      "outputs": []
    },
    {
      "cell_type": "code",
      "metadata": {
        "colab": {
          "base_uri": "https://localhost:8080/",
          "height": 79
        },
        "id": "lyncnAbBnaMw",
        "outputId": "2fe9375d-78e7-4c14-a645-a15e0d3282c8"
      },
      "source": [
        "data.head(1)"
      ],
      "execution_count": 8,
      "outputs": [
        {
          "output_type": "execute_result",
          "data": {
            "text/html": [
              "<div>\n",
              "<style scoped>\n",
              "    .dataframe tbody tr th:only-of-type {\n",
              "        vertical-align: middle;\n",
              "    }\n",
              "\n",
              "    .dataframe tbody tr th {\n",
              "        vertical-align: top;\n",
              "    }\n",
              "\n",
              "    .dataframe thead th {\n",
              "        text-align: right;\n",
              "    }\n",
              "</style>\n",
              "<table border=\"1\" class=\"dataframe\">\n",
              "  <thead>\n",
              "    <tr style=\"text-align: right;\">\n",
              "      <th></th>\n",
              "      <th>id</th>\n",
              "      <th>Age</th>\n",
              "      <th>Sex</th>\n",
              "      <th>Job</th>\n",
              "      <th>Housing</th>\n",
              "      <th>Saving accounts</th>\n",
              "      <th>Checking account</th>\n",
              "      <th>Credit amount</th>\n",
              "      <th>Duration</th>\n",
              "      <th>Purpose</th>\n",
              "      <th>Risk</th>\n",
              "      <th>Loaned Before</th>\n",
              "    </tr>\n",
              "  </thead>\n",
              "  <tbody>\n",
              "    <tr>\n",
              "      <th>0</th>\n",
              "      <td>0</td>\n",
              "      <td>67</td>\n",
              "      <td>male</td>\n",
              "      <td>2</td>\n",
              "      <td>own</td>\n",
              "      <td>NaN</td>\n",
              "      <td>little</td>\n",
              "      <td>1169</td>\n",
              "      <td>6</td>\n",
              "      <td>radio/TV</td>\n",
              "      <td>good</td>\n",
              "      <td>T</td>\n",
              "    </tr>\n",
              "  </tbody>\n",
              "</table>\n",
              "</div>"
            ],
            "text/plain": [
              "   id  Age   Sex  Job  ... Duration   Purpose  Risk  Loaned Before\n",
              "0   0   67  male    2  ...        6  radio/TV  good              T\n",
              "\n",
              "[1 rows x 12 columns]"
            ]
          },
          "metadata": {
            "tags": []
          },
          "execution_count": 8
        }
      ]
    },
    {
      "cell_type": "markdown",
      "metadata": {
        "id": "KzUvpiJ1E41m"
      },
      "source": [
        "<div dir=rtl>\n",
        "    ۴.(۳ نمره)\n",
        "    اطلاعات ستون Loaned Before\n",
        "    ناهمگن هستند که دلیل آن جمع آوری داده‌ها از دیتابیس‌های مختلف است. لطفا تمام این داده‌ها به یک صورت در بیاورید.(T Y 1 به معنای True و F N 0 به معنای False هستند و هر داده دیگری بی‌معنی‌است یعنی ما در مورد آن اطلاعی نداریم. توجه کنید که هر داده‌ی دیگری!\n",
        "    )   \n",
        "</div>"
      ]
    },
    {
      "cell_type": "code",
      "metadata": {
        "id": "N_6UwszrE41n"
      },
      "source": [
        "data[\"Loaned Before\"].replace([\"T\", \"Y\", 1, \"1\"], True, inplace = True)\n",
        "data[\"Loaned Before\"].replace([\"F\", \"N\", 0, \"0\"], False, inplace = True)\n",
        "data[\"Loaned Before\"].loc[~data[\"Loaned Before\"].isin([True, False])] = np.nan"
      ],
      "execution_count": 9,
      "outputs": []
    },
    {
      "cell_type": "code",
      "metadata": {
        "colab": {
          "base_uri": "https://localhost:8080/"
        },
        "id": "Cmgl-q82rKfH",
        "outputId": "a699b259-dd2b-4342-da3b-ce0cba0d7b72"
      },
      "source": [
        "data[\"Loaned Before\"].head(10)"
      ],
      "execution_count": 10,
      "outputs": [
        {
          "output_type": "execute_result",
          "data": {
            "text/plain": [
              "0     True\n",
              "1     True\n",
              "2    False\n",
              "3    False\n",
              "4      NaN\n",
              "5     True\n",
              "6      NaN\n",
              "7     True\n",
              "8      NaN\n",
              "9    False\n",
              "Name: Loaned Before, dtype: object"
            ]
          },
          "metadata": {
            "tags": []
          },
          "execution_count": 10
        }
      ]
    },
    {
      "cell_type": "markdown",
      "metadata": {
        "id": "pWH7UBHuE41n"
      },
      "source": [
        "<div dir=rtl>\n",
        "    ۵.(۴ نمره)\n",
        "    برای ستون‌هایی که دارای داده‌های تهی هستند تصمیمی اتخاذ کنید و برای اتخاذ این تصمیم ابتدا به بررسی روش‌های برخورد با داده‌های تهی بپردازید و ۴ مورد از سیاست‌هایی که می‌توان در پیش گرفت را در اینجا شرح دهید.\n",
        "    و مقادیر تهی را در دیتافریم کنونی با \n",
        "    no-info \n",
        "    جایگزین کنید\n",
        "</div>"
      ]
    },
    {
      "cell_type": "markdown",
      "metadata": {
        "id": "8WkGLqwd28CX"
      },
      "source": [
        "<div dir=rtl>\n",
        "پاسخ: \n",
        "      از بخش‌های قبلی می‌دانیم که مقادی ستون‌های \n",
        "      Saving accounts\n",
        "      و\n",
        "      Checking account\n",
        "      و همچنین \n",
        "      Loaned Before\n",
        "      دارای \n",
        "      nan\n",
        "      هستند. \n",
        "      حال به بررسی 4 تا از روش‌های رایج برای برخورد با چنین داده‌هایی می‌پردازیم.\n",
        "<ul>\n",
        "    <li/>\n",
        "       روش اول این است که تمام سطرهایی از داده که شامل \n",
        "      nan \n",
        "      هستند را حذف کنیم.\n",
        "    <li/>\n",
        "          روش دوم این است که داده‌های \n",
        "          nan\n",
        "          را با یک داده جدید پر کنیم. برای این کار می‌توانیم برای ستون‌هایی که شامل داده \n",
        "          categorical\n",
        "          هستند، یک \n",
        "          category\n",
        "          جدید اضافه کنیم و برای ستون‌هایی که شامل داده‌های عددی هستند، مقدار داده \n",
        "          nan\n",
        "          را برابر میانگین و یا میانه سایر داده‌های آن ستون قرار دهیم.\n",
        "    <li/>\n",
        "می‌توانیم از مدل‌های \n",
        "regression\n",
        "و \n",
        "classification\n",
        "برای پیش‌بینی مقادیر \n",
        "nan\n",
        "استفاده کنیم و آن‌ها را با مقادیر پیش‌بینی شده، جایگزین کنیم.\n",
        "    <li/>\n",
        "روش آخر هم این است که از روش‌هایی استفاده کنیم که داده‌ا‌های \n",
        "null\n",
        "را پشتیبانی می‌کنند. \n",
        "مانند روش \n",
        "K- Nearest Neighbors.\n",
        "    </ul>\n",
        "</div>"
      ]
    },
    {
      "cell_type": "code",
      "metadata": {
        "id": "5v58G5ubE41o"
      },
      "source": [
        "data.fillna(\"no-info\", inplace=True)"
      ],
      "execution_count": 11,
      "outputs": []
    },
    {
      "cell_type": "code",
      "metadata": {
        "colab": {
          "base_uri": "https://localhost:8080/",
          "height": 355
        },
        "id": "ssrr90tL38JM",
        "outputId": "7dd58454-9b63-4ba1-8206-63dd8643a696"
      },
      "source": [
        "data.head(10)"
      ],
      "execution_count": 12,
      "outputs": [
        {
          "output_type": "execute_result",
          "data": {
            "text/html": [
              "<div>\n",
              "<style scoped>\n",
              "    .dataframe tbody tr th:only-of-type {\n",
              "        vertical-align: middle;\n",
              "    }\n",
              "\n",
              "    .dataframe tbody tr th {\n",
              "        vertical-align: top;\n",
              "    }\n",
              "\n",
              "    .dataframe thead th {\n",
              "        text-align: right;\n",
              "    }\n",
              "</style>\n",
              "<table border=\"1\" class=\"dataframe\">\n",
              "  <thead>\n",
              "    <tr style=\"text-align: right;\">\n",
              "      <th></th>\n",
              "      <th>id</th>\n",
              "      <th>Age</th>\n",
              "      <th>Sex</th>\n",
              "      <th>Job</th>\n",
              "      <th>Housing</th>\n",
              "      <th>Saving accounts</th>\n",
              "      <th>Checking account</th>\n",
              "      <th>Credit amount</th>\n",
              "      <th>Duration</th>\n",
              "      <th>Purpose</th>\n",
              "      <th>Risk</th>\n",
              "      <th>Loaned Before</th>\n",
              "    </tr>\n",
              "  </thead>\n",
              "  <tbody>\n",
              "    <tr>\n",
              "      <th>0</th>\n",
              "      <td>0</td>\n",
              "      <td>67</td>\n",
              "      <td>male</td>\n",
              "      <td>2</td>\n",
              "      <td>own</td>\n",
              "      <td>no-info</td>\n",
              "      <td>little</td>\n",
              "      <td>1169</td>\n",
              "      <td>6</td>\n",
              "      <td>radio/TV</td>\n",
              "      <td>good</td>\n",
              "      <td>True</td>\n",
              "    </tr>\n",
              "    <tr>\n",
              "      <th>1</th>\n",
              "      <td>1</td>\n",
              "      <td>22</td>\n",
              "      <td>female</td>\n",
              "      <td>2</td>\n",
              "      <td>own</td>\n",
              "      <td>little</td>\n",
              "      <td>moderate</td>\n",
              "      <td>5951</td>\n",
              "      <td>48</td>\n",
              "      <td>radio/TV</td>\n",
              "      <td>bad</td>\n",
              "      <td>True</td>\n",
              "    </tr>\n",
              "    <tr>\n",
              "      <th>2</th>\n",
              "      <td>2</td>\n",
              "      <td>49</td>\n",
              "      <td>male</td>\n",
              "      <td>1</td>\n",
              "      <td>own</td>\n",
              "      <td>little</td>\n",
              "      <td>no-info</td>\n",
              "      <td>2096</td>\n",
              "      <td>12</td>\n",
              "      <td>education</td>\n",
              "      <td>good</td>\n",
              "      <td>False</td>\n",
              "    </tr>\n",
              "    <tr>\n",
              "      <th>3</th>\n",
              "      <td>3</td>\n",
              "      <td>45</td>\n",
              "      <td>male</td>\n",
              "      <td>2</td>\n",
              "      <td>free</td>\n",
              "      <td>little</td>\n",
              "      <td>little</td>\n",
              "      <td>7882</td>\n",
              "      <td>42</td>\n",
              "      <td>furniture/equipment</td>\n",
              "      <td>good</td>\n",
              "      <td>False</td>\n",
              "    </tr>\n",
              "    <tr>\n",
              "      <th>4</th>\n",
              "      <td>4</td>\n",
              "      <td>53</td>\n",
              "      <td>male</td>\n",
              "      <td>2</td>\n",
              "      <td>free</td>\n",
              "      <td>little</td>\n",
              "      <td>little</td>\n",
              "      <td>4870</td>\n",
              "      <td>24</td>\n",
              "      <td>car</td>\n",
              "      <td>bad</td>\n",
              "      <td>no-info</td>\n",
              "    </tr>\n",
              "    <tr>\n",
              "      <th>5</th>\n",
              "      <td>5</td>\n",
              "      <td>35</td>\n",
              "      <td>male</td>\n",
              "      <td>1</td>\n",
              "      <td>free</td>\n",
              "      <td>no-info</td>\n",
              "      <td>no-info</td>\n",
              "      <td>9055</td>\n",
              "      <td>36</td>\n",
              "      <td>education</td>\n",
              "      <td>good</td>\n",
              "      <td>True</td>\n",
              "    </tr>\n",
              "    <tr>\n",
              "      <th>6</th>\n",
              "      <td>6</td>\n",
              "      <td>53</td>\n",
              "      <td>male</td>\n",
              "      <td>2</td>\n",
              "      <td>own</td>\n",
              "      <td>quite rich</td>\n",
              "      <td>no-info</td>\n",
              "      <td>2835</td>\n",
              "      <td>24</td>\n",
              "      <td>furniture/equipment</td>\n",
              "      <td>good</td>\n",
              "      <td>no-info</td>\n",
              "    </tr>\n",
              "    <tr>\n",
              "      <th>7</th>\n",
              "      <td>7</td>\n",
              "      <td>35</td>\n",
              "      <td>male</td>\n",
              "      <td>3</td>\n",
              "      <td>rent</td>\n",
              "      <td>little</td>\n",
              "      <td>moderate</td>\n",
              "      <td>6948</td>\n",
              "      <td>36</td>\n",
              "      <td>car</td>\n",
              "      <td>good</td>\n",
              "      <td>True</td>\n",
              "    </tr>\n",
              "    <tr>\n",
              "      <th>8</th>\n",
              "      <td>8</td>\n",
              "      <td>61</td>\n",
              "      <td>male</td>\n",
              "      <td>1</td>\n",
              "      <td>own</td>\n",
              "      <td>rich</td>\n",
              "      <td>no-info</td>\n",
              "      <td>3059</td>\n",
              "      <td>12</td>\n",
              "      <td>radio/TV</td>\n",
              "      <td>good</td>\n",
              "      <td>no-info</td>\n",
              "    </tr>\n",
              "    <tr>\n",
              "      <th>9</th>\n",
              "      <td>9</td>\n",
              "      <td>28</td>\n",
              "      <td>male</td>\n",
              "      <td>3</td>\n",
              "      <td>own</td>\n",
              "      <td>little</td>\n",
              "      <td>moderate</td>\n",
              "      <td>5234</td>\n",
              "      <td>30</td>\n",
              "      <td>car</td>\n",
              "      <td>bad</td>\n",
              "      <td>False</td>\n",
              "    </tr>\n",
              "  </tbody>\n",
              "</table>\n",
              "</div>"
            ],
            "text/plain": [
              "   id  Age     Sex  Job  ... Duration              Purpose  Risk  Loaned Before\n",
              "0   0   67    male    2  ...        6             radio/TV  good           True\n",
              "1   1   22  female    2  ...       48             radio/TV   bad           True\n",
              "2   2   49    male    1  ...       12            education  good          False\n",
              "3   3   45    male    2  ...       42  furniture/equipment  good          False\n",
              "4   4   53    male    2  ...       24                  car   bad        no-info\n",
              "5   5   35    male    1  ...       36            education  good           True\n",
              "6   6   53    male    2  ...       24  furniture/equipment  good        no-info\n",
              "7   7   35    male    3  ...       36                  car  good           True\n",
              "8   8   61    male    1  ...       12             radio/TV  good        no-info\n",
              "9   9   28    male    3  ...       30                  car   bad          False\n",
              "\n",
              "[10 rows x 12 columns]"
            ]
          },
          "metadata": {
            "tags": []
          },
          "execution_count": 12
        }
      ]
    },
    {
      "cell_type": "markdown",
      "metadata": {
        "id": "CcS9QY3-E41o"
      },
      "source": [
        "<div dir=rtl>\n",
        "    <h2>\n",
        "        EDA \n",
        "        (۴۱ نمره)\n",
        "    </h2>\n",
        "    </div>"
      ]
    },
    {
      "cell_type": "markdown",
      "metadata": {
        "id": "pVZhpyAwE41p"
      },
      "source": [
        "<div dir=rtl>\n",
        "    تا به اینجای کار اندکی با داده‌ها آشنا شدیم و همچنین سعی شد مشکلاتی را که در این دادگان وجود داشت اصلاح کنیم. در این بخش به سراغ EDA می‌رویم تا کمی دیدمان نسبت به این داده‌ها گسترش پیدا کند. \n",
        "</div>"
      ]
    },
    {
      "cell_type": "markdown",
      "metadata": {
        "id": "bP5jWnb7E41p"
      },
      "source": [
        "<div dir=rtl>\n",
        "    ۶.(۲ نمره)\n",
        "    در یک نمودار تعداد افراد با ریسک خوب و بد را با هم مقایسه نمایید.\n",
        "    </div>"
      ]
    },
    {
      "cell_type": "code",
      "metadata": {
        "colab": {
          "base_uri": "https://localhost:8080/",
          "height": 355
        },
        "id": "6y8i51JfE41u",
        "outputId": "28083d31-14fa-4e97-f1e0-a36ba2e9d1ee"
      },
      "source": [
        "print(data['Risk'].value_counts())\n",
        "data['Risk'].value_counts().plot(kind = 'bar')\n",
        "plt.ylabel(\"# of people\")"
      ],
      "execution_count": 13,
      "outputs": [
        {
          "output_type": "stream",
          "text": [
            "good    700\n",
            "bad     300\n",
            "Name: Risk, dtype: int64\n"
          ],
          "name": "stdout"
        },
        {
          "output_type": "execute_result",
          "data": {
            "text/plain": [
              "Text(0, 0.5, '# of people')"
            ]
          },
          "metadata": {
            "tags": []
          },
          "execution_count": 13
        },
        {
          "output_type": "display_data",
          "data": {
            "image/png": "[encoded data removed]",
            "text/plain": [
              "<Figure size 432x288 with 1 Axes>"
            ]
          },
          "metadata": {
            "tags": [],
            "needs_background": "light"
          }
        }
      ]
    },
    {
      "cell_type": "markdown",
      "metadata": {
        "id": "y0oZo-ZSE41u"
      },
      "source": [
        "<div dir=rtl>\n",
        "    ۷.(۳ نمره)\n",
        "    همان کار سوال قبلی را این‌بار به تفکیک جنسیت انجام دهید.(در یک نمودار این کار را انجام دهید.)\n",
        "    </div>"
      ]
    },
    {
      "cell_type": "code",
      "metadata": {
        "colab": {
          "base_uri": "https://localhost:8080/",
          "height": 394
        },
        "id": "xOrrgiHmE41v",
        "outputId": "25455c5e-afc5-4e17-b1bc-1d8133bd0c9d"
      },
      "source": [
        "fig, ax = plt.subplots(figsize=(10, 6))\n",
        "sns.countplot(x = \"Sex\",\n",
        "              data = data,\n",
        "              ax = ax,\n",
        "              hue = \"Risk\",\n",
        "              palette=\"Set1\")\n",
        "handles, labels = ax.get_legend_handles_labels()\n",
        "ax.legend(handles, [\"good\", \"bad\"], title='Risk', fontsize=16, title_fontsize=20)\n",
        "sns.despine(right = True)\n",
        "plt.ylabel(\"# of people\")\n",
        "plt.show()"
      ],
      "execution_count": 14,
      "outputs": [
        {
          "output_type": "display_data",
          "data": {
            "image/png": "[encoded data removed]",
            "text/plain": [
              "<Figure size 720x432 with 1 Axes>"
            ]
          },
          "metadata": {
            "tags": [],
            "needs_background": "light"
          }
        }
      ]
    },
    {
      "cell_type": "markdown",
      "metadata": {
        "id": "GmdG0mPVE41v"
      },
      "source": [
        "<div dir=rtl>\n",
        "    ۸.(۲ نمره)\n",
        "    بجای تفکیک بر حسب جنسیت افراد را برحسب زمان(Duration) دسته‌بندی نمایید و ریسک وام‌دهی به آن‌ها را در یک نمودار به نمایش بگذارید.\n",
        "</div>"
      ]
    },
    {
      "cell_type": "markdown",
      "metadata": {
        "id": "xgFAEYrpwT3k"
      },
      "source": [
        "<div dir=rtl>\n",
        "<b>\n",
        "    روش اول برای رسم این نمودار\n",
        "</div>"
      ]
    },
    {
      "cell_type": "code",
      "metadata": {
        "colab": {
          "base_uri": "https://localhost:8080/",
          "height": 394
        },
        "id": "MHQAEWgmwMRF",
        "outputId": "535b4b03-05de-4c9e-bef9-90f5c435573b"
      },
      "source": [
        "fig, ax = plt.subplots(figsize=(10, 6))\n",
        "sns.countplot(x = \"Duration\",\n",
        "              data = data,\n",
        "              ax = ax,\n",
        "              hue = \"Risk\",\n",
        "              palette=\"Set1\")\n",
        "handles, labels = ax.get_legend_handles_labels()\n",
        "ax.legend(handles, [\"good\", \"bad\"], title='Risk', fontsize=16, title_fontsize=20)\n",
        "sns.despine(right = True)\n",
        "plt.ylabel(\"# of people\")\n",
        "plt.show()"
      ],
      "execution_count": 15,
      "outputs": [
        {
          "output_type": "display_data",
          "data": {
            "image/png": "[encoded data removed]",
            "text/plain": [
              "<Figure size 720x432 with 1 Axes>"
            ]
          },
          "metadata": {
            "tags": [],
            "needs_background": "light"
          }
        }
      ]
    },
    {
      "cell_type": "markdown",
      "metadata": {
        "id": "Om8ZNLfcwqTN"
      },
      "source": [
        "<div dir=rtl>\n",
        "<b>\n",
        "روش دوم (بازه بندی)\n",
        "</div>"
      ]
    },
    {
      "cell_type": "code",
      "metadata": {
        "id": "2LoXl4nu6opd"
      },
      "source": [
        "good_risk_duration = data[data['Risk'] == \"good\"]['Duration']\n",
        "bad_risk_duration = data[data['Risk'] == \"bad\"]['Duration']\n",
        "bins = [4, 8, 12, 16, 20, 24, 28, 32, 36, 40, 44, 48, 52, 56, 60, 64, 68, 72]"
      ],
      "execution_count": 16,
      "outputs": []
    },
    {
      "cell_type": "code",
      "metadata": {
        "colab": {
          "base_uri": "https://localhost:8080/",
          "height": 286
        },
        "id": "DTFGUZKdE41w",
        "outputId": "53e32bc9-0049-4258-c2db-a445b2f5315b"
      },
      "source": [
        "plt.hist(good_risk_duration, bins = bins, ec='w', density=True, alpha=0.8, label='Good Risk', color= \"Green\");\n",
        "plt.hist(bad_risk_duration, bins = bins, ec='w', density=True, alpha=0.4, label='Bad Risk', Color = \"Red\");\n",
        "plt.xlabel('Duration')\n",
        "plt.legend();"
      ],
      "execution_count": 17,
      "outputs": [
        {
          "output_type": "display_data",
          "data": {
            "image/png": "[encoded data removed]",
            "text/plain": [
              "<Figure size 432x288 with 1 Axes>"
            ]
          },
          "metadata": {
            "tags": [],
            "needs_background": "light"
          }
        }
      ]
    },
    {
      "cell_type": "markdown",
      "metadata": {
        "id": "JAnWgJJNE41w"
      },
      "source": [
        "<div dir=rtl>\n",
        "    ۹.(۲ نمره)\n",
        "چهار نوع دسته‌بندی شغلی برای این افراد وجود دارد. \n",
        "در یک نمودار مشخص کنید که هر از هر جنسیت چند نفر در هر دسته شغلی مشغول به فعالیت هستند.\n",
        "</div>"
      ]
    },
    {
      "cell_type": "code",
      "metadata": {
        "colab": {
          "base_uri": "https://localhost:8080/",
          "height": 394
        },
        "id": "zvnqkHfiE41x",
        "outputId": "b372cf06-f5de-4a4d-a7cc-ca4bd3bdd5d0"
      },
      "source": [
        "fig, ax = plt.subplots(figsize=(10, 6))\n",
        "sns.countplot(x = \"Sex\",\n",
        "              data = data,\n",
        "              ax = ax,\n",
        "              hue = \"Job\",\n",
        "              palette=\"Set1\")\n",
        "handles, labels = ax.get_legend_handles_labels()\n",
        "ax.legend(handles, [1, 2, 3, 4], title='Job', fontsize=16, title_fontsize=20)\n",
        "sns.despine(right = True)\n",
        "plt.ylabel(\"# of people working in this job\")\n",
        "plt.show()"
      ],
      "execution_count": 18,
      "outputs": [
        {
          "output_type": "display_data",
          "data": {
            "image/png": "[encoded data removed]",
            "text/plain": [
              "<Figure size 720x432 with 1 Axes>"
            ]
          },
          "metadata": {
            "tags": [],
            "needs_background": "light"
          }
        }
      ]
    },
    {
      "cell_type": "markdown",
      "metadata": {
        "id": "IJvwQhomE41x"
      },
      "source": [
        "<div dir=rtl>\n",
        "    ۱۰.(۴ نمره)\n",
        "    نمودار توزیع تخمینی سن وام‌گیرندگان را نمایش دهید\n",
        "    این نمودار چه چیزی را نمایش می‌دهد؟\n",
        "</div>"
      ]
    },
    {
      "cell_type": "markdown",
      "metadata": {
        "id": "E4daaVQPAdRO"
      },
      "source": [
        "<div dir=rtl>\n",
        "پاسخ:\n",
        "    نمودار مربوطه در زیر آمده است. این نمودار نشان می‌دهد، بیشتر وام گیرندگان از قشر جوان جامعه و بین 25 تا 35 ساله هستند.\n",
        "</div>"
      ]
    },
    {
      "cell_type": "code",
      "metadata": {
        "colab": {
          "base_uri": "https://localhost:8080/",
          "height": 286
        },
        "id": "NObuK-8VE41y",
        "outputId": "a4011daa-36ed-428f-ef99-b1b5e87518fd"
      },
      "source": [
        "sns.distplot(data['Age'], hist=True);"
      ],
      "execution_count": 19,
      "outputs": [
        {
          "output_type": "display_data",
          "data": {
            "image/png": "[encoded data removed]",
            "text/plain": [
              "<Figure size 432x288 with 1 Axes>"
            ]
          },
          "metadata": {
            "tags": [],
            "needs_background": "light"
          }
        }
      ]
    },
    {
      "cell_type": "markdown",
      "metadata": {
        "id": "WJUTMP0iE41z"
      },
      "source": [
        "<div dir=rtl>\n",
        "    ۱۱.(۴ نمره)\n",
        "    در این بانک به ۸ دلیل وام به متقاضیان پرداخت می‌گردد.\n",
        "    در هر دسته شغلی مشخص کنید که علت عمده‌ای که افراد می‌خواهند وام بگیرند چیست؟\n",
        "</div>"
      ]
    },
    {
      "cell_type": "code",
      "metadata": {
        "colab": {
          "base_uri": "https://localhost:8080/"
        },
        "id": "Zq_-lcdKE41z",
        "outputId": "4c081c5f-bf6e-4818-afb7-d914590000fb"
      },
      "source": [
        "result = data.groupby([\"Job\", \"Purpose\"]).count().sort_values(by=['id']).groupby(level=0).tail(1)\n",
        "print(result.index)"
      ],
      "execution_count": 20,
      "outputs": [
        {
          "output_type": "stream",
          "text": [
            "MultiIndex([(0,      'car'),\n",
            "            (1,      'car'),\n",
            "            (3,      'car'),\n",
            "            (2, 'radio/TV')],\n",
            "           names=['Job', 'Purpose'])\n"
          ],
          "name": "stdout"
        }
      ]
    },
    {
      "cell_type": "markdown",
      "metadata": {
        "id": "EMO3Ms39E41z"
      },
      "source": [
        "<div dir=rtl>\n",
        "    ۱۲.(۶ نمره)\n",
        "    برای تصمیم‌گیری راجع به ریسک پرداخت وام به دلایل مختلف به تفکیک جنسیت علت پرداخت وام و میزان خوب یا بد بودن  ریسک را بررسی نمایید و در صورتی که در هر علت و جنسیت تعداد افراد با ریسک خوبی که به آن علت وام می‌گیرند حداقل ۲ برابر تعداد افراد با ریسک بدش بود آن علت، جنسیت و تعداد افرادی خوب و بدی که برای دریافت آن اقدام کرده‌اند را در نمودارهایی به تفکیک نمایش دهید.\n",
        "</div>"
      ]
    },
    {
      "cell_type": "code",
      "metadata": {
        "id": "BL-Nw9NyE410",
        "colab": {
          "base_uri": "https://localhost:8080/",
          "height": 243
        },
        "outputId": "971a26bd-8311-485d-ce49-e11f8570ab01"
      },
      "source": [
        "group_by_sex_purpose = data.groupby([\"Sex\", \"Purpose\"])\n",
        "filtered_data = group_by_sex_purpose.filter(lambda x: len(x[x['Risk'] == 'good'])  >= 2 * len(x[x['Risk'] == 'bad']))\n",
        "sns.catplot(x ='Risk', col ='Purpose', hue ='Sex', kind='count', data = filtered_data);"
      ],
      "execution_count": 26,
      "outputs": [
        {
          "output_type": "display_data",
          "data": {
            "image/png": "[encoded data removed]",
            "text/plain": [
              "<Figure size 1877.97x360 with 5 Axes>"
            ]
          },
          "metadata": {
            "tags": [],
            "needs_background": "light"
          }
        }
      ]
    },
    {
      "cell_type": "markdown",
      "metadata": {
        "id": "XsJNl-qtE410"
      },
      "source": [
        "<div dir=rtl>\n",
        "    ۱۳.(۶ نمره)\n",
        "    در چهار نمودار به تفکیک میزان ریسک وام‌دهی هر گروه شغلی را به ازای جنسیت نمایش دهید.\n",
        "</div>"
      ]
    },
    {
      "cell_type": "code",
      "metadata": {
        "id": "59XVVDoQmK-w"
      },
      "source": [
        "job_groups = data.groupby(\"Job\")"
      ],
      "execution_count": 27,
      "outputs": []
    },
    {
      "cell_type": "code",
      "metadata": {
        "colab": {
          "base_uri": "https://localhost:8080/",
          "height": 285
        },
        "id": "BDgY6ueQkiif",
        "outputId": "8a0cca5a-51c2-4f57-ec07-76e65c9b2dd8"
      },
      "source": [
        "# Job 1\n",
        "first = job_groups.get_group(0)\n",
        "fig, ax = plt.subplots(figsize=(4, 4))\n",
        "sns.countplot(x = \"Sex\",\n",
        "              data = first,\n",
        "              ax = ax,\n",
        "              hue = \"Risk\",\n",
        "              palette=\"Set1\")\n",
        "handles, labels = ax.get_legend_handles_labels()\n",
        "ax.legend(handles, [\"good\", \"bad\"], title='Risk For Job 1', fontsize=8, title_fontsize=10)\n",
        "sns.despine(right = True)\n",
        "plt.show()"
      ],
      "execution_count": 28,
      "outputs": [
        {
          "output_type": "display_data",
          "data": {
            "image/png": "[encoded data removed]",
            "text/plain": [
              "<Figure size 288x288 with 1 Axes>"
            ]
          },
          "metadata": {
            "tags": [],
            "needs_background": "light"
          }
        }
      ]
    },
    {
      "cell_type": "code",
      "metadata": {
        "colab": {
          "base_uri": "https://localhost:8080/",
          "height": 285
        },
        "id": "Kda0FhjYE410",
        "outputId": "c34fb65a-00d1-4672-c357-c6ba5172cfe4"
      },
      "source": [
        "# Job 2\n",
        "second = job_groups.get_group(1)\n",
        "fig, ax = plt.subplots(figsize=(4, 4))\n",
        "sns.countplot(x = \"Sex\",\n",
        "              data = second,\n",
        "              ax = ax,\n",
        "              hue = \"Risk\",\n",
        "              palette=\"Set1\")\n",
        "handles, labels = ax.get_legend_handles_labels()\n",
        "ax.legend(handles, [\"good\", \"bad\"], title='Risk For Job 2', fontsize=8, title_fontsize=10)\n",
        "sns.despine(right = True)\n",
        "plt.show()"
      ],
      "execution_count": 29,
      "outputs": [
        {
          "output_type": "display_data",
          "data": {
            "image/png": "[encoded data removed]",
            "text/plain": [
              "<Figure size 288x288 with 1 Axes>"
            ]
          },
          "metadata": {
            "tags": [],
            "needs_background": "light"
          }
        }
      ]
    },
    {
      "cell_type": "code",
      "metadata": {
        "colab": {
          "base_uri": "https://localhost:8080/",
          "height": 285
        },
        "id": "o1n8vz9smR4f",
        "outputId": "8a38822d-df92-46e2-f1f1-1d77f3d49a82"
      },
      "source": [
        "# Job 3\n",
        "third = job_groups.get_group(2)\n",
        "fig, ax = plt.subplots(figsize=(4, 4))\n",
        "sns.countplot(x = \"Sex\",\n",
        "              data = third,\n",
        "              ax = ax,\n",
        "              hue = \"Risk\",\n",
        "              palette=\"Set1\")\n",
        "handles, labels = ax.get_legend_handles_labels()\n",
        "ax.legend(handles, [\"good\", \"bad\"], title='Risk For Job 3', fontsize=8, title_fontsize=10)\n",
        "sns.despine(right = True)\n",
        "plt.show()"
      ],
      "execution_count": 30,
      "outputs": [
        {
          "output_type": "display_data",
          "data": {
            "image/png": "[encoded data removed]",
            "text/plain": [
              "<Figure size 288x288 with 1 Axes>"
            ]
          },
          "metadata": {
            "tags": [],
            "needs_background": "light"
          }
        }
      ]
    },
    {
      "cell_type": "code",
      "metadata": {
        "colab": {
          "base_uri": "https://localhost:8080/",
          "height": 285
        },
        "id": "ZFvST9OLmZk3",
        "outputId": "29196471-8bd6-4a37-af80-eba863992b24"
      },
      "source": [
        "# Job 4\n",
        "forth = job_groups.get_group(3)\n",
        "fig, ax = plt.subplots(figsize=(4, 4))\n",
        "sns.countplot(x = \"Sex\",\n",
        "              data = forth,\n",
        "              ax = ax,\n",
        "              hue = \"Risk\",\n",
        "              palette=\"Set1\")\n",
        "handles, labels = ax.get_legend_handles_labels()\n",
        "ax.legend(handles, [\"good\", \"bad\"], title='Risk For Job 4', fontsize=8, title_fontsize=10)\n",
        "sns.despine(right = True)\n",
        "plt.show()"
      ],
      "execution_count": 31,
      "outputs": [
        {
          "output_type": "display_data",
          "data": {
            "image/png": "[encoded data removed]",
            "text/plain": [
              "<Figure size 288x288 with 1 Axes>"
            ]
          },
          "metadata": {
            "tags": [],
            "needs_background": "light"
          }
        }
      ]
    },
    {
      "cell_type": "markdown",
      "metadata": {
        "id": "Z2pRalkpE411"
      },
      "source": [
        "<div dir=rtl>\n",
        "    ۱۴.(۷ نمره)\n",
        "    تمام داده‌ها را بصورت عددی در بیاورید.\n",
        "</div>"
      ]
    },
    {
      "cell_type": "code",
      "metadata": {
        "id": "D8zgQw3nE411"
      },
      "source": [
        "columns = ['Sex', 'Housing', 'Saving accounts', 'Checking account', 'Purpose', 'Risk', 'Loaned Before']\n",
        "for col in columns:\n",
        "    data[col] = data[col].astype('category')\n",
        "categorical_columns = data.select_dtypes(['category']).columns\n",
        "data[categorical_columns] = data[categorical_columns].apply(lambda x: x.cat.codes)"
      ],
      "execution_count": 32,
      "outputs": []
    },
    {
      "cell_type": "code",
      "metadata": {
        "colab": {
          "base_uri": "https://localhost:8080/",
          "height": 202
        },
        "id": "LQMM34miqz2b",
        "outputId": "8e554941-4b55-470b-9856-f4a78b0c979a"
      },
      "source": [
        "data.head()"
      ],
      "execution_count": 33,
      "outputs": [
        {
          "output_type": "execute_result",
          "data": {
            "text/html": [
              "<div>\n",
              "<style scoped>\n",
              "    .dataframe tbody tr th:only-of-type {\n",
              "        vertical-align: middle;\n",
              "    }\n",
              "\n",
              "    .dataframe tbody tr th {\n",
              "        vertical-align: top;\n",
              "    }\n",
              "\n",
              "    .dataframe thead th {\n",
              "        text-align: right;\n",
              "    }\n",
              "</style>\n",
              "<table border=\"1\" class=\"dataframe\">\n",
              "  <thead>\n",
              "    <tr style=\"text-align: right;\">\n",
              "      <th></th>\n",
              "      <th>id</th>\n",
              "      <th>Age</th>\n",
              "      <th>Sex</th>\n",
              "      <th>Job</th>\n",
              "      <th>Housing</th>\n",
              "      <th>Saving accounts</th>\n",
              "      <th>Checking account</th>\n",
              "      <th>Credit amount</th>\n",
              "      <th>Duration</th>\n",
              "      <th>Purpose</th>\n",
              "      <th>Risk</th>\n",
              "      <th>Loaned Before</th>\n",
              "    </tr>\n",
              "  </thead>\n",
              "  <tbody>\n",
              "    <tr>\n",
              "      <th>0</th>\n",
              "      <td>0</td>\n",
              "      <td>67</td>\n",
              "      <td>1</td>\n",
              "      <td>2</td>\n",
              "      <td>1</td>\n",
              "      <td>2</td>\n",
              "      <td>0</td>\n",
              "      <td>1169</td>\n",
              "      <td>6</td>\n",
              "      <td>5</td>\n",
              "      <td>1</td>\n",
              "      <td>1</td>\n",
              "    </tr>\n",
              "    <tr>\n",
              "      <th>1</th>\n",
              "      <td>1</td>\n",
              "      <td>22</td>\n",
              "      <td>0</td>\n",
              "      <td>2</td>\n",
              "      <td>1</td>\n",
              "      <td>0</td>\n",
              "      <td>1</td>\n",
              "      <td>5951</td>\n",
              "      <td>48</td>\n",
              "      <td>5</td>\n",
              "      <td>0</td>\n",
              "      <td>1</td>\n",
              "    </tr>\n",
              "    <tr>\n",
              "      <th>2</th>\n",
              "      <td>2</td>\n",
              "      <td>49</td>\n",
              "      <td>1</td>\n",
              "      <td>1</td>\n",
              "      <td>1</td>\n",
              "      <td>0</td>\n",
              "      <td>2</td>\n",
              "      <td>2096</td>\n",
              "      <td>12</td>\n",
              "      <td>3</td>\n",
              "      <td>1</td>\n",
              "      <td>0</td>\n",
              "    </tr>\n",
              "    <tr>\n",
              "      <th>3</th>\n",
              "      <td>3</td>\n",
              "      <td>45</td>\n",
              "      <td>1</td>\n",
              "      <td>2</td>\n",
              "      <td>0</td>\n",
              "      <td>0</td>\n",
              "      <td>0</td>\n",
              "      <td>7882</td>\n",
              "      <td>42</td>\n",
              "      <td>4</td>\n",
              "      <td>1</td>\n",
              "      <td>0</td>\n",
              "    </tr>\n",
              "    <tr>\n",
              "      <th>4</th>\n",
              "      <td>4</td>\n",
              "      <td>53</td>\n",
              "      <td>1</td>\n",
              "      <td>2</td>\n",
              "      <td>0</td>\n",
              "      <td>0</td>\n",
              "      <td>0</td>\n",
              "      <td>4870</td>\n",
              "      <td>24</td>\n",
              "      <td>1</td>\n",
              "      <td>0</td>\n",
              "      <td>2</td>\n",
              "    </tr>\n",
              "  </tbody>\n",
              "</table>\n",
              "</div>"
            ],
            "text/plain": [
              "   id  Age  Sex  Job  ...  Duration  Purpose  Risk  Loaned Before\n",
              "0   0   67    1    2  ...         6        5     1              1\n",
              "1   1   22    0    2  ...        48        5     0              1\n",
              "2   2   49    1    1  ...        12        3     1              0\n",
              "3   3   45    1    2  ...        42        4     1              0\n",
              "4   4   53    1    2  ...        24        1     0              2\n",
              "\n",
              "[5 rows x 12 columns]"
            ]
          },
          "metadata": {
            "tags": []
          },
          "execution_count": 33
        }
      ]
    },
    {
      "cell_type": "markdown",
      "metadata": {
        "id": "X2AMgUtsE412"
      },
      "source": [
        "<div dir=rtl>\n",
        "    ۱۵.(۵ نمره)\n",
        "    نمودار heatmap از correlation ستون‌های مختلف با هم بکشید و چند جمله راجع به نتیجه‌ای که شما از مشاهده این نمودار گرفتید صحبت کنید.\n",
        "</div>"
      ]
    },
    {
      "cell_type": "markdown",
      "metadata": {
        "id": "gnb-Ku7PEvND"
      },
      "source": [
        "<div dir=rtl>\n",
        "پاسخ:\n",
        "می‌دانیم که هرگاه دو ویژگی با هم \n",
        "correlation\n",
        "بیشتری داشته باشند، این یعنی \n",
        "تقریبا تاثیر یکسانی بر روی نتیجه نهایی دارند و می‌توان یکی از این دو \n",
        "feature\n",
        "را حذف کرد و در نظر نگرفت.\n",
        "به طور مثال در دیتاست ما دو ویژگی \n",
        "duration\n",
        "و  \n",
        "credit amount\n",
        "مطابق نمودار زیر با هم \n",
        "correlation\n",
        "زیادی دارند.\n",
        "همچنین اتفاق مشابهی اما به میزان کمتری برای دو ویژگی \n",
        "saving accounts\n",
        "و \n",
        "Risk\n",
        "هم وجود دارد.\n",
        "</div>"
      ]
    },
    {
      "cell_type": "code",
      "metadata": {
        "colab": {
          "base_uri": "https://localhost:8080/",
          "height": 360
        },
        "id": "uUZvRRkrE412",
        "outputId": "920ace26-e693-4b03-9011-ddff79549c53"
      },
      "source": [
        "sns.heatmap(data.corr(), annot=False);"
      ],
      "execution_count": 34,
      "outputs": [
        {
          "output_type": "display_data",
          "data": {
            "image/png": "[encoded data removed]",
            "text/plain": [
              "<Figure size 432x288 with 2 Axes>"
            ]
          },
          "metadata": {
            "tags": [],
            "needs_background": "light"
          }
        }
      ]
    },
    {
      "cell_type": "markdown",
      "metadata": {
        "id": "GpuzuCBoE413"
      },
      "source": [
        "<div dir=rtl>\n",
        "    <h2>\n",
        "        کاهش ابعاد\n",
        "        (۴۲ نمره)\n",
        "    </h2>\n",
        "</div>"
      ]
    },
    {
      "cell_type": "markdown",
      "metadata": {
        "id": "uXh8zHiJE413"
      },
      "source": [
        "<div dir=rtl>\n",
        "    ۱۶.\n",
        "    (۳ نمره)\n",
        "    برای بدست آوردن PCA ما نیاز به تمامی ستون‌ها نداریم و مثلا ستون id یا index فایده‌ای برای ما نخواهد داشت برای همین dataframe جدیدی ایجاد کنید و در آن از ستون‌های \n",
        "    <br/>\n",
        "    'Age', 'Sex', 'Job', 'Housing', 'Saving accounts',\n",
        "       'Checking account', 'Credit amount', 'Duration', 'Purpose'\n",
        "    <br/>\n",
        "    استفاده کنید.\n",
        "</div>"
      ]
    },
    {
      "cell_type": "code",
      "metadata": {
        "id": "t-vyQobUE414"
      },
      "source": [
        "df = pd.DataFrame(data, columns =['Age', 'Sex', 'Job', 'Housing', 'Saving accounts', 'Checking account', 'Credit amount', 'Duration', 'Purpose']) "
      ],
      "execution_count": 35,
      "outputs": []
    },
    {
      "cell_type": "code",
      "metadata": {
        "colab": {
          "base_uri": "https://localhost:8080/",
          "height": 202
        },
        "id": "xBYsrfUj3LkW",
        "outputId": "44068fa0-99d4-4e08-df3b-15747006136b"
      },
      "source": [
        "df.head()"
      ],
      "execution_count": 36,
      "outputs": [
        {
          "output_type": "execute_result",
          "data": {
            "text/html": [
              "<div>\n",
              "<style scoped>\n",
              "    .dataframe tbody tr th:only-of-type {\n",
              "        vertical-align: middle;\n",
              "    }\n",
              "\n",
              "    .dataframe tbody tr th {\n",
              "        vertical-align: top;\n",
              "    }\n",
              "\n",
              "    .dataframe thead th {\n",
              "        text-align: right;\n",
              "    }\n",
              "</style>\n",
              "<table border=\"1\" class=\"dataframe\">\n",
              "  <thead>\n",
              "    <tr style=\"text-align: right;\">\n",
              "      <th></th>\n",
              "      <th>Age</th>\n",
              "      <th>Sex</th>\n",
              "      <th>Job</th>\n",
              "      <th>Housing</th>\n",
              "      <th>Saving accounts</th>\n",
              "      <th>Checking account</th>\n",
              "      <th>Credit amount</th>\n",
              "      <th>Duration</th>\n",
              "      <th>Purpose</th>\n",
              "    </tr>\n",
              "  </thead>\n",
              "  <tbody>\n",
              "    <tr>\n",
              "      <th>0</th>\n",
              "      <td>67</td>\n",
              "      <td>1</td>\n",
              "      <td>2</td>\n",
              "      <td>1</td>\n",
              "      <td>2</td>\n",
              "      <td>0</td>\n",
              "      <td>1169</td>\n",
              "      <td>6</td>\n",
              "      <td>5</td>\n",
              "    </tr>\n",
              "    <tr>\n",
              "      <th>1</th>\n",
              "      <td>22</td>\n",
              "      <td>0</td>\n",
              "      <td>2</td>\n",
              "      <td>1</td>\n",
              "      <td>0</td>\n",
              "      <td>1</td>\n",
              "      <td>5951</td>\n",
              "      <td>48</td>\n",
              "      <td>5</td>\n",
              "    </tr>\n",
              "    <tr>\n",
              "      <th>2</th>\n",
              "      <td>49</td>\n",
              "      <td>1</td>\n",
              "      <td>1</td>\n",
              "      <td>1</td>\n",
              "      <td>0</td>\n",
              "      <td>2</td>\n",
              "      <td>2096</td>\n",
              "      <td>12</td>\n",
              "      <td>3</td>\n",
              "    </tr>\n",
              "    <tr>\n",
              "      <th>3</th>\n",
              "      <td>45</td>\n",
              "      <td>1</td>\n",
              "      <td>2</td>\n",
              "      <td>0</td>\n",
              "      <td>0</td>\n",
              "      <td>0</td>\n",
              "      <td>7882</td>\n",
              "      <td>42</td>\n",
              "      <td>4</td>\n",
              "    </tr>\n",
              "    <tr>\n",
              "      <th>4</th>\n",
              "      <td>53</td>\n",
              "      <td>1</td>\n",
              "      <td>2</td>\n",
              "      <td>0</td>\n",
              "      <td>0</td>\n",
              "      <td>0</td>\n",
              "      <td>4870</td>\n",
              "      <td>24</td>\n",
              "      <td>1</td>\n",
              "    </tr>\n",
              "  </tbody>\n",
              "</table>\n",
              "</div>"
            ],
            "text/plain": [
              "   Age  Sex  Job  Housing  ...  Checking account  Credit amount  Duration  Purpose\n",
              "0   67    1    2        1  ...                 0           1169         6        5\n",
              "1   22    0    2        1  ...                 1           5951        48        5\n",
              "2   49    1    1        1  ...                 2           2096        12        3\n",
              "3   45    1    2        0  ...                 0           7882        42        4\n",
              "4   53    1    2        0  ...                 0           4870        24        1\n",
              "\n",
              "[5 rows x 9 columns]"
            ]
          },
          "metadata": {
            "tags": []
          },
          "execution_count": 36
        }
      ]
    },
    {
      "cell_type": "markdown",
      "metadata": {
        "id": "IhchmxLEE414"
      },
      "source": [
        "<div dir=rtl>\n",
        "    ۱۷.(۶ نمره)\n",
        "    یکی از مواردی که ممکن است تاثیر مخربی روی تحلیل ما بگذارد تفاوت اندازه‌های اعداد ستون‌های مختلف است(چرا؟ خیلی کوتاه توضیح دهید) برای همین بهتر است داده‌ها را نرمالایز کنیم.\n",
        "</div>"
      ]
    },
    {
      "cell_type": "markdown",
      "metadata": {
        "id": "rZze_C_L4Uc4"
      },
      "source": [
        "<div dir=rtl>\n",
        "    علت این امر این است که اگه رنج مقادیر یکی از \n",
        "    feature\n",
        "    ها مثلا 1000 برابر دیگری باشد، در حین اعمالی مانند \n",
        "    linear regression\n",
        "    ضریب چنین \n",
        "    feature\n",
        "    هایی به نسبت بیشتر خواهد شد، در صورتی که در اصل و به صورت نسبی، چنین برتری ای نسبت به سایر \n",
        "    feature\n",
        "    ها ندارند.\n",
        "</div>"
      ]
    },
    {
      "cell_type": "code",
      "metadata": {
        "id": "xwE0Nvb4E415"
      },
      "source": [
        "# min - max normalization\n",
        "normalized_df = (df - df.min()) / (df.max() - df.min())"
      ],
      "execution_count": 37,
      "outputs": []
    },
    {
      "cell_type": "code",
      "metadata": {
        "colab": {
          "base_uri": "https://localhost:8080/",
          "height": 202
        },
        "id": "1QEngM_S7oBQ",
        "outputId": "c40aa9f7-64a7-4f73-b810-934404e2c94b"
      },
      "source": [
        "normalized_df.head()"
      ],
      "execution_count": 38,
      "outputs": [
        {
          "output_type": "execute_result",
          "data": {
            "text/html": [
              "<div>\n",
              "<style scoped>\n",
              "    .dataframe tbody tr th:only-of-type {\n",
              "        vertical-align: middle;\n",
              "    }\n",
              "\n",
              "    .dataframe tbody tr th {\n",
              "        vertical-align: top;\n",
              "    }\n",
              "\n",
              "    .dataframe thead th {\n",
              "        text-align: right;\n",
              "    }\n",
              "</style>\n",
              "<table border=\"1\" class=\"dataframe\">\n",
              "  <thead>\n",
              "    <tr style=\"text-align: right;\">\n",
              "      <th></th>\n",
              "      <th>Age</th>\n",
              "      <th>Sex</th>\n",
              "      <th>Job</th>\n",
              "      <th>Housing</th>\n",
              "      <th>Saving accounts</th>\n",
              "      <th>Checking account</th>\n",
              "      <th>Credit amount</th>\n",
              "      <th>Duration</th>\n",
              "      <th>Purpose</th>\n",
              "    </tr>\n",
              "  </thead>\n",
              "  <tbody>\n",
              "    <tr>\n",
              "      <th>0</th>\n",
              "      <td>0.857143</td>\n",
              "      <td>1.0</td>\n",
              "      <td>0.666667</td>\n",
              "      <td>0.5</td>\n",
              "      <td>0.5</td>\n",
              "      <td>0.000000</td>\n",
              "      <td>0.050567</td>\n",
              "      <td>0.029412</td>\n",
              "      <td>0.714286</td>\n",
              "    </tr>\n",
              "    <tr>\n",
              "      <th>1</th>\n",
              "      <td>0.053571</td>\n",
              "      <td>0.0</td>\n",
              "      <td>0.666667</td>\n",
              "      <td>0.5</td>\n",
              "      <td>0.0</td>\n",
              "      <td>0.333333</td>\n",
              "      <td>0.313690</td>\n",
              "      <td>0.647059</td>\n",
              "      <td>0.714286</td>\n",
              "    </tr>\n",
              "    <tr>\n",
              "      <th>2</th>\n",
              "      <td>0.535714</td>\n",
              "      <td>1.0</td>\n",
              "      <td>0.333333</td>\n",
              "      <td>0.5</td>\n",
              "      <td>0.0</td>\n",
              "      <td>0.666667</td>\n",
              "      <td>0.101574</td>\n",
              "      <td>0.117647</td>\n",
              "      <td>0.428571</td>\n",
              "    </tr>\n",
              "    <tr>\n",
              "      <th>3</th>\n",
              "      <td>0.464286</td>\n",
              "      <td>1.0</td>\n",
              "      <td>0.666667</td>\n",
              "      <td>0.0</td>\n",
              "      <td>0.0</td>\n",
              "      <td>0.000000</td>\n",
              "      <td>0.419941</td>\n",
              "      <td>0.558824</td>\n",
              "      <td>0.571429</td>\n",
              "    </tr>\n",
              "    <tr>\n",
              "      <th>4</th>\n",
              "      <td>0.607143</td>\n",
              "      <td>1.0</td>\n",
              "      <td>0.666667</td>\n",
              "      <td>0.0</td>\n",
              "      <td>0.0</td>\n",
              "      <td>0.000000</td>\n",
              "      <td>0.254209</td>\n",
              "      <td>0.294118</td>\n",
              "      <td>0.142857</td>\n",
              "    </tr>\n",
              "  </tbody>\n",
              "</table>\n",
              "</div>"
            ],
            "text/plain": [
              "        Age  Sex       Job  ...  Credit amount  Duration   Purpose\n",
              "0  0.857143  1.0  0.666667  ...       0.050567  0.029412  0.714286\n",
              "1  0.053571  0.0  0.666667  ...       0.313690  0.647059  0.714286\n",
              "2  0.535714  1.0  0.333333  ...       0.101574  0.117647  0.428571\n",
              "3  0.464286  1.0  0.666667  ...       0.419941  0.558824  0.571429\n",
              "4  0.607143  1.0  0.666667  ...       0.254209  0.294118  0.142857\n",
              "\n",
              "[5 rows x 9 columns]"
            ]
          },
          "metadata": {
            "tags": []
          },
          "execution_count": 38
        }
      ]
    },
    {
      "cell_type": "markdown",
      "metadata": {
        "id": "DSXZI0GoE416"
      },
      "source": [
        "<div dir=rtl>\n",
        "    ۱۸.(۳ نمره)\n",
        "    حال نیاز است که ماتریس کواریانس این داده‌ها بدست بیاورید.\n",
        "</div>"
      ]
    },
    {
      "cell_type": "code",
      "metadata": {
        "id": "f_g_31hYE416"
      },
      "source": [
        "cov_matrix = np.cov(normalized_df.T)\n",
        "# cov_matrix = np.divide(cov_matrix,1000.0)"
      ],
      "execution_count": 39,
      "outputs": []
    },
    {
      "cell_type": "markdown",
      "metadata": {
        "id": "yNnAQPPHE417"
      },
      "source": [
        "<div dir=rtl>\n",
        "    ۱۹.(۲ نمره)\n",
        "    باز برای آنکه ایده‌ای از این داده‌ها داشته باشیم heatmap ماتریس کواریانس را رسم کنید\n",
        "</div>"
      ]
    },
    {
      "cell_type": "code",
      "metadata": {
        "colab": {
          "base_uri": "https://localhost:8080/",
          "height": 285
        },
        "id": "Qe8rpx7vE417",
        "outputId": "24ed2647-fe70-4bcf-dc20-41b1f2b41062"
      },
      "source": [
        "sns.heatmap(cov_matrix, annot=False)"
      ],
      "execution_count": 40,
      "outputs": [
        {
          "output_type": "execute_result",
          "data": {
            "text/plain": [
              "<matplotlib.axes._subplots.AxesSubplot at 0x7f6feaf81390>"
            ]
          },
          "metadata": {
            "tags": []
          },
          "execution_count": 40
        },
        {
          "output_type": "display_data",
          "data": {
            "image/png": "[encoded data removed]",
            "text/plain": [
              "<Figure size 432x288 with 2 Axes>"
            ]
          },
          "metadata": {
            "tags": [],
            "needs_background": "light"
          }
        }
      ]
    },
    {
      "cell_type": "markdown",
      "metadata": {
        "id": "Gk4jh3BeE418"
      },
      "source": [
        "<div dir=rtl>\n",
        "    ۲۰.(۴ نمره)\n",
        "مقدار و بردار ویژه‌ی ماتریس کواریانس را بدست بیاورید.\n",
        "</div>"
      ]
    },
    {
      "cell_type": "code",
      "metadata": {
        "id": "UZ2VNt4gE418",
        "colab": {
          "base_uri": "https://localhost:8080/"
        },
        "outputId": "521065e2-787d-4099-87c7-a132784dbd07"
      },
      "source": [
        "eigen_values, eigen_vectors = np.linalg.eig(cov_matrix)\n",
        "print(\"Eigen Vectors: \\n\", eigen_vectors,\"\\n\")\n",
        "print(\"Eigen Values: \\n\", eigen_values, \"\\n\")"
      ],
      "execution_count": 41,
      "outputs": [
        {
          "output_type": "stream",
          "text": [
            "Eigen Vectors: \n",
            " [[ 0.10109263  0.07255774  0.05819954 -0.63854536  0.612978    0.32461407\n",
            "  -0.10007618 -0.1721272  -0.22941002]\n",
            " [ 0.96993369 -0.04228175  0.00133982  0.01558678 -0.01225755 -0.02180766\n",
            "   0.11270115  0.0961777   0.18606083]\n",
            " [ 0.05177431 -0.01441007  0.072119    0.3286639   0.56592867 -0.69969531\n",
            "  -0.1035526  -0.11900343 -0.22171359]\n",
            " [-0.19018672 -0.01254456  0.02612852 -0.337806    0.24026081 -0.28986321\n",
            "   0.1144505   0.47889271  0.68168392]\n",
            " [ 0.02404027  0.65103268 -0.0085449   0.06769093 -0.022225   -0.01348552\n",
            "  -0.30881043 -0.50925599  0.4642651 ]\n",
            " [ 0.02819876  0.75083923  0.00506867 -0.05071471 -0.07128543 -0.08976919\n",
            "   0.26001824  0.45547252 -0.38031933]\n",
            " [ 0.047078   -0.04223079 -0.78833592 -0.3757088  -0.22879189 -0.35831504\n",
            "  -0.17111015 -0.08251413 -0.12863491]\n",
            " [ 0.04774534 -0.05651255  0.60659506 -0.45669561 -0.43377267 -0.40805993\n",
            "  -0.16327373 -0.13549104 -0.13531623]\n",
            " [-0.06548504  0.00155263 -0.03460304 -0.11402632 -0.00521405 -0.13195824\n",
            "   0.85705939 -0.47503552  0.06213071]] \n",
            "\n",
            "Eigen Values: \n",
            " [0.22272734 0.11282792 0.00981623 0.03066702 0.03521301 0.05430541\n",
            " 0.08375066 0.06972007 0.07596006] \n",
            "\n"
          ],
          "name": "stdout"
        }
      ]
    },
    {
      "cell_type": "markdown",
      "metadata": {
        "id": "uIyfkfRyE418"
      },
      "source": [
        "<div dir=rtl>\n",
        "    ۲۱.(۳ نمره)\n",
        "    برای انتخاب اجزای اساسی(Principle Components) سه کار ریز را انجام دهید:\n",
        "    <br\\>\n",
        "هر بردار ویژه را با مقدار ویژه متناظرش مربوط کنید (می‌توانید بصورت جفتیpair آن‌ها را کنار هم قرار دهید)\n",
        "        <br\\>\n",
        "            لیستی که بردار و مقدار ویژه‌ها دارید را بر اساس مقدار ویژه‌ها مرتب کنید\n",
        "            <br\\>\n",
        "                مقدار ویژه‌های مرتب شده را به ترتیب نزولی در خروجی نمایش دهید\n",
        "</div>"
      ]
    },
    {
      "cell_type": "code",
      "metadata": {
        "colab": {
          "base_uri": "https://localhost:8080/"
        },
        "id": "2g1GciXnE419",
        "outputId": "b5b6048b-a1cc-42e5-9d67-18d6e764bb70"
      },
      "source": [
        "# 1\n",
        "eig_pairs = [(eigen_values[index], eigen_vectors[index], normalized_df.columns[index]) for index in range(len(eigen_values))]\n",
        "# 2\n",
        "eig_pairs.sort(reverse=True)\n",
        "eigvalues_sort  = [eig_pairs[index][0] for index in range(len(eigen_values))]\n",
        "eigvectors_sort = [eig_pairs[index][1] for index in range(len(eigen_values))]\n",
        "sorted_columns  = [eig_pairs[index][2] for index in range(len(eigen_values))]\n",
        "sorted_normalized_df = np.array(normalized_df[sorted_columns])\n",
        "# 3\n",
        "print(\"Sorted Eigen Vectors: \\n\", eigvectors_sort,\"\\n\")\n",
        "print(\"Sorted Eigen Values: \\n\", eigvalues_sort, \"\\n\")"
      ],
      "execution_count": 42,
      "outputs": [
        {
          "output_type": "stream",
          "text": [
            "Sorted Eigen Vectors: \n",
            " [array([ 0.10109263,  0.07255774,  0.05819954, -0.63854536,  0.612978  ,\n",
            "        0.32461407, -0.10007618, -0.1721272 , -0.22941002]), array([ 0.96993369, -0.04228175,  0.00133982,  0.01558678, -0.01225755,\n",
            "       -0.02180766,  0.11270115,  0.0961777 ,  0.18606083]), array([ 0.047078  , -0.04223079, -0.78833592, -0.3757088 , -0.22879189,\n",
            "       -0.35831504, -0.17111015, -0.08251413, -0.12863491]), array([-0.06548504,  0.00155263, -0.03460304, -0.11402632, -0.00521405,\n",
            "       -0.13195824,  0.85705939, -0.47503552,  0.06213071]), array([ 0.04774534, -0.05651255,  0.60659506, -0.45669561, -0.43377267,\n",
            "       -0.40805993, -0.16327373, -0.13549104, -0.13531623]), array([ 0.02819876,  0.75083923,  0.00506867, -0.05071471, -0.07128543,\n",
            "       -0.08976919,  0.26001824,  0.45547252, -0.38031933]), array([ 0.02404027,  0.65103268, -0.0085449 ,  0.06769093, -0.022225  ,\n",
            "       -0.01348552, -0.30881043, -0.50925599,  0.4642651 ]), array([-0.19018672, -0.01254456,  0.02612852, -0.337806  ,  0.24026081,\n",
            "       -0.28986321,  0.1144505 ,  0.47889271,  0.68168392]), array([ 0.05177431, -0.01441007,  0.072119  ,  0.3286639 ,  0.56592867,\n",
            "       -0.69969531, -0.1035526 , -0.11900343, -0.22171359])] \n",
            "\n",
            "Sorted Eigen Values: \n",
            " [0.22272734145874737, 0.11282792038889908, 0.08375066144138336, 0.0759600592402555, 0.06972007109766487, 0.054305406247793515, 0.035213007701119216, 0.030667016378592125, 0.00981622855476124] \n",
            "\n"
          ],
          "name": "stdout"
        }
      ]
    },
    {
      "cell_type": "markdown",
      "metadata": {
        "id": "DfpWOVZIE419"
      },
      "source": [
        "<div dir=rtl>\n",
        "    ۲۲.(۴ نمره)\n",
        "همه‌ی\n",
        "    explained variance \n",
        "    را بدست بیاورید و در نمودار pie نمایش دهید\n",
        "    حتما درصد هرکدام از اسلایس‌ها در نمودار مشخص شده‌باشد.\n",
        "</div>"
      ]
    },
    {
      "cell_type": "code",
      "metadata": {
        "colab": {
          "base_uri": "https://localhost:8080/"
        },
        "id": "9-WQm2PCE419",
        "outputId": "437fed2b-fd56-40bd-f1d1-38918103ee54"
      },
      "source": [
        "explained_variances = []\n",
        "for i in range(len(eigen_values)):\n",
        "    explained_variances.append(eigen_values[i] / np.sum(eigen_values))\n",
        "print(explained_variances)"
      ],
      "execution_count": 45,
      "outputs": [
        {
          "output_type": "stream",
          "text": [
            "[0.3204766608816753, 0.16234520173247358, 0.014124319578716387, 0.044125983562889895, 0.050667093917365125, 0.07813865665585183, 0.12050667937567708, 0.10031842267533658, 0.10929698162001417]\n"
          ],
          "name": "stdout"
        }
      ]
    },
    {
      "cell_type": "code",
      "metadata": {
        "colab": {
          "base_uri": "https://localhost:8080/",
          "height": 248
        },
        "id": "y-lEhz32G6jq",
        "outputId": "17a64bac-1883-451e-f71e-bd991026c008"
      },
      "source": [
        "fig1, ax1 = plt.subplots()\n",
        "ax1.pie(explained_variances, autopct='%1.1f%%')\n",
        "ax1.axis('equal')\n",
        "plt.show()"
      ],
      "execution_count": 46,
      "outputs": [
        {
          "output_type": "display_data",
          "data": {
            "image/png": "[encoded data removed]",
            "text/plain": [
              "<Figure size 432x288 with 1 Axes>"
            ]
          },
          "metadata": {
            "tags": []
          }
        }
      ]
    },
    {
      "cell_type": "markdown",
      "metadata": {
        "id": "VVQsow_BE41-"
      },
      "source": [
        "<div dir=rtl>\n",
        "    ۲۳.(۴ نمره)\n",
        "با توجه به آنچه در بخش قبل دیدید تعداد کامپوننت‌ها را طوری انتخاب کنید که پوشش حداقل ۶۰٪ای از اطلاعات داشته باشد و سپس projection matrix را با استفاده از آن‌ها تشکیل دهید.\n",
        "    </div>"
      ]
    },
    {
      "cell_type": "markdown",
      "metadata": {
        "id": "BW75Z26lJTd6"
      },
      "source": [
        "<div dir=rtl>\n",
        "از مقادیر نمودار دایره ای بالا به نظر میرسد که همان ‌3 کامپوننت اول برای رسیدن به پوشش 60 درصدی کافی است.\n",
        "</div>"
      ]
    },
    {
      "cell_type": "code",
      "metadata": {
        "colab": {
          "base_uri": "https://localhost:8080/"
        },
        "id": "lYz44ajIE41-",
        "outputId": "26307228-5e0d-496d-b2f4-b0c41b7d2d33"
      },
      "source": [
        "projection_matrix = (np.array(eigvectors_sort).T[:][:3]).T\n",
        "projection_matrix.shape"
      ],
      "execution_count": 47,
      "outputs": [
        {
          "output_type": "execute_result",
          "data": {
            "text/plain": [
              "(9, 3)"
            ]
          },
          "metadata": {
            "tags": []
          },
          "execution_count": 47
        }
      ]
    },
    {
      "cell_type": "code",
      "metadata": {
        "colab": {
          "base_uri": "https://localhost:8080/"
        },
        "id": "rpj7zkjRxyg8",
        "outputId": "3b6d2cff-6501-4415-9340-ff1ebc1bbe51"
      },
      "source": [
        "projection_matrix"
      ],
      "execution_count": 48,
      "outputs": [
        {
          "output_type": "execute_result",
          "data": {
            "text/plain": [
              "array([[ 0.10109263,  0.07255774,  0.05819954],\n",
              "       [ 0.96993369, -0.04228175,  0.00133982],\n",
              "       [ 0.047078  , -0.04223079, -0.78833592],\n",
              "       [-0.06548504,  0.00155263, -0.03460304],\n",
              "       [ 0.04774534, -0.05651255,  0.60659506],\n",
              "       [ 0.02819876,  0.75083923,  0.00506867],\n",
              "       [ 0.02404027,  0.65103268, -0.0085449 ],\n",
              "       [-0.19018672, -0.01254456,  0.02612852],\n",
              "       [ 0.05177431, -0.01441007,  0.072119  ]])"
            ]
          },
          "metadata": {
            "tags": []
          },
          "execution_count": 48
        }
      ]
    },
    {
      "cell_type": "markdown",
      "metadata": {
        "id": "CBeRHOC4E41_"
      },
      "source": [
        "<div dir=rtl>\n",
        "    ۲۴.(۵ نمره)\n",
        "        با استفاده از ماتریس بدست آمده در مرحله قبل X را کاهش دهید\n",
        "    و در یک نمودار scatter که x و y آن ازpricipal componentهای اول و دوم شما بدست آمده‌اند بر حسب Risk نتایج را نشان دهید \n",
        "</div>"
      ]
    },
    {
      "cell_type": "code",
      "metadata": {
        "colab": {
          "base_uri": "https://localhost:8080/"
        },
        "id": "ascsXBsJE41_",
        "outputId": "6fe651f5-ca51-4311-bebb-f62ca29267ad"
      },
      "source": [
        "proj_data = np.dot(sorted_normalized_df, projection_matrix)\n",
        "proj_data.shape"
      ],
      "execution_count": 49,
      "outputs": [
        {
          "output_type": "execute_result",
          "data": {
            "text/plain": [
              "(1000, 3)"
            ]
          },
          "metadata": {
            "tags": []
          },
          "execution_count": 49
        }
      ]
    },
    {
      "cell_type": "code",
      "metadata": {
        "colab": {
          "base_uri": "https://localhost:8080/",
          "height": 303
        },
        "id": "lswYgUBHhlhK",
        "outputId": "7e1ad32d-6c2b-41b0-db06-16ff336b9a47"
      },
      "source": [
        "sns.scatterplot(x = proj_data[:,0], y = proj_data[:, 1], hue = data[\"Risk\"])\n",
        "plt.xlabel(\"component 1\")\n",
        "plt.ylabel(\"component 2\")"
      ],
      "execution_count": 50,
      "outputs": [
        {
          "output_type": "execute_result",
          "data": {
            "text/plain": [
              "Text(0, 0.5, 'component 2')"
            ]
          },
          "metadata": {
            "tags": []
          },
          "execution_count": 50
        },
        {
          "output_type": "display_data",
          "data": {
            "image/png": "[encoded data removed]",
            "text/plain": [
              "<Figure size 432x288 with 1 Axes>"
            ]
          },
          "metadata": {
            "tags": [],
            "needs_background": "light"
          }
        }
      ]
    },
    {
      "cell_type": "markdown",
      "metadata": {
        "id": "RfOJcl-HE42A"
      },
      "source": [
        "<div dir=rtl>\n",
        "    ۲۵.(۵ نمره)\n",
        "    در این قسمت می‌خواهیم مقایسه‌ای بین tSNE و PCA داشت باشیم.\n",
        "    برای tSNE از scikit learn استفاده کنید و نیازی نیست که آنرا خودتان پیاده‌سازی کنید.\n",
        "    تبدیل X را با استفاده از tSNE با دو مولفه اصلی بدست بیاورید.\n",
        "    توجه کنید که tSNE پارامترهای مختلفی دارد که می‌توان با تنظیم آن‌ها به نتایج مختلفی رسید. در مورد انتخابتان برای این پارامترها توضیح دهید.\n",
        "</div>"
      ]
    },
    {
      "cell_type": "markdown",
      "metadata": {
        "id": "ZM-0HiW3IQh7"
      },
      "source": [
        "<div dir=rtl>\n",
        "پاسخ: \n",
        "ترجیح این بود که از میزان \n",
        "default\n",
        "این پارامترها استفاده کنم. و همچنین از میزان \n",
        "perplexity\n",
        "برابر 30 استفاده کردم که در هر مرحله 30 همسایه را در نظر بگیرد که برای تعداد 1000 داده معقول به نظر می‌رسد.\n",
        "</div>"
      ]
    },
    {
      "cell_type": "code",
      "metadata": {
        "id": "3Z7Gc3DGE42B"
      },
      "source": [
        "from sklearn.manifold import TSNE\n",
        "tsne = TSNE(n_components = 2, perplexity = 30, random_state = 0)\n",
        "tsne_result = tsne.fit_transform(normalized_df)"
      ],
      "execution_count": 62,
      "outputs": []
    },
    {
      "cell_type": "markdown",
      "metadata": {
        "id": "5zza1m3AE42D"
      },
      "source": [
        "<div dir=rtl>\n",
        "    ۲۶.(۵ نمره)\n",
        "    حال مانند کاری که در بخش ۲۴ کردید نمودار مربوط به این تبدیل را بکشید.\n",
        "    بطور خلاصه اگر توضیحی راجع به این دو نمودار دارید بنویسید.\n",
        "</div>"
      ]
    },
    {
      "cell_type": "code",
      "metadata": {
        "id": "CqqvL_v5E42E",
        "colab": {
          "base_uri": "https://localhost:8080/",
          "height": 303
        },
        "outputId": "8d058f9f-0f92-4c33-f4ba-c46fb43a6ff8"
      },
      "source": [
        "sns.scatterplot(x = tsne_result[:,0], y = tsne_result[:, 1], hue = data[\"Risk\"])\n",
        "plt.xlabel(\"component 1\")\n",
        "plt.ylabel(\"component 2\")"
      ],
      "execution_count": 63,
      "outputs": [
        {
          "output_type": "execute_result",
          "data": {
            "text/plain": [
              "Text(0, 0.5, 'component 2')"
            ]
          },
          "metadata": {
            "tags": []
          },
          "execution_count": 63
        },
        {
          "output_type": "display_data",
          "data": {
            "image/png": "[encoded data removed]",
            "text/plain": [
              "<Figure size 432x288 with 1 Axes>"
            ]
          },
          "metadata": {
            "tags": [],
            "needs_background": "light"
          }
        }
      ]
    }
  ]
}